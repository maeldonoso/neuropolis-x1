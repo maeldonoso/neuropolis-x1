{
 "cells": [
  {
   "cell_type": "markdown",
   "metadata": {},
   "source": [
    "# **Neuropolis-X1**\n",
    "### **Building an artificial intelligence system for human brain activity prediction (EEG, fMRI) with machine learning, deep learning, and large language models**\n",
    "\n",
    "#### Maël Donoso, Ouroboros Neurotechnologies (https://ouroboros-neurotechnologies.com/)\n",
    "*18th March 2025*"
   ]
  },
  {
   "cell_type": "markdown",
   "metadata": {},
   "source": [
    "This first extension (X1) of Neuropolis includes twelve Notebooks:\n",
    "\n",
    "*01: fMRI Preprocessing*\n",
    "\n",
    "*02: EEG Preprocessing*\n",
    "\n",
    "*03: Classification Models*\n",
    "\n",
    "*04: Regression Models*\n",
    "\n",
    "*05: Neural Networks*\n",
    "\n",
    "*06: Convolutional Neural Networks*\n",
    "\n",
    "*07: Recurrent Neural Networks*\n",
    "\n",
    "*08: Transformers*\n",
    "\n",
    "*09: Large Language Models*\n",
    "\n",
    "*10: Large Language Model Chain-of-Thought*\n",
    "\n",
    "***11: Large Language Model Fine-Tuning***\n",
    "\n",
    "*12: Large Multimodal Model*"
   ]
  },
  {
   "cell_type": "markdown",
   "metadata": {},
   "source": [
    "### Notebook 11\n",
    "\n",
    "# **Large Language Model Fine-Tuning**"
   ]
  },
  {
   "cell_type": "markdown",
   "metadata": {},
   "source": [
    "## **1. Region-Channel Mapping**\n",
    "\n",
    "We retrieve the **region-channel mapping**, associating each brain region to the EEG channel whose signal is most likely to provide relevant information regarding its fMRI activity. "
   ]
  },
  {
   "cell_type": "code",
   "execution_count": 1,
   "metadata": {},
   "outputs": [],
   "source": [
    "import numpy as np\n",
    "import pandas as pd\n",
    "import matplotlib.pyplot as plt\n",
    "%matplotlib inline\n",
    "import pickle\n",
    "import mne\n",
    "import torch\n",
    "from transformers import AutoModelForCausalLM, AutoTokenizer, TrainingArguments, DataCollatorForSeq2Seq, Trainer\n",
    "import datasets\n",
    "from peft import LoraConfig, get_peft_model"
   ]
  },
  {
   "cell_type": "code",
   "execution_count": 2,
   "metadata": {},
   "outputs": [],
   "source": [
    "# Define the raw data path. \n",
    "raw_data_path = '../../Neuropolis/ds002336-download/'\n",
    "\n",
    "# Define the preprocessed data path. \n",
    "preprocessed_data_path = '../neuropolis-x1_preprocessed_data/'\n",
    "\n",
    "# Define the fine-tuned model path. \n",
    "finetuned_model_path = '../neuropolis-x1_fine-tuned_models/'\n",
    "\n",
    "# Define the results path. \n",
    "results_path = '../neuropolis-x1_results/'"
   ]
  },
  {
   "cell_type": "code",
   "execution_count": 3,
   "metadata": {},
   "outputs": [],
   "source": [
    "# Load the features and the targets for the classification task. \n",
    "with open(preprocessed_data_path + 'dict_targets.p', 'rb') as file:\n",
    "    dict_targets = pickle.load(file)\n",
    "with open(preprocessed_data_path + 'classification/dict_features_classification_basis.p', 'rb') as file:\n",
    "    dict_features_basis_class = pickle.load(file)\n",
    "with open(preprocessed_data_path + 'classification/dict_targets_classification_basis.p', 'rb') as file:\n",
    "    dict_targets_basis_class = pickle.load(file)\n",
    "\n",
    "# Load the region-channel mapping. \n",
    "with open(results_path + 'region_channel_mapping.p', 'rb') as file:\n",
    "    region_channel_mapping = pickle.load(file)"
   ]
  },
  {
   "cell_type": "code",
   "execution_count": 4,
   "metadata": {},
   "outputs": [
    {
     "data": {
      "text/plain": [
       "200"
      ]
     },
     "execution_count": 4,
     "metadata": {},
     "output_type": "execute_result"
    }
   ],
   "source": [
    "# Define the list of subjects and an example subject. \n",
    "subjects = ['sub-xp1' + str(x).zfill(2) for x in range(1, 11)]\n",
    "subject = subjects[0]\n",
    "\n",
    "# Retrieve and display the total number of scans. \n",
    "nb_scans_total = dict_targets[subject]['eegfmriNF']['Frontal Pole'].shape[0]\n",
    "nb_scans_total"
   ]
  },
  {
   "cell_type": "code",
   "execution_count": 5,
   "metadata": {},
   "outputs": [
    {
     "name": "stdout",
     "output_type": "stream",
     "text": [
      "['Background', 'Frontal Pole', 'Insular Cortex', 'Superior Frontal Gyrus', 'Middle Frontal Gyrus', 'Inferior Frontal Gyrus, pars triangularis', 'Inferior Frontal Gyrus, pars opercularis', 'Precentral Gyrus', 'Temporal Pole', 'Superior Temporal Gyrus, anterior division', 'Superior Temporal Gyrus, posterior division', 'Middle Temporal Gyrus, anterior division', 'Middle Temporal Gyrus, posterior division', 'Middle Temporal Gyrus, temporooccipital part', 'Inferior Temporal Gyrus, anterior division', 'Inferior Temporal Gyrus, posterior division', 'Inferior Temporal Gyrus, temporooccipital part', 'Postcentral Gyrus', 'Superior Parietal Lobule', 'Supramarginal Gyrus, anterior division', 'Supramarginal Gyrus, posterior division', 'Angular Gyrus', 'Lateral Occipital Cortex, superior division', 'Lateral Occipital Cortex, inferior division', 'Intracalcarine Cortex', 'Frontal Medial Cortex', 'Juxtapositional Lobule Cortex (formerly Supplementary Motor Cortex)', 'Subcallosal Cortex', 'Paracingulate Gyrus', 'Cingulate Gyrus, anterior division', 'Cingulate Gyrus, posterior division', 'Precuneous Cortex', 'Cuneal Cortex', 'Frontal Orbital Cortex', 'Parahippocampal Gyrus, anterior division', 'Parahippocampal Gyrus, posterior division', 'Lingual Gyrus', 'Temporal Fusiform Cortex, anterior division', 'Temporal Fusiform Cortex, posterior division', 'Temporal Occipital Fusiform Cortex', 'Occipital Fusiform Gyrus', 'Frontal Opercular Cortex', 'Central Opercular Cortex', 'Parietal Opercular Cortex', 'Planum Polare', \"Heschl's Gyrus (includes H1 and H2)\", 'Planum Temporale', 'Supracalcarine Cortex', 'Occipital Pole']\n",
      "49 brain regions\n"
     ]
    }
   ],
   "source": [
    "# Retrieve the list of all targets. \n",
    "targets = list(dict_targets[subject]['eegfmriNF'].keys())\n",
    "\n",
    "# Display the brain region names and the number of brain regions. \n",
    "print(targets)\n",
    "print(len(targets), 'brain regions')"
   ]
  },
  {
   "cell_type": "code",
   "execution_count": 6,
   "metadata": {},
   "outputs": [
    {
     "name": "stdout",
     "output_type": "stream",
     "text": [
      "['Fp1', 'Fp2', 'F3', 'F4', 'C3', 'C4', 'P3', 'P4', 'O1', 'O2', 'F7', 'F8', 'T7', 'T8', 'P7', 'P8', 'Fz', 'Cz', 'Pz', 'Oz', 'FC1', 'FC2', 'CP1', 'CP2', 'FC5', 'FC6', 'CP5', 'CP6', 'TP9', 'TP10', 'POz', 'F1', 'F2', 'C1', 'C2', 'P1', 'P2', 'AF3', 'AF4', 'FC3', 'FC4', 'CP3', 'CP4', 'PO3', 'PO4', 'F5', 'F6', 'C5', 'C6', 'P5', 'P6', 'AF7', 'AF8', 'FT7', 'FT8', 'TP7', 'TP8', 'PO7', 'PO8', 'FT9', 'FT10', 'Fpz', 'CPz']\n",
      "63 channels\n"
     ]
    }
   ],
   "source": [
    "# Define the bandpower names. \n",
    "bandpower_names = ['Delta (1-4 Hz)', 'Theta (4-8 Hz)', 'Alpha (8-12 Hz)', 'Sigma (12-16 Hz)', 'Beta (16-30 Hz)', 'Gamma (30-40 Hz)']\n",
    "\n",
    "# Define the path of the header file (.vhdr) for this subject, for the eegfmriNF condition. \n",
    "vhdr_path = raw_data_path + 'derivatives/' + subject + '/eeg_pp/' + subject + '_task-eegfmriNF_eeg_pp.vhdr'\n",
    "\n",
    "# Load the EEG data using the MNE library, keeping error messages but suppressing warnings. \n",
    "channels_data = mne.io.read_raw_brainvision(vhdr_path, misc = ['ECG'], preload = True, verbose = 'ERROR')\n",
    "\n",
    "# Remove the ECG channel from the channel names. \n",
    "channel_names = channels_data.ch_names\n",
    "channel_names.remove('ECG')\n",
    "\n",
    "# Display the channel names and the number of channels. \n",
    "print(channel_names)\n",
    "print(len(channel_names), 'channels')"
   ]
  },
  {
   "cell_type": "code",
   "execution_count": 7,
   "metadata": {},
   "outputs": [
    {
     "data": {
      "text/plain": [
       "{'Frontal Pole': 'Fpz',\n",
       " 'Insular Cortex': 'T7',\n",
       " 'Superior Frontal Gyrus': 'Fz',\n",
       " 'Middle Frontal Gyrus': 'F3',\n",
       " 'Inferior Frontal Gyrus, pars triangularis': 'F7',\n",
       " 'Inferior Frontal Gyrus, pars opercularis': 'F7',\n",
       " 'Precentral Gyrus': 'C3',\n",
       " 'Temporal Pole': 'FT9',\n",
       " 'Superior Temporal Gyrus, anterior division': 'FT7',\n",
       " 'Superior Temporal Gyrus, posterior division': 'T7',\n",
       " 'Middle Temporal Gyrus, anterior division': 'T7',\n",
       " 'Middle Temporal Gyrus, posterior division': 'T7',\n",
       " 'Middle Temporal Gyrus, temporooccipital part': 'P7',\n",
       " 'Inferior Temporal Gyrus, anterior division': 'T7',\n",
       " 'Inferior Temporal Gyrus, posterior division': 'P7',\n",
       " 'Inferior Temporal Gyrus, temporooccipital part': 'PO7',\n",
       " 'Postcentral Gyrus': 'C3',\n",
       " 'Superior Parietal Lobule': 'Pz',\n",
       " 'Supramarginal Gyrus, anterior division': 'CP3',\n",
       " 'Supramarginal Gyrus, posterior division': 'P3',\n",
       " 'Angular Gyrus': 'P3',\n",
       " 'Lateral Occipital Cortex, superior division': 'PO3',\n",
       " 'Lateral Occipital Cortex, inferior division': 'O1',\n",
       " 'Intracalcarine Cortex': 'Oz',\n",
       " 'Frontal Medial Cortex': 'Fz',\n",
       " 'Juxtapositional Lobule Cortex (formerly Supplementary Motor Cortex)': 'Cz',\n",
       " 'Subcallosal Cortex': 'Fpz',\n",
       " 'Paracingulate Gyrus': 'Fz',\n",
       " 'Cingulate Gyrus, anterior division': 'Fz',\n",
       " 'Cingulate Gyrus, posterior division': 'Pz',\n",
       " 'Precuneous Cortex': 'Pz',\n",
       " 'Cuneal Cortex': 'Oz',\n",
       " 'Frontal Orbital Cortex': 'Fp1',\n",
       " 'Parahippocampal Gyrus, anterior division': 'FT9',\n",
       " 'Parahippocampal Gyrus, posterior division': 'TP9',\n",
       " 'Lingual Gyrus': 'Oz',\n",
       " 'Temporal Fusiform Cortex, anterior division': 'FT9',\n",
       " 'Temporal Fusiform Cortex, posterior division': 'TP9',\n",
       " 'Temporal Occipital Fusiform Cortex': 'PO7',\n",
       " 'Occipital Fusiform Gyrus': 'PO7',\n",
       " 'Frontal Opercular Cortex': 'FC5',\n",
       " 'Central Opercular Cortex': 'C3',\n",
       " 'Parietal Opercular Cortex': 'CP3',\n",
       " 'Planum Polare': 'FT7',\n",
       " \"Heschl's Gyrus (includes H1 and H2)\": 'T7',\n",
       " 'Planum Temporale': 'TP7',\n",
       " 'Supracalcarine Cortex': 'Oz',\n",
       " 'Occipital Pole': 'Oz'}"
      ]
     },
     "execution_count": 7,
     "metadata": {},
     "output_type": "execute_result"
    }
   ],
   "source": [
    "# Display the region-channel mapping. \n",
    "region_channel_mapping"
   ]
  },
  {
   "cell_type": "markdown",
   "metadata": {},
   "source": [
    "## **2. Gemma**\n",
    "\n",
    "We use the **Gemma-2-2B-IT large language model**, and select its hyperparameters in order to ensure a relative variety of responses. We define a prompt where we provide a sequence of EEG bandpower values, and ask the model to predict the corresponding fMRI activity. We run the large language model on the eegfmriNF condition of all subjects, for a selection of brain regions spanning both a reasonable fraction of the brain and a variety of cognitive functions. The large language model predicts the evolution of the fMRI signal with an accuracy slightly higher than the baseline. "
   ]
  },
  {
   "cell_type": "code",
   "execution_count": 8,
   "metadata": {},
   "outputs": [
    {
     "data": {
      "application/vnd.jupyter.widget-view+json": {
       "model_id": "39cf6e811bda4f27b69d178b47def2d8",
       "version_major": 2,
       "version_minor": 0
      },
      "text/plain": [
       "Loading checkpoint shards:   0%|          | 0/2 [00:00<?, ?it/s]"
      ]
     },
     "metadata": {},
     "output_type": "display_data"
    }
   ],
   "source": [
    "# Define the LLM to use. \n",
    "model_name = 'google/gemma-2-2b-it'\n",
    "\n",
    "# Load the tokenizer and the model. \n",
    "tokenizer_gemma = AutoTokenizer.from_pretrained(model_name)\n",
    "model_gemma = AutoModelForCausalLM.from_pretrained(model_name, torch_dtype = torch.float16, device_map = 'auto', attn_implementation = 'eager')"
   ]
  },
  {
   "cell_type": "code",
   "execution_count": 9,
   "metadata": {},
   "outputs": [],
   "source": [
    "# Define a function to create a LLM prompt with a sequence of bandpower values. \n",
    "def prompt_llm(X, fmri_scan_index, sequence_length, selected_bandpowers, selected_eeg_channel, selected_brain_region):\n",
    "\n",
    "    # Retrieve the sequence of features. \n",
    "    X_sequence = X[(fmri_scan_index - sequence_length):fmri_scan_index, :]\n",
    "\n",
    "    # Create the prompt. \n",
    "    bandpowers_results = ', '.join(\n",
    "        f\"{bandpower_names[bandpower_index]}: {X_sequence[:, bandpower_index]}\" for bandpower_index in selected_bandpowers\n",
    "    )\n",
    "    prompt = (\n",
    "        f\"A human subject participated in a neuroscience experiment where EEG data and fMRI data were recorded simultaneously. \"\n",
    "        f\"The EEG band powers were measured every two seconds at electrode {selected_eeg_channel}, \"\n",
    "        f\"with the following results: {bandpowers_results}. \"\n",
    "        f\"The fMRI BOLD signal was measured in the {selected_brain_region} during the last two seconds. \"\n",
    "        f\"Given the EEG data, is the fMRI signal in this brain region likely increasing or decreasing during these last two seconds? \"\n",
    "        f\"Base your answer on your general knowledge in neuroscience, EEG research, and fMRI research. \"\n",
    "        f\"Since this is a time series, you might need to take into account the hemodynamic response function (HRF), \"\n",
    "        f\"and the fact that after an event, the fMRI response is delayed compared to the EEG response. \"\n",
    "        f\"Please answer with only one word: Increasing or Decreasing. Just give your best prediction, without any explanation.\"\n",
    "    )\n",
    "\n",
    "    return prompt"
   ]
  },
  {
   "cell_type": "code",
   "execution_count": 10,
   "metadata": {},
   "outputs": [],
   "source": [
    "# Define a function to run a LLM. \n",
    "def run_llm(prompt, tokenizer, model):\n",
    "\n",
    "    # Run the LLM. \n",
    "    inputs = tokenizer(prompt, return_tensors = 'pt').to(model.device)\n",
    "    output = model.generate(**inputs, \n",
    "                            max_new_tokens = 20, \n",
    "                            temperature = 1.2, \n",
    "                            top_p = 0.9, \n",
    "                            top_k = 50, \n",
    "                            do_sample = True, \n",
    "                            repetition_penalty = 1)\n",
    "\n",
    "    # Decode the generated text, remove the original prompt, and return the answer. \n",
    "    generated_text = tokenizer.decode(output[0], skip_special_tokens = True)\n",
    "    answer_only = generated_text[len(prompt):].strip()\n",
    "    \n",
    "    return answer_only"
   ]
  },
  {
   "cell_type": "code",
   "execution_count": 11,
   "metadata": {},
   "outputs": [],
   "source": [
    "# Define a function to run a LLM multiple times. \n",
    "def run_llm_series(X, Y, fmri_scans, sequence_length, selected_bandpowers, selected_eeg_channel, selected_brain_region, tokenizer, model):\n",
    "\n",
    "    # Create the NumPy arrays to store the true values and predictions.     \n",
    "    Y_true = np.zeros(len(fmri_scans))\n",
    "    Y_pred = np.zeros(len(fmri_scans))\n",
    "    answers = []\n",
    "    counter = 0\n",
    "\n",
    "    # Iterate through all selected fMRI scans. \n",
    "    for fmri_scan_index in fmri_scans:\n",
    "\n",
    "        # Create the LLM prompt. \n",
    "        prompt = prompt_llm(X, \n",
    "                            fmri_scan_index = fmri_scan_index, \n",
    "                            sequence_length = sequence_length, \n",
    "                            selected_bandpowers = selected_bandpowers, \n",
    "                            selected_eeg_channel = selected_eeg_channel, \n",
    "                            selected_brain_region = selected_brain_region)\n",
    "        \n",
    "        # Run the LLM and store the result. \n",
    "        answer_only = run_llm(prompt, tokenizer, model)\n",
    "        answers.append(answer_only) # For debugging purposes. \n",
    "\n",
    "        # Analyze the answer. \n",
    "        increase_detected = 'increas' in answer_only.lower()\n",
    "        decrease_detected = 'decreas' in answer_only.lower()\n",
    "        if increase_detected and not decrease_detected:\n",
    "            Y_pred[counter] = 1\n",
    "        elif decrease_detected and not increase_detected:\n",
    "            Y_pred[counter] = 0\n",
    "        else:\n",
    "            Y_pred[counter] = -1\n",
    "\n",
    "        # Store the true value.\n",
    "        Y_true[counter] = Y[fmri_scan_index]\n",
    "\n",
    "        # Increment. \n",
    "        counter += 1\n",
    "\n",
    "    return Y_true, Y_pred"
   ]
  },
  {
   "cell_type": "code",
   "execution_count": 12,
   "metadata": {},
   "outputs": [
    {
     "name": "stdout",
     "output_type": "stream",
     "text": [
      "Frontal Pole\n",
      "sub-xp101: 1 ambiguous prediction(s) out of 20 - 5.0 %\n",
      "sub-xp102: 2 ambiguous prediction(s) out of 20 - 10.0 %\n",
      "sub-xp103: 0 ambiguous prediction(s) out of 20 - 0.0 %\n",
      "sub-xp104: 1 ambiguous prediction(s) out of 20 - 5.0 %\n",
      "sub-xp105: 0 ambiguous prediction(s) out of 20 - 0.0 %\n",
      "sub-xp106: 0 ambiguous prediction(s) out of 20 - 0.0 %\n",
      "sub-xp107: 0 ambiguous prediction(s) out of 20 - 0.0 %\n",
      "sub-xp108: 1 ambiguous prediction(s) out of 20 - 5.0 %\n",
      "sub-xp109: 0 ambiguous prediction(s) out of 20 - 0.0 %\n",
      "sub-xp110: 3 ambiguous prediction(s) out of 20 - 15.0 %\n",
      "Precentral Gyrus\n",
      "sub-xp101: 1 ambiguous prediction(s) out of 20 - 5.0 %\n",
      "sub-xp102: 0 ambiguous prediction(s) out of 20 - 0.0 %\n",
      "sub-xp103: 2 ambiguous prediction(s) out of 20 - 10.0 %\n",
      "sub-xp104: 1 ambiguous prediction(s) out of 20 - 5.0 %\n",
      "sub-xp105: 0 ambiguous prediction(s) out of 20 - 0.0 %\n",
      "sub-xp106: 0 ambiguous prediction(s) out of 20 - 0.0 %\n",
      "sub-xp107: 1 ambiguous prediction(s) out of 20 - 5.0 %\n",
      "sub-xp108: 2 ambiguous prediction(s) out of 20 - 10.0 %\n",
      "sub-xp109: 1 ambiguous prediction(s) out of 20 - 5.0 %\n",
      "sub-xp110: 1 ambiguous prediction(s) out of 20 - 5.0 %\n",
      "Superior Temporal Gyrus, posterior division\n",
      "sub-xp101: 1 ambiguous prediction(s) out of 20 - 5.0 %\n",
      "sub-xp102: 1 ambiguous prediction(s) out of 20 - 5.0 %\n",
      "sub-xp103: 1 ambiguous prediction(s) out of 20 - 5.0 %\n",
      "sub-xp104: 0 ambiguous prediction(s) out of 20 - 0.0 %\n",
      "sub-xp105: 0 ambiguous prediction(s) out of 20 - 0.0 %\n",
      "sub-xp106: 2 ambiguous prediction(s) out of 20 - 10.0 %\n",
      "sub-xp107: 2 ambiguous prediction(s) out of 20 - 10.0 %\n",
      "sub-xp108: 1 ambiguous prediction(s) out of 20 - 5.0 %\n",
      "sub-xp109: 1 ambiguous prediction(s) out of 20 - 5.0 %\n",
      "sub-xp110: 1 ambiguous prediction(s) out of 20 - 5.0 %\n",
      "Superior Parietal Lobule\n",
      "sub-xp101: 0 ambiguous prediction(s) out of 20 - 0.0 %\n",
      "sub-xp102: 3 ambiguous prediction(s) out of 20 - 15.0 %\n",
      "sub-xp103: 2 ambiguous prediction(s) out of 20 - 10.0 %\n",
      "sub-xp104: 1 ambiguous prediction(s) out of 20 - 5.0 %\n",
      "sub-xp105: 1 ambiguous prediction(s) out of 20 - 5.0 %\n",
      "sub-xp106: 2 ambiguous prediction(s) out of 20 - 10.0 %\n",
      "sub-xp107: 2 ambiguous prediction(s) out of 20 - 10.0 %\n",
      "sub-xp108: 0 ambiguous prediction(s) out of 20 - 0.0 %\n",
      "sub-xp109: 1 ambiguous prediction(s) out of 20 - 5.0 %\n",
      "sub-xp110: 0 ambiguous prediction(s) out of 20 - 0.0 %\n",
      "Occipital Pole\n",
      "sub-xp101: 2 ambiguous prediction(s) out of 20 - 10.0 %\n",
      "sub-xp102: 2 ambiguous prediction(s) out of 20 - 10.0 %\n",
      "sub-xp103: 1 ambiguous prediction(s) out of 20 - 5.0 %\n",
      "sub-xp104: 1 ambiguous prediction(s) out of 20 - 5.0 %\n",
      "sub-xp105: 0 ambiguous prediction(s) out of 20 - 0.0 %\n",
      "sub-xp106: 0 ambiguous prediction(s) out of 20 - 0.0 %\n",
      "sub-xp107: 1 ambiguous prediction(s) out of 20 - 5.0 %\n",
      "sub-xp108: 0 ambiguous prediction(s) out of 20 - 0.0 %\n",
      "sub-xp109: 0 ambiguous prediction(s) out of 20 - 0.0 %\n",
      "sub-xp110: 0 ambiguous prediction(s) out of 20 - 0.0 %\n"
     ]
    }
   ],
   "source": [
    "# Select the sequence length, bandpowers, condition, and brain regions. \n",
    "sequence_length = 5\n",
    "selected_bandpowers = [0, 1, 2, 4]\n",
    "condition = 'eegfmriNF'\n",
    "brain_regions = ['Frontal Pole', # High-order cognitive functions, but sometimes noisy EEG signal. \n",
    "                 'Precentral Gyrus', # Primary motor cortex. \n",
    "                 'Superior Temporal Gyrus, posterior division', # Auditory functions. \n",
    "                 'Superior Parietal Lobule', # Attention functions. \n",
    "                 'Occipital Pole'] # Primary visual cortex. \n",
    "\n",
    "# Define a Pandas DataFrame to store the accuracy. \n",
    "accuracy_summary_gemma_no_finetuning = pd.DataFrame(columns = brain_regions)\n",
    "\n",
    "# Iterate through all brain regions. \n",
    "for selected_brain_region in brain_regions:\n",
    "\n",
    "    # Display the current brain region. \n",
    "    print(selected_brain_region)\n",
    "\n",
    "    # Retrieve the EEG channel corresponding to the brain region. \n",
    "    selected_brain_region_index = list(targets).index(selected_brain_region)\n",
    "    selected_eeg_channel = region_channel_mapping[selected_brain_region]\n",
    "    selected_eeg_channel_index = channel_names.index(selected_eeg_channel)\n",
    "\n",
    "    # Iterate through all subjects. \n",
    "    for subject in subjects:\n",
    "        \n",
    "        # Retrieve the features for the selected subject, condition, and EEG channel. \n",
    "        X = dict_features_basis_class[subject][condition][:, (selected_eeg_channel_index * len(bandpower_names)):(selected_eeg_channel_index * len(bandpower_names)) + len(bandpower_names)]\n",
    "\n",
    "        # Retrieve the targets for the selected subject, condition, and fMRI brain region. \n",
    "        Y = dict_targets_basis_class[subject][condition][:, selected_brain_region_index]\n",
    "\n",
    "        # Run the LLM multiple times. \n",
    "        fmri_scans = range(5, (nb_scans_total - 1), 10) # Extensive search. \n",
    "        #fmri_scans = range(5, (nb_scans_total - 1), 100) # Quick search for debugging. \n",
    "        Y_true, Y_pred = run_llm_series(X, Y, fmri_scans, sequence_length, selected_bandpowers, selected_eeg_channel, selected_brain_region, tokenizer_gemma, model_gemma)\n",
    "\n",
    "        # Compute and store the average accuracy. \n",
    "        accuracy_array = Y_pred[Y_pred != -1] == Y_true[Y_pred != -1]\n",
    "        accuracy_sequence = np.sum(accuracy_array) / accuracy_array.shape[0]\n",
    "        accuracy_summary_gemma_no_finetuning.loc[subject, selected_brain_region] = accuracy_sequence\n",
    "\n",
    "        # Display the number of ambiguous predictions. \n",
    "        print(subject + ': ' + str(np.sum(Y_pred == -1)), 'ambiguous prediction(s) out of', len(Y_pred), '-', str(np.sum(Y_pred == -1) / len(Y_pred) * 100), '%')"
   ]
  },
  {
   "cell_type": "code",
   "execution_count": 13,
   "metadata": {},
   "outputs": [
    {
     "data": {
      "text/html": [
       "<div>\n",
       "<style scoped>\n",
       "    .dataframe tbody tr th:only-of-type {\n",
       "        vertical-align: middle;\n",
       "    }\n",
       "\n",
       "    .dataframe tbody tr th {\n",
       "        vertical-align: top;\n",
       "    }\n",
       "\n",
       "    .dataframe thead th {\n",
       "        text-align: right;\n",
       "    }\n",
       "</style>\n",
       "<table border=\"1\" class=\"dataframe\">\n",
       "  <thead>\n",
       "    <tr style=\"text-align: right;\">\n",
       "      <th></th>\n",
       "      <th>Frontal Pole</th>\n",
       "      <th>Precentral Gyrus</th>\n",
       "      <th>Superior Temporal Gyrus, posterior division</th>\n",
       "      <th>Superior Parietal Lobule</th>\n",
       "      <th>Occipital Pole</th>\n",
       "    </tr>\n",
       "  </thead>\n",
       "  <tbody>\n",
       "    <tr>\n",
       "      <th>sub-xp101</th>\n",
       "      <td>0.421053</td>\n",
       "      <td>0.684211</td>\n",
       "      <td>0.578947</td>\n",
       "      <td>0.65</td>\n",
       "      <td>0.666667</td>\n",
       "    </tr>\n",
       "    <tr>\n",
       "      <th>sub-xp102</th>\n",
       "      <td>0.611111</td>\n",
       "      <td>0.5</td>\n",
       "      <td>0.421053</td>\n",
       "      <td>0.647059</td>\n",
       "      <td>0.722222</td>\n",
       "    </tr>\n",
       "    <tr>\n",
       "      <th>sub-xp103</th>\n",
       "      <td>0.6</td>\n",
       "      <td>0.388889</td>\n",
       "      <td>0.631579</td>\n",
       "      <td>0.444444</td>\n",
       "      <td>0.631579</td>\n",
       "    </tr>\n",
       "    <tr>\n",
       "      <th>sub-xp104</th>\n",
       "      <td>0.526316</td>\n",
       "      <td>0.473684</td>\n",
       "      <td>0.35</td>\n",
       "      <td>0.736842</td>\n",
       "      <td>0.684211</td>\n",
       "    </tr>\n",
       "    <tr>\n",
       "      <th>sub-xp105</th>\n",
       "      <td>0.45</td>\n",
       "      <td>0.6</td>\n",
       "      <td>0.35</td>\n",
       "      <td>0.684211</td>\n",
       "      <td>0.45</td>\n",
       "    </tr>\n",
       "    <tr>\n",
       "      <th>sub-xp106</th>\n",
       "      <td>0.7</td>\n",
       "      <td>0.5</td>\n",
       "      <td>0.388889</td>\n",
       "      <td>0.666667</td>\n",
       "      <td>0.6</td>\n",
       "    </tr>\n",
       "    <tr>\n",
       "      <th>sub-xp107</th>\n",
       "      <td>0.65</td>\n",
       "      <td>0.631579</td>\n",
       "      <td>0.555556</td>\n",
       "      <td>0.333333</td>\n",
       "      <td>0.684211</td>\n",
       "    </tr>\n",
       "    <tr>\n",
       "      <th>sub-xp108</th>\n",
       "      <td>0.473684</td>\n",
       "      <td>0.388889</td>\n",
       "      <td>0.631579</td>\n",
       "      <td>0.65</td>\n",
       "      <td>0.8</td>\n",
       "    </tr>\n",
       "    <tr>\n",
       "      <th>sub-xp109</th>\n",
       "      <td>0.4</td>\n",
       "      <td>0.473684</td>\n",
       "      <td>0.526316</td>\n",
       "      <td>0.631579</td>\n",
       "      <td>0.45</td>\n",
       "    </tr>\n",
       "    <tr>\n",
       "      <th>sub-xp110</th>\n",
       "      <td>0.647059</td>\n",
       "      <td>0.578947</td>\n",
       "      <td>0.473684</td>\n",
       "      <td>0.6</td>\n",
       "      <td>0.45</td>\n",
       "    </tr>\n",
       "  </tbody>\n",
       "</table>\n",
       "</div>"
      ],
      "text/plain": [
       "          Frontal Pole Precentral Gyrus  \\\n",
       "sub-xp101     0.421053         0.684211   \n",
       "sub-xp102     0.611111              0.5   \n",
       "sub-xp103          0.6         0.388889   \n",
       "sub-xp104     0.526316         0.473684   \n",
       "sub-xp105         0.45              0.6   \n",
       "sub-xp106          0.7              0.5   \n",
       "sub-xp107         0.65         0.631579   \n",
       "sub-xp108     0.473684         0.388889   \n",
       "sub-xp109          0.4         0.473684   \n",
       "sub-xp110     0.647059         0.578947   \n",
       "\n",
       "          Superior Temporal Gyrus, posterior division  \\\n",
       "sub-xp101                                    0.578947   \n",
       "sub-xp102                                    0.421053   \n",
       "sub-xp103                                    0.631579   \n",
       "sub-xp104                                        0.35   \n",
       "sub-xp105                                        0.35   \n",
       "sub-xp106                                    0.388889   \n",
       "sub-xp107                                    0.555556   \n",
       "sub-xp108                                    0.631579   \n",
       "sub-xp109                                    0.526316   \n",
       "sub-xp110                                    0.473684   \n",
       "\n",
       "          Superior Parietal Lobule Occipital Pole  \n",
       "sub-xp101                     0.65       0.666667  \n",
       "sub-xp102                 0.647059       0.722222  \n",
       "sub-xp103                 0.444444       0.631579  \n",
       "sub-xp104                 0.736842       0.684211  \n",
       "sub-xp105                 0.684211           0.45  \n",
       "sub-xp106                 0.666667            0.6  \n",
       "sub-xp107                 0.333333       0.684211  \n",
       "sub-xp108                     0.65            0.8  \n",
       "sub-xp109                 0.631579           0.45  \n",
       "sub-xp110                      0.6           0.45  "
      ]
     },
     "execution_count": 13,
     "metadata": {},
     "output_type": "execute_result"
    }
   ],
   "source": [
    "# Display the accuracies per subject and brain region. \n",
    "accuracy_summary_gemma_no_finetuning"
   ]
  },
  {
   "cell_type": "code",
   "execution_count": 14,
   "metadata": {},
   "outputs": [
    {
     "data": {
      "image/png": "[encoded data removed]",
      "text/plain": [
       "<Figure size 1000x400 with 1 Axes>"
      ]
     },
     "metadata": {},
     "output_type": "display_data"
    }
   ],
   "source": [
    "# Retrieve the average accuracy across subjects, and the standard error of the accuracy across subjects. \n",
    "accuracy_mean = list(accuracy_summary_gemma_no_finetuning.mean().values)\n",
    "accuracy_mean.insert(0, 0.5) # Insert a baseline average of 0.5. \n",
    "accuracy_se = list(accuracy_summary_gemma_no_finetuning.std().values / np.sqrt(len(subjects)))\n",
    "accuracy_se.insert(0, 0) # Insert a baseline standard error of 0. \n",
    "\n",
    "# Append the total average accuracy and its standard error. \n",
    "nb_brain_regions = accuracy_summary_gemma_no_finetuning.shape[1]\n",
    "accuracy_mean.append(np.mean(accuracy_mean[1:]))\n",
    "accuracy_se.append(np.std(accuracy_mean[1:]) / (np.sqrt(len(subjects) * nb_brain_regions)))\n",
    "\n",
    "# Create the labels. \n",
    "labels = brain_regions.copy()\n",
    "labels.insert(0, 'Baseline')\n",
    "labels.append('Total')\n",
    "\n",
    "# Display the average accuracy and its standard error in a bar plot. \n",
    "fig, axes = plt.subplots(nrows = 1, ncols = 1, figsize = (10, 4))\n",
    "axes.bar(range(nb_brain_regions + 2), accuracy_mean, width = 0.6, color = ['green', *['blue'] * nb_brain_regions, 'mediumblue'])\n",
    "axes.errorbar(range(nb_brain_regions + 2), accuracy_mean, yerr = accuracy_se, fmt = 'None', color = 'black')\n",
    "axes.axhline(accuracy_mean[0], 0, 1, color = 'green', linestyle = 'dashed', alpha = 0.5)\n",
    "axes.set_xticks(range(nb_brain_regions + 2), labels = labels)\n",
    "axes.set_xticklabels(labels, rotation = 45, ha = 'right')\n",
    "axes.set_ylabel('Average accuracy across subjects')\n",
    "axes.set_title('Gemma-2-2B-IT without fine-tuning');"
   ]
  },
  {
   "cell_type": "markdown",
   "metadata": {},
   "source": [
    "## **3. Gemma Fine-Tuning**\n",
    "\n",
    "We **fine-tune** a separate instance of the **Gemma-2-2B-IT large language model** for each brain region of each subject, using input-output pairs obtained from the fmriNF session. This strategy turns out to give better results than fine-tuning either a single instance for all subjects and brain regions, or one instance per subject. However, since we are working with very few examples and only two targets (\"Increasing\" or \"Decreasing\"), the gradient updates can be very noisy. In this situation, the model can behave unexpectedly, producing empty outputs or oscillating between the two targets. We use gradient accumulation to ensure a more stable convergence, and a low learning rate to avoid catastrophic forgetting. Once the model is fine-tuned, we generate predictions for the eegfmriNF condition, and compare them with the predictions of the original model. The fine-tuned model does not predict the evolution of the fMRI signal significantly better than the original model. "
   ]
  },
  {
   "cell_type": "code",
   "execution_count": 15,
   "metadata": {},
   "outputs": [],
   "source": [
    "# Define the tokenize function. \n",
    "def tokenize_function(example):\n",
    "\n",
    "    # Tokenize inputs and labels. \n",
    "    input_encodings = tokenizer_gemma(example['input'], truncation = True, padding = 'max_length', max_length = 512)\n",
    "    label_encodings = tokenizer_gemma(example['output'], add_special_tokens = False, truncation = True, padding = 'max_length', max_length = 512)\n",
    "    \n",
    "    # Replace pad tokens with -100 in order to ignore them in the loss calculation, and remove the BOS token. \n",
    "    labels = label_encodings['input_ids']\n",
    "    labels = [label if label != tokenizer_gemma.pad_token_id else -100 for label in labels]\n",
    "    \n",
    "    # Return formatted data. \n",
    "    return {\n",
    "        'input_ids': input_encodings['input_ids'],\n",
    "        'attention_mask': input_encodings['attention_mask'],\n",
    "        'labels': labels\n",
    "    }"
   ]
  },
  {
   "cell_type": "code",
   "execution_count": 16,
   "metadata": {},
   "outputs": [],
   "source": [
    "# Define a function to replace pad tokens with ignore tokens. \n",
    "def replace_pad_with_ignore(labels, pad_token_id, ignore_index = -100):\n",
    "    return [ignore_index if token == pad_token_id else token for token in labels]"
   ]
  },
  {
   "cell_type": "code",
   "execution_count": 17,
   "metadata": {},
   "outputs": [
    {
     "name": "stdout",
     "output_type": "stream",
     "text": [
      "Frontal Pole\n",
      "sub-xp101\n",
      "{'train_runtime': 17.992, 'train_samples_per_second': 2.779, 'train_steps_per_second': 0.278, 'train_loss': 22.413232421875, 'epoch': 2.8}\n",
      "sub-xp102\n",
      "{'train_runtime': 17.7341, 'train_samples_per_second': 2.819, 'train_steps_per_second': 0.282, 'train_loss': 22.297296142578126, 'epoch': 2.8}\n",
      "sub-xp103\n",
      "{'train_runtime': 18.2565, 'train_samples_per_second': 2.739, 'train_steps_per_second': 0.274, 'train_loss': 22.346063232421876, 'epoch': 2.8}\n",
      "sub-xp104\n",
      "{'train_runtime': 18.4619, 'train_samples_per_second': 2.708, 'train_steps_per_second': 0.271, 'train_loss': 22.434469604492186, 'epoch': 2.8}\n",
      "sub-xp105\n",
      "{'train_runtime': 18.6784, 'train_samples_per_second': 2.677, 'train_steps_per_second': 0.268, 'train_loss': 22.421966552734375, 'epoch': 2.8}\n",
      "sub-xp106\n",
      "{'train_runtime': 19.6192, 'train_samples_per_second': 2.549, 'train_steps_per_second': 0.255, 'train_loss': 22.282708740234376, 'epoch': 2.8}\n",
      "sub-xp107\n",
      "{'train_runtime': 19.7888, 'train_samples_per_second': 2.527, 'train_steps_per_second': 0.253, 'train_loss': 22.356233215332033, 'epoch': 2.8}\n",
      "sub-xp108\n",
      "{'train_runtime': 20.0603, 'train_samples_per_second': 2.492, 'train_steps_per_second': 0.249, 'train_loss': 22.28687438964844, 'epoch': 2.8}\n",
      "sub-xp109\n",
      "{'train_runtime': 19.3727, 'train_samples_per_second': 2.581, 'train_steps_per_second': 0.258, 'train_loss': 22.418972778320313, 'epoch': 2.8}\n",
      "sub-xp110\n",
      "{'train_runtime': 18.9419, 'train_samples_per_second': 2.64, 'train_steps_per_second': 0.264, 'train_loss': 22.527365112304686, 'epoch': 2.8}\n",
      "Precentral Gyrus\n",
      "sub-xp101\n",
      "{'train_runtime': 18.6723, 'train_samples_per_second': 2.678, 'train_steps_per_second': 0.268, 'train_loss': 22.261915588378905, 'epoch': 2.8}\n",
      "sub-xp102\n",
      "{'train_runtime': 18.493, 'train_samples_per_second': 2.704, 'train_steps_per_second': 0.27, 'train_loss': 22.3106689453125, 'epoch': 2.8}\n",
      "sub-xp103\n",
      "{'train_runtime': 18.2546, 'train_samples_per_second': 2.739, 'train_steps_per_second': 0.274, 'train_loss': 22.350674438476563, 'epoch': 2.8}\n",
      "sub-xp104\n",
      "{'train_runtime': 18.1241, 'train_samples_per_second': 2.759, 'train_steps_per_second': 0.276, 'train_loss': 22.43430938720703, 'epoch': 2.8}\n",
      "sub-xp105\n",
      "{'train_runtime': 17.9935, 'train_samples_per_second': 2.779, 'train_steps_per_second': 0.278, 'train_loss': 22.257278442382812, 'epoch': 2.8}\n",
      "sub-xp106\n",
      "{'train_runtime': 17.9083, 'train_samples_per_second': 2.792, 'train_steps_per_second': 0.279, 'train_loss': 22.35157470703125, 'epoch': 2.8}\n",
      "sub-xp107\n",
      "{'train_runtime': 17.8548, 'train_samples_per_second': 2.8, 'train_steps_per_second': 0.28, 'train_loss': 22.336270141601563, 'epoch': 2.8}\n",
      "sub-xp108\n",
      "{'train_runtime': 17.8063, 'train_samples_per_second': 2.808, 'train_steps_per_second': 0.281, 'train_loss': 22.33899841308594, 'epoch': 2.8}\n",
      "sub-xp109\n",
      "{'train_runtime': 17.7443, 'train_samples_per_second': 2.818, 'train_steps_per_second': 0.282, 'train_loss': 22.479957580566406, 'epoch': 2.8}\n",
      "sub-xp110\n",
      "{'train_runtime': 17.6692, 'train_samples_per_second': 2.83, 'train_steps_per_second': 0.283, 'train_loss': 22.410188293457033, 'epoch': 2.8}\n",
      "Superior Temporal Gyrus, posterior division\n",
      "sub-xp101\n",
      "{'train_runtime': 17.6368, 'train_samples_per_second': 2.835, 'train_steps_per_second': 0.283, 'train_loss': 22.347811889648437, 'epoch': 2.8}\n",
      "sub-xp102\n",
      "{'train_runtime': 17.5452, 'train_samples_per_second': 2.85, 'train_steps_per_second': 0.285, 'train_loss': 22.347148132324218, 'epoch': 2.8}\n",
      "sub-xp103\n",
      "{'train_runtime': 17.5289, 'train_samples_per_second': 2.852, 'train_steps_per_second': 0.285, 'train_loss': 22.370748901367186, 'epoch': 2.8}\n",
      "sub-xp104\n",
      "{'train_runtime': 17.5506, 'train_samples_per_second': 2.849, 'train_steps_per_second': 0.285, 'train_loss': 22.387113952636717, 'epoch': 2.8}\n",
      "sub-xp105\n",
      "{'train_runtime': 17.4922, 'train_samples_per_second': 2.858, 'train_steps_per_second': 0.286, 'train_loss': 22.485685729980467, 'epoch': 2.8}\n",
      "sub-xp106\n",
      "{'train_runtime': 17.5237, 'train_samples_per_second': 2.853, 'train_steps_per_second': 0.285, 'train_loss': 22.25987091064453, 'epoch': 2.8}\n",
      "sub-xp107\n",
      "{'train_runtime': 17.5006, 'train_samples_per_second': 2.857, 'train_steps_per_second': 0.286, 'train_loss': 22.337753295898438, 'epoch': 2.8}\n",
      "sub-xp108\n",
      "{'train_runtime': 17.5018, 'train_samples_per_second': 2.857, 'train_steps_per_second': 0.286, 'train_loss': 22.327915954589844, 'epoch': 2.8}\n",
      "sub-xp109\n",
      "{'train_runtime': 17.4988, 'train_samples_per_second': 2.857, 'train_steps_per_second': 0.286, 'train_loss': 22.336764526367187, 'epoch': 2.8}\n",
      "sub-xp110\n",
      "{'train_runtime': 17.4945, 'train_samples_per_second': 2.858, 'train_steps_per_second': 0.286, 'train_loss': 22.437637329101562, 'epoch': 2.8}\n",
      "Superior Parietal Lobule\n",
      "sub-xp101\n",
      "{'train_runtime': 17.5003, 'train_samples_per_second': 2.857, 'train_steps_per_second': 0.286, 'train_loss': 22.262210083007812, 'epoch': 2.8}\n",
      "sub-xp102\n",
      "{'train_runtime': 17.4885, 'train_samples_per_second': 2.859, 'train_steps_per_second': 0.286, 'train_loss': 22.2849609375, 'epoch': 2.8}\n",
      "sub-xp103\n",
      "{'train_runtime': 17.4985, 'train_samples_per_second': 2.857, 'train_steps_per_second': 0.286, 'train_loss': 22.341340637207033, 'epoch': 2.8}\n",
      "sub-xp104\n",
      "{'train_runtime': 17.4961, 'train_samples_per_second': 2.858, 'train_steps_per_second': 0.286, 'train_loss': 22.426229858398436, 'epoch': 2.8}\n",
      "sub-xp105\n",
      "{'train_runtime': 17.4694, 'train_samples_per_second': 2.862, 'train_steps_per_second': 0.286, 'train_loss': 22.340972900390625, 'epoch': 2.8}\n",
      "sub-xp106\n",
      "{'train_runtime': 17.4662, 'train_samples_per_second': 2.863, 'train_steps_per_second': 0.286, 'train_loss': 22.338975524902345, 'epoch': 2.8}\n",
      "sub-xp107\n",
      "{'train_runtime': 17.4626, 'train_samples_per_second': 2.863, 'train_steps_per_second': 0.286, 'train_loss': 22.319766235351562, 'epoch': 2.8}\n",
      "sub-xp108\n",
      "{'train_runtime': 17.4952, 'train_samples_per_second': 2.858, 'train_steps_per_second': 0.286, 'train_loss': 22.34334716796875, 'epoch': 2.8}\n",
      "sub-xp109\n",
      "{'train_runtime': 17.4839, 'train_samples_per_second': 2.86, 'train_steps_per_second': 0.286, 'train_loss': 22.43245086669922, 'epoch': 2.8}\n",
      "sub-xp110\n",
      "{'train_runtime': 17.4795, 'train_samples_per_second': 2.86, 'train_steps_per_second': 0.286, 'train_loss': 22.575611877441407, 'epoch': 2.8}\n",
      "Occipital Pole\n",
      "sub-xp101\n",
      "{'train_runtime': 17.4681, 'train_samples_per_second': 2.862, 'train_steps_per_second': 0.286, 'train_loss': 22.385713195800783, 'epoch': 2.8}\n",
      "sub-xp102\n",
      "{'train_runtime': 17.4722, 'train_samples_per_second': 2.862, 'train_steps_per_second': 0.286, 'train_loss': 22.281585693359375, 'epoch': 2.8}\n",
      "sub-xp103\n",
      "{'train_runtime': 17.4762, 'train_samples_per_second': 2.861, 'train_steps_per_second': 0.286, 'train_loss': 22.270233154296875, 'epoch': 2.8}\n",
      "sub-xp104\n",
      "{'train_runtime': 17.4821, 'train_samples_per_second': 2.86, 'train_steps_per_second': 0.286, 'train_loss': 22.44058837890625, 'epoch': 2.8}\n",
      "sub-xp105\n",
      "{'train_runtime': 17.5399, 'train_samples_per_second': 2.851, 'train_steps_per_second': 0.285, 'train_loss': 22.307505798339843, 'epoch': 2.8}\n",
      "sub-xp106\n",
      "{'train_runtime': 17.6141, 'train_samples_per_second': 2.839, 'train_steps_per_second': 0.284, 'train_loss': 22.425750732421875, 'epoch': 2.8}\n",
      "sub-xp107\n",
      "{'train_runtime': 17.5472, 'train_samples_per_second': 2.849, 'train_steps_per_second': 0.285, 'train_loss': 22.46806182861328, 'epoch': 2.8}\n",
      "sub-xp108\n",
      "{'train_runtime': 17.5325, 'train_samples_per_second': 2.852, 'train_steps_per_second': 0.285, 'train_loss': 22.32683410644531, 'epoch': 2.8}\n",
      "sub-xp109\n",
      "{'train_runtime': 17.5483, 'train_samples_per_second': 2.849, 'train_steps_per_second': 0.285, 'train_loss': 22.447764587402343, 'epoch': 2.8}\n",
      "sub-xp110\n",
      "{'train_runtime': 17.5586, 'train_samples_per_second': 2.848, 'train_steps_per_second': 0.285, 'train_loss': 22.40424346923828, 'epoch': 2.8}\n"
     ]
    }
   ],
   "source": [
    "# Define a dictionary to store the fine-tuned models. \n",
    "finetuned_models = dict()\n",
    "\n",
    "# Select the sequence length, bandpowers, condition, and brain regions. \n",
    "sequence_length = 5\n",
    "selected_bandpowers = [0, 1, 2, 4]\n",
    "condition = 'fmriNF'\n",
    "brain_regions = ['Frontal Pole', # High-order cognitive functions, but sometimes noisy EEG signal. \n",
    "                 'Precentral Gyrus', # Primary motor cortex. \n",
    "                 'Superior Temporal Gyrus, posterior division', # Auditory functions. \n",
    "                 'Superior Parietal Lobule', # Attention functions. \n",
    "                 'Occipital Pole'] # Primary visual cortex. \n",
    "\n",
    "# Iterate through all brain regions. \n",
    "for selected_brain_region in brain_regions:\n",
    "\n",
    "    # Display the current brain region. \n",
    "    print(selected_brain_region)\n",
    "\n",
    "    # Retrieve the EEG channel corresponding to the brain region. \n",
    "    selected_brain_region_index = list(targets).index(selected_brain_region)\n",
    "    selected_eeg_channel = region_channel_mapping[selected_brain_region]\n",
    "    selected_eeg_channel_index = channel_names.index(selected_eeg_channel)\n",
    "\n",
    "    # Define a dictionary at the level of brain regions. \n",
    "    finetuned_models[selected_brain_region] = dict()\n",
    "\n",
    "    # Iterate through all subjects. \n",
    "    for subject in subjects:\n",
    "\n",
    "        # Display the current subject. \n",
    "        print(subject)\n",
    "\n",
    "        # Define the train data list for fine-tuning. \n",
    "        train_data = []\n",
    "\n",
    "        # PROMPT GENERATION ==========================================================================================\n",
    "                                \n",
    "        # Retrieve the features for the selected subject, condition, and EEG channel. \n",
    "        X = dict_features_basis_class[subject][condition][:, (selected_eeg_channel_index * len(bandpower_names)):(selected_eeg_channel_index * len(bandpower_names)) + len(bandpower_names)]\n",
    "\n",
    "        # Retrieve the targets for the selected subject, condition, and fMRI brain region. \n",
    "        Y = dict_targets_basis_class[subject][condition][:, selected_brain_region_index]\n",
    "\n",
    "        # Select the fMRI scans to use. \n",
    "        fmri_scans = range(5, (nb_scans_total - 1), 20) # Extensive search. Do not select more scans than this to avoid overfitting issues. \n",
    "        #fmri_scans = range(5, (nb_scans_total - 1), 100) # Quick search for debugging. \n",
    "\n",
    "        # Iterate through all selected fMRI scans. \n",
    "        for fmri_scan_index in fmri_scans:\n",
    "\n",
    "            # Create the LLM prompt. \n",
    "            prompt = prompt_llm(X, \n",
    "                                fmri_scan_index = fmri_scan_index, \n",
    "                                sequence_length = sequence_length, \n",
    "                                selected_bandpowers = selected_bandpowers, \n",
    "                                selected_eeg_channel = selected_eeg_channel, \n",
    "                                selected_brain_region = selected_brain_region)\n",
    "            \n",
    "            # Retrieve the correct answer. \n",
    "            if Y[fmri_scan_index] == 1:\n",
    "                answer = 'increasing'\n",
    "            else:\n",
    "                answer = 'decreasing'\n",
    "\n",
    "            # Append the prompt and the answer to the train data list. \n",
    "            train_data.append({'input': prompt, 'output': answer})\n",
    "\n",
    "        # FINE-TUNING =================================================================================================\n",
    "        \n",
    "        # Tokenize the dataset, and replace pad tokens by ignore tokens. \n",
    "        datasets.disable_progress_bar()\n",
    "        dataset = datasets.Dataset.from_list(train_data)\n",
    "        dataset = dataset.map(tokenize_function, batched = True)\n",
    "        dataset = dataset.map(lambda example: {'labels': replace_pad_with_ignore(example['labels'], pad_token_id = 0)})\n",
    "\n",
    "        # Define the LoRA configuration. \n",
    "        lora_config = LoraConfig(\n",
    "            r = 16, lora_alpha = 32, target_modules = ['q_proj', 'v_proj'], lora_dropout = 0.1, bias = 'none', task_type = 'CAUSAL_LM'\n",
    "        )\n",
    "\n",
    "        # Create a new instance of the model with the LoRA configuration. \n",
    "        model_gemma_finetuned = get_peft_model(model_gemma, lora_config)\n",
    "\n",
    "        # Define the training arguments. \n",
    "        training_args = TrainingArguments(\n",
    "            output_dir = finetuned_model_path, \n",
    "            per_device_train_batch_size = 1, \n",
    "            gradient_accumulation_steps = 8, \n",
    "            learning_rate = 1e-5, \n",
    "            weight_decay = 0.01, \n",
    "            num_train_epochs = 5, \n",
    "            save_strategy = 'no', \n",
    "            logging_strategy = 'no', \n",
    "            disable_tqdm = True, \n",
    "            label_names = ['labels']\n",
    "        )\n",
    "\n",
    "        # Define the data collator. \n",
    "        data_collator = DataCollatorForSeq2Seq(tokenizer_gemma, padding = True, label_pad_token_id = -100)\n",
    "\n",
    "        # Define the trainer. \n",
    "        trainer = Trainer(\n",
    "            model = model_gemma_finetuned, \n",
    "            args = training_args, \n",
    "            train_dataset = dataset, \n",
    "            data_collator = data_collator\n",
    "        )\n",
    "\n",
    "        # Fine-tune and save the model. \n",
    "        trainer.train()\n",
    "        trainer.save_model(finetuned_model_path + 'gemma-2-2b-it_' + subject + '_' + selected_brain_region.replace(' ', '_'))\n",
    "\n",
    "        # Store the fine-tuned model in the dictionary. \n",
    "        finetuned_models[selected_brain_region][subject] = model_gemma_finetuned"
   ]
  },
  {
   "cell_type": "code",
   "execution_count": 18,
   "metadata": {},
   "outputs": [
    {
     "data": {
      "text/plain": [
       "Dataset({\n",
       "    features: ['input', 'output', 'input_ids', 'attention_mask', 'labels'],\n",
       "    num_rows: 10\n",
       "})"
      ]
     },
     "execution_count": 18,
     "metadata": {},
     "output_type": "execute_result"
    }
   ],
   "source": [
    "# Display the Dataset object. \n",
    "dataset"
   ]
  },
  {
   "cell_type": "code",
   "execution_count": 19,
   "metadata": {},
   "outputs": [
    {
     "name": "stdout",
     "output_type": "stream",
     "text": [
      "Input: A human subject participated in a neuroscience experiment where EEG data and fMRI data were recorded simultaneously. The EEG band powers were measured every two seconds at electrode Oz, with the following results: Delta (1-4 Hz): [ 1.35897687 -0.69466493 -0.2598298  -0.32184517  0.65120589], Theta (4-8 Hz): [-0.38139792 -0.95169015 -1.03299083 -0.10707637 -0.03116712], Alpha (8-12 Hz): [ 0.38394683  0.95835982  0.89268672 -0.66829043 -0.88954599], Beta (16-30 Hz): [-1.33221921  0.3676267  -0.68094793 -1.21691632  0.39893864]. The fMRI BOLD signal was measured in the Occipital Pole during the last two seconds. Given the EEG data, is the fMRI signal in this brain region likely increasing or decreasing during these last two seconds? Base your answer on your general knowledge in neuroscience, EEG research, and fMRI research. Since this is a time series, you might need to take into account the hemodynamic response function (HRF), and the fact that after an event, the fMRI response is delayed compared to the EEG response. Please answer with only one word: Increasing or Decreasing. Just give your best prediction, without any explanation.\n",
      "Output: decreasing\n"
     ]
    }
   ],
   "source": [
    "# Display an example of input and output. \n",
    "print('Input:', dataset['input'][0])\n",
    "print('Output:', dataset['output'][0])"
   ]
  },
  {
   "cell_type": "code",
   "execution_count": 20,
   "metadata": {},
   "outputs": [
    {
     "name": "stdout",
     "output_type": "stream",
     "text": [
      "The first input tokens should be zero given the left padding. The last input tokens should be non-zero.\n",
      "\n",
      "First input tokens: [0, 0, 0, 0, 0, 0, 0, 0, 0, 0]\n",
      "Last input tokens: [6372, 2734, 861, 1963, 25166, 235269, 2346, 1089, 15844, 235265]\n"
     ]
    }
   ],
   "source": [
    "# Display the first and last input tokens. \n",
    "print('The first input tokens should be zero given the left padding. The last input tokens should be non-zero.')\n",
    "print('\\nFirst input tokens:', dataset['input_ids'][0][0:10])\n",
    "print('Last input tokens:', dataset['input_ids'][0][-10:])"
   ]
  },
  {
   "cell_type": "code",
   "execution_count": 21,
   "metadata": {},
   "outputs": [
    {
     "name": "stdout",
     "output_type": "stream",
     "text": [
      "The attention mask values should be zero for the padding tokens and one for the non-padding tokens.\n"
     ]
    },
    {
     "data": {
      "image/png": "[encoded data removed]",
      "text/plain": [
       "<Figure size 500x300 with 1 Axes>"
      ]
     },
     "metadata": {},
     "output_type": "display_data"
    }
   ],
   "source": [
    "# Plot the attention mask values. \n",
    "print('The attention mask values should be zero for the padding tokens and one for the non-padding tokens.')\n",
    "plt.figure(figsize=(5, 3))\n",
    "plt.plot(dataset['attention_mask'][0]);"
   ]
  },
  {
   "cell_type": "code",
   "execution_count": 22,
   "metadata": {},
   "outputs": [
    {
     "name": "stdout",
     "output_type": "stream",
     "text": [
      "The label values should be -100 (the ignore token) for all positions except the last one.\n"
     ]
    },
    {
     "data": {
      "text/plain": [
       "-100       511\n",
       " 202912      1\n",
       "Name: count, dtype: int64"
      ]
     },
     "execution_count": 22,
     "metadata": {},
     "output_type": "execute_result"
    }
   ],
   "source": [
    "# Display the label values. \n",
    "print('The label values should be -100 (the ignore token) for all positions except the last one.')\n",
    "pd.Series(dataset['labels'][0]).value_counts()"
   ]
  },
  {
   "cell_type": "code",
   "execution_count": 23,
   "metadata": {},
   "outputs": [
    {
     "name": "stdout",
     "output_type": "stream",
     "text": [
      "Last label: 202912\n",
      "Last label decoded: decreasing\n"
     ]
    }
   ],
   "source": [
    "# Display the last label value. \n",
    "last_label = dataset['labels'][0][-1]\n",
    "print('Last label:', last_label)\n",
    "print('Last label decoded:', tokenizer_gemma.decode([last_label]))"
   ]
  },
  {
   "cell_type": "code",
   "execution_count": 24,
   "metadata": {},
   "outputs": [
    {
     "name": "stdout",
     "output_type": "stream",
     "text": [
      "Brain region: Frontal Pole\n",
      "Brain region index: 1\n",
      "EEG channel: Fpz\n",
      "EEG channel index: 61\n"
     ]
    }
   ],
   "source": [
    "# Select a subject and a condition. \n",
    "subject = 'sub-xp101'\n",
    "condition = 'eegfmriNF'\n",
    "\n",
    "# Select a fMRI brain region and retrieve its corresponding EEG channel. \n",
    "selected_brain_region = 'Frontal Pole'\n",
    "selected_brain_region_index = list(targets).index(selected_brain_region)\n",
    "selected_eeg_channel = region_channel_mapping[selected_brain_region]\n",
    "selected_eeg_channel_index = channel_names.index(selected_eeg_channel)\n",
    "\n",
    "# Display the fMRI brain region and its corresponding EEG channel. \n",
    "print('Brain region:', selected_brain_region)\n",
    "print('Brain region index:', int(selected_brain_region_index))\n",
    "print('EEG channel:', selected_eeg_channel)\n",
    "print('EEG channel index:', int(selected_eeg_channel_index))"
   ]
  },
  {
   "cell_type": "code",
   "execution_count": 25,
   "metadata": {},
   "outputs": [
    {
     "data": {
      "text/plain": [
       "'A human subject participated in a neuroscience experiment where EEG data and fMRI data were recorded simultaneously. The EEG band powers were measured every two seconds at electrode Fpz, with the following results: Delta (1-4 Hz): [-0.22278232  0.64400346  1.11835758 -1.24585523 -0.13343407], Theta (4-8 Hz): [ 0.3256324  -0.68492586 -0.96076972  0.99095653 -0.37529182], Alpha (8-12 Hz): [-0.40537466 -0.04844749 -0.69866725  0.40412502  1.11390381], Beta (16-30 Hz): [ 0.55265258 -0.03498027 -0.91193884  1.92475433  1.92719948]. The fMRI BOLD signal was measured in the Frontal Pole during the last two seconds. Given the EEG data, is the fMRI signal in this brain region likely increasing or decreasing during these last two seconds? Base your answer on your general knowledge in neuroscience, EEG research, and fMRI research. Since this is a time series, you might need to take into account the hemodynamic response function (HRF), and the fact that after an event, the fMRI response is delayed compared to the EEG response. Please answer with only one word: Increasing or Decreasing. Just give your best prediction, without any explanation.'"
      ]
     },
     "execution_count": 25,
     "metadata": {},
     "output_type": "execute_result"
    }
   ],
   "source": [
    "# Retrieve the features for the selected subject, condition, and EEG channel. \n",
    "X = dict_features_basis_class[subject][condition][:, (selected_eeg_channel_index * len(bandpower_names)):(selected_eeg_channel_index * len(bandpower_names)) + len(bandpower_names)]\n",
    "\n",
    "# Retrieve the targets for the selected subject, condition, and fMRI brain region. \n",
    "Y = dict_targets_basis_class[subject][condition][:, selected_brain_region_index]\n",
    "\n",
    "# Select the sequence length and the bandpowers. \n",
    "sequence_length = 5\n",
    "selected_bandpowers = [0, 1, 2, 4]\n",
    "\n",
    "# Create the LLM prompt. \n",
    "prompt = prompt_llm(X, \n",
    "                    fmri_scan_index = 5, \n",
    "                    sequence_length = sequence_length, \n",
    "                    selected_bandpowers = selected_bandpowers, \n",
    "                    selected_eeg_channel = selected_eeg_channel, \n",
    "                    selected_brain_region = selected_brain_region)\n",
    "prompt"
   ]
  },
  {
   "cell_type": "code",
   "execution_count": 26,
   "metadata": {},
   "outputs": [
    {
     "data": {
      "text/plain": [
       "'Decreasing'"
      ]
     },
     "execution_count": 26,
     "metadata": {},
     "output_type": "execute_result"
    }
   ],
   "source": [
    "# Run the LLM once, and display the result. \n",
    "model_gemma_finetuned = finetuned_models[selected_brain_region][subject]\n",
    "answer_only = run_llm(prompt, tokenizer_gemma, model_gemma_finetuned)\n",
    "answer_only"
   ]
  },
  {
   "cell_type": "code",
   "execution_count": 27,
   "metadata": {},
   "outputs": [
    {
     "name": "stdout",
     "output_type": "stream",
     "text": [
      "Frontal Pole\n",
      "sub-xp101: 1 ambiguous prediction(s) out of 20 - 5.0 %\n",
      "sub-xp102: 3 ambiguous prediction(s) out of 20 - 15.0 %\n",
      "sub-xp103: 0 ambiguous prediction(s) out of 20 - 0.0 %\n",
      "sub-xp104: 4 ambiguous prediction(s) out of 20 - 20.0 %\n",
      "sub-xp105: 0 ambiguous prediction(s) out of 20 - 0.0 %\n",
      "sub-xp106: 0 ambiguous prediction(s) out of 20 - 0.0 %\n",
      "sub-xp107: 2 ambiguous prediction(s) out of 20 - 10.0 %\n",
      "sub-xp108: 2 ambiguous prediction(s) out of 20 - 10.0 %\n",
      "sub-xp109: 0 ambiguous prediction(s) out of 20 - 0.0 %\n",
      "sub-xp110: 1 ambiguous prediction(s) out of 20 - 5.0 %\n",
      "Precentral Gyrus\n",
      "sub-xp101: 0 ambiguous prediction(s) out of 20 - 0.0 %\n",
      "sub-xp102: 0 ambiguous prediction(s) out of 20 - 0.0 %\n",
      "sub-xp103: 0 ambiguous prediction(s) out of 20 - 0.0 %\n",
      "sub-xp104: 0 ambiguous prediction(s) out of 20 - 0.0 %\n",
      "sub-xp105: 0 ambiguous prediction(s) out of 20 - 0.0 %\n",
      "sub-xp106: 2 ambiguous prediction(s) out of 20 - 10.0 %\n",
      "sub-xp107: 1 ambiguous prediction(s) out of 20 - 5.0 %\n",
      "sub-xp108: 0 ambiguous prediction(s) out of 20 - 0.0 %\n",
      "sub-xp109: 0 ambiguous prediction(s) out of 20 - 0.0 %\n",
      "sub-xp110: 0 ambiguous prediction(s) out of 20 - 0.0 %\n",
      "Superior Temporal Gyrus, posterior division\n",
      "sub-xp101: 3 ambiguous prediction(s) out of 20 - 15.0 %\n",
      "sub-xp102: 0 ambiguous prediction(s) out of 20 - 0.0 %\n",
      "sub-xp103: 0 ambiguous prediction(s) out of 20 - 0.0 %\n",
      "sub-xp104: 1 ambiguous prediction(s) out of 20 - 5.0 %\n",
      "sub-xp105: 2 ambiguous prediction(s) out of 20 - 10.0 %\n",
      "sub-xp106: 1 ambiguous prediction(s) out of 20 - 5.0 %\n",
      "sub-xp107: 0 ambiguous prediction(s) out of 20 - 0.0 %\n",
      "sub-xp108: 4 ambiguous prediction(s) out of 20 - 20.0 %\n",
      "sub-xp109: 1 ambiguous prediction(s) out of 20 - 5.0 %\n",
      "sub-xp110: 1 ambiguous prediction(s) out of 20 - 5.0 %\n",
      "Superior Parietal Lobule\n",
      "sub-xp101: 1 ambiguous prediction(s) out of 20 - 5.0 %\n",
      "sub-xp102: 0 ambiguous prediction(s) out of 20 - 0.0 %\n",
      "sub-xp103: 2 ambiguous prediction(s) out of 20 - 10.0 %\n",
      "sub-xp104: 2 ambiguous prediction(s) out of 20 - 10.0 %\n",
      "sub-xp105: 1 ambiguous prediction(s) out of 20 - 5.0 %\n",
      "sub-xp106: 1 ambiguous prediction(s) out of 20 - 5.0 %\n",
      "sub-xp107: 0 ambiguous prediction(s) out of 20 - 0.0 %\n",
      "sub-xp108: 2 ambiguous prediction(s) out of 20 - 10.0 %\n",
      "sub-xp109: 1 ambiguous prediction(s) out of 20 - 5.0 %\n",
      "sub-xp110: 1 ambiguous prediction(s) out of 20 - 5.0 %\n",
      "Occipital Pole\n",
      "sub-xp101: 0 ambiguous prediction(s) out of 20 - 0.0 %\n",
      "sub-xp102: 1 ambiguous prediction(s) out of 20 - 5.0 %\n",
      "sub-xp103: 0 ambiguous prediction(s) out of 20 - 0.0 %\n",
      "sub-xp104: 0 ambiguous prediction(s) out of 20 - 0.0 %\n",
      "sub-xp105: 2 ambiguous prediction(s) out of 20 - 10.0 %\n",
      "sub-xp106: 1 ambiguous prediction(s) out of 20 - 5.0 %\n",
      "sub-xp107: 1 ambiguous prediction(s) out of 20 - 5.0 %\n",
      "sub-xp108: 3 ambiguous prediction(s) out of 20 - 15.0 %\n",
      "sub-xp109: 2 ambiguous prediction(s) out of 20 - 10.0 %\n",
      "sub-xp110: 2 ambiguous prediction(s) out of 20 - 10.0 %\n"
     ]
    }
   ],
   "source": [
    "# Select the sequence length, bandpowers, condition, and brain regions. \n",
    "sequence_length = 5\n",
    "selected_bandpowers = [0, 1, 2, 4]\n",
    "condition = 'eegfmriNF'\n",
    "brain_regions = ['Frontal Pole', # High-order cognitive functions, but sometimes noisy EEG signal. \n",
    "                 'Precentral Gyrus', # Primary motor cortex. \n",
    "                 'Superior Temporal Gyrus, posterior division', # Auditory functions. \n",
    "                 'Superior Parietal Lobule', # Attention functions. \n",
    "                 'Occipital Pole'] # Primary visual cortex. \n",
    "\n",
    "# Define a Pandas DataFrame to store the accuracy. \n",
    "accuracy_summary_gemma_finetuning = pd.DataFrame(columns = brain_regions)\n",
    "\n",
    "# Iterate through all brain regions. \n",
    "for selected_brain_region in brain_regions:\n",
    "\n",
    "    # Display the current brain region. \n",
    "    print(selected_brain_region)\n",
    "\n",
    "    # Retrieve the EEG channel corresponding to the brain region. \n",
    "    selected_brain_region_index = list(targets).index(selected_brain_region)\n",
    "    selected_eeg_channel = region_channel_mapping[selected_brain_region]\n",
    "    selected_eeg_channel_index = channel_names.index(selected_eeg_channel)\n",
    "\n",
    "    # Iterate through all subjects. \n",
    "    for subject in subjects:\n",
    "\n",
    "        # Retrieve the features for the selected subject, condition, and EEG channel. \n",
    "        X = dict_features_basis_class[subject][condition][:, (selected_eeg_channel_index * len(bandpower_names)):(selected_eeg_channel_index * len(bandpower_names)) + len(bandpower_names)]\n",
    "\n",
    "        # Retrieve the targets for the selected subject, condition, and fMRI brain region. \n",
    "        Y = dict_targets_basis_class[subject][condition][:, selected_brain_region_index]\n",
    "\n",
    "        # Run the LLM multiple times. \n",
    "        fmri_scans = range(5, (nb_scans_total - 1), 10) # Extensive search. \n",
    "        #fmri_scans = range(5, (nb_scans_total - 1), 100) # Quick search for debugging. \n",
    "        model_gemma_finetuned = finetuned_models[selected_brain_region][subject]\n",
    "        Y_true, Y_pred = run_llm_series(X, Y, fmri_scans, sequence_length, selected_bandpowers, selected_eeg_channel, selected_brain_region, tokenizer_gemma, model_gemma_finetuned)\n",
    "\n",
    "        # Compute and store the average accuracy. \n",
    "        accuracy_array = Y_pred[Y_pred != -1] == Y_true[Y_pred != -1]\n",
    "        accuracy_sequence = np.sum(accuracy_array) / accuracy_array.shape[0]\n",
    "        accuracy_summary_gemma_finetuning.loc[subject, selected_brain_region] = accuracy_sequence\n",
    "\n",
    "        # Display the number of ambiguous predictions. \n",
    "        print(subject + ': ' + str(np.sum(Y_pred == -1)), 'ambiguous prediction(s) out of', len(Y_pred), '-', str(np.sum(Y_pred == -1) / len(Y_pred) * 100), '%')"
   ]
  },
  {
   "cell_type": "code",
   "execution_count": 28,
   "metadata": {},
   "outputs": [
    {
     "data": {
      "text/html": [
       "<div>\n",
       "<style scoped>\n",
       "    .dataframe tbody tr th:only-of-type {\n",
       "        vertical-align: middle;\n",
       "    }\n",
       "\n",
       "    .dataframe tbody tr th {\n",
       "        vertical-align: top;\n",
       "    }\n",
       "\n",
       "    .dataframe thead th {\n",
       "        text-align: right;\n",
       "    }\n",
       "</style>\n",
       "<table border=\"1\" class=\"dataframe\">\n",
       "  <thead>\n",
       "    <tr style=\"text-align: right;\">\n",
       "      <th></th>\n",
       "      <th>Frontal Pole</th>\n",
       "      <th>Precentral Gyrus</th>\n",
       "      <th>Superior Temporal Gyrus, posterior division</th>\n",
       "      <th>Superior Parietal Lobule</th>\n",
       "      <th>Occipital Pole</th>\n",
       "    </tr>\n",
       "  </thead>\n",
       "  <tbody>\n",
       "    <tr>\n",
       "      <th>sub-xp101</th>\n",
       "      <td>0.526316</td>\n",
       "      <td>0.65</td>\n",
       "      <td>0.705882</td>\n",
       "      <td>0.578947</td>\n",
       "      <td>0.7</td>\n",
       "    </tr>\n",
       "    <tr>\n",
       "      <th>sub-xp102</th>\n",
       "      <td>0.529412</td>\n",
       "      <td>0.75</td>\n",
       "      <td>0.45</td>\n",
       "      <td>0.55</td>\n",
       "      <td>0.684211</td>\n",
       "    </tr>\n",
       "    <tr>\n",
       "      <th>sub-xp103</th>\n",
       "      <td>0.4</td>\n",
       "      <td>0.3</td>\n",
       "      <td>0.5</td>\n",
       "      <td>0.444444</td>\n",
       "      <td>0.6</td>\n",
       "    </tr>\n",
       "    <tr>\n",
       "      <th>sub-xp104</th>\n",
       "      <td>0.625</td>\n",
       "      <td>0.6</td>\n",
       "      <td>0.368421</td>\n",
       "      <td>0.5</td>\n",
       "      <td>0.55</td>\n",
       "    </tr>\n",
       "    <tr>\n",
       "      <th>sub-xp105</th>\n",
       "      <td>0.55</td>\n",
       "      <td>0.5</td>\n",
       "      <td>0.722222</td>\n",
       "      <td>0.473684</td>\n",
       "      <td>0.611111</td>\n",
       "    </tr>\n",
       "    <tr>\n",
       "      <th>sub-xp106</th>\n",
       "      <td>0.5</td>\n",
       "      <td>0.444444</td>\n",
       "      <td>0.368421</td>\n",
       "      <td>0.473684</td>\n",
       "      <td>0.578947</td>\n",
       "    </tr>\n",
       "    <tr>\n",
       "      <th>sub-xp107</th>\n",
       "      <td>0.666667</td>\n",
       "      <td>0.736842</td>\n",
       "      <td>0.6</td>\n",
       "      <td>0.5</td>\n",
       "      <td>0.631579</td>\n",
       "    </tr>\n",
       "    <tr>\n",
       "      <th>sub-xp108</th>\n",
       "      <td>0.611111</td>\n",
       "      <td>0.45</td>\n",
       "      <td>0.5625</td>\n",
       "      <td>0.444444</td>\n",
       "      <td>0.470588</td>\n",
       "    </tr>\n",
       "    <tr>\n",
       "      <th>sub-xp109</th>\n",
       "      <td>0.35</td>\n",
       "      <td>0.6</td>\n",
       "      <td>0.578947</td>\n",
       "      <td>0.631579</td>\n",
       "      <td>0.444444</td>\n",
       "    </tr>\n",
       "    <tr>\n",
       "      <th>sub-xp110</th>\n",
       "      <td>0.684211</td>\n",
       "      <td>0.55</td>\n",
       "      <td>0.473684</td>\n",
       "      <td>0.526316</td>\n",
       "      <td>0.5</td>\n",
       "    </tr>\n",
       "  </tbody>\n",
       "</table>\n",
       "</div>"
      ],
      "text/plain": [
       "          Frontal Pole Precentral Gyrus  \\\n",
       "sub-xp101     0.526316             0.65   \n",
       "sub-xp102     0.529412             0.75   \n",
       "sub-xp103          0.4              0.3   \n",
       "sub-xp104        0.625              0.6   \n",
       "sub-xp105         0.55              0.5   \n",
       "sub-xp106          0.5         0.444444   \n",
       "sub-xp107     0.666667         0.736842   \n",
       "sub-xp108     0.611111             0.45   \n",
       "sub-xp109         0.35              0.6   \n",
       "sub-xp110     0.684211             0.55   \n",
       "\n",
       "          Superior Temporal Gyrus, posterior division  \\\n",
       "sub-xp101                                    0.705882   \n",
       "sub-xp102                                        0.45   \n",
       "sub-xp103                                         0.5   \n",
       "sub-xp104                                    0.368421   \n",
       "sub-xp105                                    0.722222   \n",
       "sub-xp106                                    0.368421   \n",
       "sub-xp107                                         0.6   \n",
       "sub-xp108                                      0.5625   \n",
       "sub-xp109                                    0.578947   \n",
       "sub-xp110                                    0.473684   \n",
       "\n",
       "          Superior Parietal Lobule Occipital Pole  \n",
       "sub-xp101                 0.578947            0.7  \n",
       "sub-xp102                     0.55       0.684211  \n",
       "sub-xp103                 0.444444            0.6  \n",
       "sub-xp104                      0.5           0.55  \n",
       "sub-xp105                 0.473684       0.611111  \n",
       "sub-xp106                 0.473684       0.578947  \n",
       "sub-xp107                      0.5       0.631579  \n",
       "sub-xp108                 0.444444       0.470588  \n",
       "sub-xp109                 0.631579       0.444444  \n",
       "sub-xp110                 0.526316            0.5  "
      ]
     },
     "execution_count": 28,
     "metadata": {},
     "output_type": "execute_result"
    }
   ],
   "source": [
    "# Display the accuracies per subject and brain region. \n",
    "accuracy_summary_gemma_finetuning"
   ]
  },
  {
   "cell_type": "code",
   "execution_count": 29,
   "metadata": {},
   "outputs": [
    {
     "data": {
      "image/png": "[encoded data removed]",
      "text/plain": [
       "<Figure size 1000x400 with 1 Axes>"
      ]
     },
     "metadata": {},
     "output_type": "display_data"
    }
   ],
   "source": [
    "# Retrieve the average accuracy across subjects, and the standard error of the accuracy across subjects. \n",
    "accuracy_mean = list(accuracy_summary_gemma_finetuning.mean().values)\n",
    "accuracy_mean.insert(0, 0.5) # Insert a baseline average of 0.5. \n",
    "accuracy_se = list(accuracy_summary_gemma_finetuning.std().values / np.sqrt(len(subjects)))\n",
    "accuracy_se.insert(0, 0) # Insert a baseline standard error of 0. \n",
    "\n",
    "# Append the total average accuracy and its standard error. \n",
    "nb_brain_regions = accuracy_summary_gemma_finetuning.shape[1]\n",
    "accuracy_mean.append(np.mean(accuracy_mean[1:]))\n",
    "accuracy_se.append(np.std(accuracy_mean[1:]) / (np.sqrt(len(subjects) * nb_brain_regions)))\n",
    "\n",
    "# Create the labels. \n",
    "labels = brain_regions.copy()\n",
    "labels.insert(0, 'Baseline')\n",
    "labels.append('Total')\n",
    "\n",
    "# Display the average accuracy and its standard error in a bar plot. \n",
    "fig, axes = plt.subplots(nrows = 1, ncols = 1, figsize = (10, 4))\n",
    "axes.bar(range(nb_brain_regions + 2), accuracy_mean, width = 0.6, color = ['green', *['blue'] * nb_brain_regions, 'mediumblue'])\n",
    "axes.errorbar(range(nb_brain_regions + 2), accuracy_mean, yerr = accuracy_se, fmt = 'None', color = 'black')\n",
    "axes.axhline(accuracy_mean[0], 0, 1, color = 'green', linestyle = 'dashed', alpha = 0.5)\n",
    "axes.set_xticks(range(nb_brain_regions + 2), labels = labels)\n",
    "axes.set_xticklabels(labels, rotation = 45, ha = 'right')\n",
    "axes.set_ylabel('Average accuracy across subjects')\n",
    "axes.set_title('Gemma-2-2B-IT with fine-tuning');"
   ]
  },
  {
   "cell_type": "code",
   "execution_count": 30,
   "metadata": {},
   "outputs": [
    {
     "data": {
      "image/png": "[encoded data removed]",
      "text/plain": [
       "<Figure size 1000x500 with 1 Axes>"
      ]
     },
     "metadata": {},
     "output_type": "display_data"
    }
   ],
   "source": [
    "# Retrieve the average accuracy across subjects, and the standard error of the accuracy across subjects.\n",
    "accuracy_mean_no_finetuning = list(accuracy_summary_gemma_no_finetuning.mean().values)\n",
    "accuracy_mean_finetuning = list(accuracy_summary_gemma_finetuning.mean().values)\n",
    "accuracy_se_no_finetuning = list(accuracy_summary_gemma_no_finetuning.std().values / np.sqrt(len(subjects)))\n",
    "accuracy_se_finetuning = list(accuracy_summary_gemma_finetuning.std().values / np.sqrt(len(subjects)))\n",
    "\n",
    "# Append the total average accuracy and its standard error.\n",
    "nb_brain_regions = accuracy_summary_gemma_no_finetuning.shape[1]\n",
    "accuracy_mean_no_finetuning.append(np.mean(accuracy_mean_no_finetuning))\n",
    "accuracy_mean_finetuning.append(np.mean(accuracy_mean_finetuning))\n",
    "accuracy_se_no_finetuning.append(np.std(accuracy_mean_no_finetuning) / (np.sqrt(len(subjects) * nb_brain_regions)))\n",
    "accuracy_se_finetuning.append(np.std(accuracy_mean_finetuning) / (np.sqrt(len(subjects) * nb_brain_regions)))\n",
    "\n",
    "# Create the labels.\n",
    "labels = brain_regions.copy()\n",
    "labels.append('Total')\n",
    "\n",
    "# Define the bar width and positions.\n",
    "bar_width = 0.4\n",
    "index = np.arange(nb_brain_regions + 1)\n",
    "\n",
    "# Display the average accuracy and its standard error in a grouped bar plot.\n",
    "fig, axes = plt.subplots(nrows = 1, ncols = 1, figsize = (10, 5))\n",
    "axes.bar(index - bar_width/2, accuracy_mean_no_finetuning, bar_width, color = [*['cornflowerblue'] * nb_brain_regions, 'royalblue'], label = 'No fine-tuning')\n",
    "axes.bar(index + bar_width/2, accuracy_mean_finetuning, bar_width, color = [*['blue'] * nb_brain_regions, 'mediumblue'], label = 'Fine-tuning')\n",
    "axes.errorbar(index - bar_width/2, accuracy_mean_no_finetuning, yerr = accuracy_se_no_finetuning, fmt = 'None', color = 'black')\n",
    "axes.errorbar(index + bar_width/2, accuracy_mean_finetuning, yerr = accuracy_se_finetuning, fmt = 'None', color = 'black')\n",
    "axes.axhline(accuracy_mean[0], 0, 1, color = 'green', linestyle = 'dashed', alpha = 0.5)\n",
    "axes.set_xticks(index)\n",
    "axes.set_xticklabels(labels, rotation = 45, ha = 'right')\n",
    "axes.set_ylabel('Average accuracy across subjects')\n",
    "axes.set_title('Gemma-2-2B-IT: no fine-tuning vs. fine-tuning')\n",
    "axes.legend();"
   ]
  },
  {
   "cell_type": "markdown",
   "metadata": {},
   "source": [
    "## **4. Results**\n",
    "\n",
    "We save the results in the appropriate directory. "
   ]
  },
  {
   "cell_type": "code",
   "execution_count": 31,
   "metadata": {},
   "outputs": [],
   "source": [
    "# Save the results into Pickle files. \n",
    "with open(results_path + 'classification/accuracy_summary_gemma_no_finetuning.p', 'wb') as file:\n",
    "    pickle.dump(accuracy_summary_gemma_no_finetuning, file)\n",
    "with open(results_path + 'classification/accuracy_summary_gemma_finetuning.p', 'wb') as file:\n",
    "    pickle.dump(accuracy_summary_gemma_finetuning, file)"
   ]
  }
 ],
 "metadata": {
  "kernelspec": {
   "display_name": "neuropolis-x1",
   "language": "python",
   "name": "python3"
  },
  "language_info": {
   "codemirror_mode": {
    "name": "ipython",
    "version": 3
   },
   "file_extension": ".py",
   "mimetype": "text/x-python",
   "name": "python",
   "nbconvert_exporter": "python",
   "pygments_lexer": "ipython3",
   "version": "3.11.11"
  }
 },
 "nbformat": 4,
 "nbformat_minor": 2
}
