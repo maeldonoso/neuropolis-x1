{
 "cells": [
  {
   "cell_type": "markdown",
   "metadata": {},
   "source": [
    "# **Neuropolis-X1**\n",
    "### **Building an artificial intelligence system for human brain activity prediction (EEG, fMRI) with machine learning, deep learning, and large language models**\n",
    "\n",
    "#### Maël Donoso, Ouroboros Neurotechnologies (https://ouroboros-neurotechnologies.com/)\n",
    "First release: *18th March 2025*"
   ]
  },
  {
   "cell_type": "markdown",
   "metadata": {},
   "source": [
    "This first extension (X1) of Neuropolis includes fourteen Notebooks:\n",
    "\n",
    "*01: fMRI Preprocessing*\n",
    "\n",
    "*02: EEG Preprocessing*\n",
    "\n",
    "*03: Classification Models*\n",
    "\n",
    "*04: Regression Models*\n",
    "\n",
    "*05: Neural Networks*\n",
    "\n",
    "*06: Convolutional Neural Networks*\n",
    "\n",
    "*07: Recurrent Neural Networks*\n",
    "\n",
    "*08: Transformers*\n",
    "\n",
    "*09: Large Language Models*\n",
    "\n",
    "*10: Large Language Model Chain-of-Thought*\n",
    "\n",
    "***11: Large Language Model Fine-Tuning***\n",
    "\n",
    "*12: Large Multimodal Model*\n",
    "\n",
    "*13: Statistical Tests*\n",
    "\n",
    "*14: Tables and Figures*"
   ]
  },
  {
   "cell_type": "markdown",
   "metadata": {},
   "source": [
    "### Notebook 11\n",
    "\n",
    "# **Large Language Model Fine-Tuning**"
   ]
  },
  {
   "cell_type": "markdown",
   "metadata": {},
   "source": [
    "## **1. Region-Channel Mapping**\n",
    "\n",
    "We retrieve the **region-channel mapping**, associating each brain region to the EEG channel whose signal is most likely to provide relevant information regarding its fMRI activity. "
   ]
  },
  {
   "cell_type": "code",
   "execution_count": 1,
   "metadata": {},
   "outputs": [],
   "source": [
    "import numpy as np\n",
    "import pandas as pd\n",
    "import matplotlib.pyplot as plt\n",
    "%matplotlib inline\n",
    "import pickle\n",
    "import mne\n",
    "import torch\n",
    "from transformers import AutoModelForCausalLM, AutoTokenizer, TrainingArguments, DataCollatorForSeq2Seq, Trainer\n",
    "import datasets\n",
    "from peft import LoraConfig, get_peft_model, PeftModel\n",
    "from fvcore.nn import FlopCountAnalysis\n",
    "import logging\n",
    "from copy import deepcopy\n",
    "import gc"
   ]
  },
  {
   "cell_type": "code",
   "execution_count": 2,
   "metadata": {},
   "outputs": [],
   "source": [
    "# Define the raw data path. \n",
    "raw_data_path = '../../Neuropolis/ds002336-download/'\n",
    "\n",
    "# Define the preprocessed data path. \n",
    "preprocessed_data_path = '../neuropolis-x1_preprocessed_data/'\n",
    "\n",
    "# Define the fine-tuned models path. \n",
    "finetuned_models_path = '../neuropolis-x1_fine-tuned_models/'\n",
    "\n",
    "# Define the results path. \n",
    "results_path = '../neuropolis-x1_results/'"
   ]
  },
  {
   "cell_type": "code",
   "execution_count": 3,
   "metadata": {},
   "outputs": [],
   "source": [
    "# Load the features and the targets for the classification task. \n",
    "with open(preprocessed_data_path + 'dict_targets.p', 'rb') as file:\n",
    "    dict_targets = pickle.load(file)\n",
    "with open(preprocessed_data_path + 'classification/dict_features_classification_basis.p', 'rb') as file:\n",
    "    dict_features_basis_class = pickle.load(file)\n",
    "with open(preprocessed_data_path + 'classification/dict_targets_classification_basis.p', 'rb') as file:\n",
    "    dict_targets_basis_class = pickle.load(file)\n",
    "\n",
    "# Load the region-channel mapping. \n",
    "with open(results_path + 'region_channel_mapping.p', 'rb') as file:\n",
    "    region_channel_mapping = pickle.load(file)"
   ]
  },
  {
   "cell_type": "code",
   "execution_count": 4,
   "metadata": {},
   "outputs": [
    {
     "data": {
      "text/plain": [
       "200"
      ]
     },
     "execution_count": 4,
     "metadata": {},
     "output_type": "execute_result"
    }
   ],
   "source": [
    "# Define the list of subjects, removing sub-xp102 who has a missing condition. \n",
    "subjects = ['sub-xp1' + str(x).zfill(2) for x in range(1, 11)]\n",
    "subjects.remove('sub-xp102')\n",
    "subject = subjects[0]\n",
    "\n",
    "# Retrieve and display the total number of scans. \n",
    "nb_scans_total = dict_targets[subject]['eegfmriNF']['Frontal Pole'].shape[0]\n",
    "nb_scans_total"
   ]
  },
  {
   "cell_type": "code",
   "execution_count": 5,
   "metadata": {},
   "outputs": [
    {
     "name": "stdout",
     "output_type": "stream",
     "text": [
      "['Background', 'Frontal Pole', 'Insular Cortex', 'Superior Frontal Gyrus', 'Middle Frontal Gyrus', 'Inferior Frontal Gyrus, pars triangularis', 'Inferior Frontal Gyrus, pars opercularis', 'Precentral Gyrus', 'Temporal Pole', 'Superior Temporal Gyrus, anterior division', 'Superior Temporal Gyrus, posterior division', 'Middle Temporal Gyrus, anterior division', 'Middle Temporal Gyrus, posterior division', 'Middle Temporal Gyrus, temporooccipital part', 'Inferior Temporal Gyrus, anterior division', 'Inferior Temporal Gyrus, posterior division', 'Inferior Temporal Gyrus, temporooccipital part', 'Postcentral Gyrus', 'Superior Parietal Lobule', 'Supramarginal Gyrus, anterior division', 'Supramarginal Gyrus, posterior division', 'Angular Gyrus', 'Lateral Occipital Cortex, superior division', 'Lateral Occipital Cortex, inferior division', 'Intracalcarine Cortex', 'Frontal Medial Cortex', 'Juxtapositional Lobule Cortex (formerly Supplementary Motor Cortex)', 'Subcallosal Cortex', 'Paracingulate Gyrus', 'Cingulate Gyrus, anterior division', 'Cingulate Gyrus, posterior division', 'Precuneous Cortex', 'Cuneal Cortex', 'Frontal Orbital Cortex', 'Parahippocampal Gyrus, anterior division', 'Parahippocampal Gyrus, posterior division', 'Lingual Gyrus', 'Temporal Fusiform Cortex, anterior division', 'Temporal Fusiform Cortex, posterior division', 'Temporal Occipital Fusiform Cortex', 'Occipital Fusiform Gyrus', 'Frontal Opercular Cortex', 'Central Opercular Cortex', 'Parietal Opercular Cortex', 'Planum Polare', \"Heschl's Gyrus (includes H1 and H2)\", 'Planum Temporale', 'Supracalcarine Cortex', 'Occipital Pole']\n",
      "49 brain regions\n"
     ]
    }
   ],
   "source": [
    "# Retrieve the list of all targets. \n",
    "targets = list(dict_targets[subject]['eegfmriNF'].keys())\n",
    "\n",
    "# Display the brain region names and the number of brain regions. \n",
    "print(targets)\n",
    "print(len(targets), 'brain regions')"
   ]
  },
  {
   "cell_type": "code",
   "execution_count": 6,
   "metadata": {},
   "outputs": [
    {
     "name": "stdout",
     "output_type": "stream",
     "text": [
      "['Fp1', 'Fp2', 'F3', 'F4', 'C3', 'C4', 'P3', 'P4', 'O1', 'O2', 'F7', 'F8', 'T7', 'T8', 'P7', 'P8', 'Fz', 'Cz', 'Pz', 'Oz', 'FC1', 'FC2', 'CP1', 'CP2', 'FC5', 'FC6', 'CP5', 'CP6', 'TP9', 'TP10', 'POz', 'F1', 'F2', 'C1', 'C2', 'P1', 'P2', 'AF3', 'AF4', 'FC3', 'FC4', 'CP3', 'CP4', 'PO3', 'PO4', 'F5', 'F6', 'C5', 'C6', 'P5', 'P6', 'AF7', 'AF8', 'FT7', 'FT8', 'TP7', 'TP8', 'PO7', 'PO8', 'FT9', 'FT10', 'Fpz', 'CPz']\n",
      "63 channels\n"
     ]
    }
   ],
   "source": [
    "# Define the bandpower names. \n",
    "bandpower_names = ['Delta (1-4 Hz)', 'Theta (4-8 Hz)', 'Alpha (8-12 Hz)', 'Sigma (12-16 Hz)', 'Beta (16-30 Hz)', 'Gamma (30-40 Hz)']\n",
    "\n",
    "# Define the path of the header file (.vhdr) for this subject, for the eegfmriNF condition. \n",
    "vhdr_path = raw_data_path + 'derivatives/' + subject + '/eeg_pp/' + subject + '_task-eegfmriNF_eeg_pp.vhdr'\n",
    "\n",
    "# Load the EEG data using the MNE library, keeping error messages but suppressing warnings. \n",
    "channels_data = mne.io.read_raw_brainvision(vhdr_path, misc = ['ECG'], preload = True, verbose = 'ERROR')\n",
    "\n",
    "# Remove the ECG channel from the channel names. \n",
    "channel_names = channels_data.ch_names\n",
    "channel_names.remove('ECG')\n",
    "\n",
    "# Display the channel names and the number of channels. \n",
    "print(channel_names)\n",
    "print(len(channel_names), 'channels')"
   ]
  },
  {
   "cell_type": "code",
   "execution_count": 7,
   "metadata": {},
   "outputs": [],
   "source": [
    "# Define dictionaries to store the brain regions, sequences of fMRI scans, and FLOPs for each model. \n",
    "dict_brain_regions = dict()\n",
    "dict_fmri_scans = dict()\n",
    "dict_flops = dict()"
   ]
  },
  {
   "cell_type": "code",
   "execution_count": 8,
   "metadata": {},
   "outputs": [
    {
     "data": {
      "text/plain": [
       "{'Frontal Pole': 'Fpz',\n",
       " 'Insular Cortex': 'T7',\n",
       " 'Superior Frontal Gyrus': 'Fz',\n",
       " 'Middle Frontal Gyrus': 'F3',\n",
       " 'Inferior Frontal Gyrus, pars triangularis': 'F7',\n",
       " 'Inferior Frontal Gyrus, pars opercularis': 'F7',\n",
       " 'Precentral Gyrus': 'C3',\n",
       " 'Temporal Pole': 'FT9',\n",
       " 'Superior Temporal Gyrus, anterior division': 'FT7',\n",
       " 'Superior Temporal Gyrus, posterior division': 'T7',\n",
       " 'Middle Temporal Gyrus, anterior division': 'T7',\n",
       " 'Middle Temporal Gyrus, posterior division': 'T7',\n",
       " 'Middle Temporal Gyrus, temporooccipital part': 'P7',\n",
       " 'Inferior Temporal Gyrus, anterior division': 'T7',\n",
       " 'Inferior Temporal Gyrus, posterior division': 'P7',\n",
       " 'Inferior Temporal Gyrus, temporooccipital part': 'PO7',\n",
       " 'Postcentral Gyrus': 'C3',\n",
       " 'Superior Parietal Lobule': 'Pz',\n",
       " 'Supramarginal Gyrus, anterior division': 'CP3',\n",
       " 'Supramarginal Gyrus, posterior division': 'P3',\n",
       " 'Angular Gyrus': 'P3',\n",
       " 'Lateral Occipital Cortex, superior division': 'PO3',\n",
       " 'Lateral Occipital Cortex, inferior division': 'O1',\n",
       " 'Intracalcarine Cortex': 'Oz',\n",
       " 'Frontal Medial Cortex': 'Fz',\n",
       " 'Juxtapositional Lobule Cortex (formerly Supplementary Motor Cortex)': 'Cz',\n",
       " 'Subcallosal Cortex': 'Fpz',\n",
       " 'Paracingulate Gyrus': 'Fz',\n",
       " 'Cingulate Gyrus, anterior division': 'Fz',\n",
       " 'Cingulate Gyrus, posterior division': 'Pz',\n",
       " 'Precuneous Cortex': 'Pz',\n",
       " 'Cuneal Cortex': 'Oz',\n",
       " 'Frontal Orbital Cortex': 'Fp1',\n",
       " 'Parahippocampal Gyrus, anterior division': 'FT9',\n",
       " 'Parahippocampal Gyrus, posterior division': 'TP9',\n",
       " 'Lingual Gyrus': 'Oz',\n",
       " 'Temporal Fusiform Cortex, anterior division': 'FT9',\n",
       " 'Temporal Fusiform Cortex, posterior division': 'TP9',\n",
       " 'Temporal Occipital Fusiform Cortex': 'PO7',\n",
       " 'Occipital Fusiform Gyrus': 'PO7',\n",
       " 'Frontal Opercular Cortex': 'FC5',\n",
       " 'Central Opercular Cortex': 'C3',\n",
       " 'Parietal Opercular Cortex': 'CP3',\n",
       " 'Planum Polare': 'FT7',\n",
       " \"Heschl's Gyrus (includes H1 and H2)\": 'T7',\n",
       " 'Planum Temporale': 'TP7',\n",
       " 'Supracalcarine Cortex': 'Oz',\n",
       " 'Occipital Pole': 'Oz'}"
      ]
     },
     "execution_count": 8,
     "metadata": {},
     "output_type": "execute_result"
    }
   ],
   "source": [
    "# Display the region-channel mapping. \n",
    "region_channel_mapping"
   ]
  },
  {
   "cell_type": "markdown",
   "metadata": {},
   "source": [
    "## **2. Gemma**\n",
    "\n",
    "We use the **Gemma-2-2B-IT large language model**, and select its hyperparameters in order to ensure a relative variety of responses. We define a prompt where we provide a sequence of EEG bandpower values, and ask the model to predict the corresponding fMRI activity. We run the large language model on the eegfmriNF condition of all subjects, for a selection of brain regions spanning both a reasonable fraction of the brain and a variety of cognitive functions. In the bar plot presenting the results, an indicative baseline is given for visualization purposes, but the real baseline depends both on the selected fMRI scans and the distribution of missing or ambiguous predictions. "
   ]
  },
  {
   "cell_type": "code",
   "execution_count": 9,
   "metadata": {},
   "outputs": [
    {
     "data": {
      "application/vnd.jupyter.widget-view+json": {
       "model_id": "073a0d2bc2d64db494e37226513a5feb",
       "version_major": 2,
       "version_minor": 0
      },
      "text/plain": [
       "Loading checkpoint shards:   0%|          | 0/2 [00:00<?, ?it/s]"
      ]
     },
     "metadata": {},
     "output_type": "display_data"
    }
   ],
   "source": [
    "# Define the LLM to use. \n",
    "model_name = 'google/gemma-2-2b-it'\n",
    "\n",
    "# Load the tokenizer and the model. \n",
    "tokenizer_gemma = AutoTokenizer.from_pretrained(model_name)\n",
    "model_gemma = AutoModelForCausalLM.from_pretrained(model_name, torch_dtype = torch.float16, device_map = 'auto', attn_implementation = 'eager')"
   ]
  },
  {
   "cell_type": "code",
   "execution_count": 10,
   "metadata": {},
   "outputs": [],
   "source": [
    "# Define a function to create a LLM prompt with a sequence of bandpower values. \n",
    "def prompt_llm(X, fmri_scan_index, sequence_length, selected_bandpowers, selected_eeg_channel, selected_brain_region):\n",
    "\n",
    "    # Retrieve the sequence of features. \n",
    "    X_sequence = X[(fmri_scan_index - sequence_length):fmri_scan_index, :]\n",
    "\n",
    "    # Create the prompt. \n",
    "    bandpowers_results = ', '.join(\n",
    "        f\"{bandpower_names[bandpower_index]}: {X_sequence[:, bandpower_index]}\" for bandpower_index in selected_bandpowers\n",
    "    )\n",
    "    prompt = (\n",
    "        f\"A human subject participated in a neuroscience experiment where EEG data and fMRI data were recorded simultaneously. \"\n",
    "        f\"The EEG band powers were measured every two seconds at electrode {selected_eeg_channel}, \"\n",
    "        f\"with the following results: {bandpowers_results}. \"\n",
    "        f\"The fMRI BOLD signal was measured in the {selected_brain_region} during the last two seconds. \"\n",
    "        f\"Given the EEG data, is the fMRI signal in this brain region likely increasing or decreasing during these last two seconds? \"\n",
    "        f\"Base your answer on your general knowledge in neuroscience, EEG research, and fMRI research. \"\n",
    "        f\"Since this is a time series, you might need to take into account the hemodynamic response function (HRF), \"\n",
    "        f\"and the fact that after an event, the fMRI response is delayed compared to the EEG response. \"\n",
    "        f\"Please answer with only one word: Increasing or Decreasing. Just give your best prediction, without any explanation.\"\n",
    "    )\n",
    "\n",
    "    return prompt"
   ]
  },
  {
   "cell_type": "code",
   "execution_count": 11,
   "metadata": {},
   "outputs": [],
   "source": [
    "# Define a function to run a LLM. \n",
    "def run_llm(prompt, tokenizer, model):\n",
    "\n",
    "    # Run the LLM. \n",
    "    inputs = tokenizer(prompt, return_tensors = 'pt').to(model.device)\n",
    "    output = model.generate(**inputs, \n",
    "                            max_new_tokens = 20, \n",
    "                            temperature = 1.2, \n",
    "                            top_p = 0.9, \n",
    "                            top_k = 50, \n",
    "                            do_sample = True, \n",
    "                            repetition_penalty = 1)\n",
    "\n",
    "    # Decode the generated text, remove the original prompt, and return the answer. \n",
    "    generated_text = tokenizer.decode(output[0], skip_special_tokens = True)\n",
    "    answer_only = generated_text[len(prompt):].strip()\n",
    "    \n",
    "    return answer_only"
   ]
  },
  {
   "cell_type": "code",
   "execution_count": 12,
   "metadata": {},
   "outputs": [],
   "source": [
    "# Define a function to run a LLM multiple times. \n",
    "def run_llm_series(X, Y, fmri_scans, sequence_length, selected_bandpowers, selected_eeg_channel, selected_brain_region, tokenizer, model):\n",
    "\n",
    "    # Create the NumPy arrays to store the true values and predictions.     \n",
    "    Y_true = np.zeros(len(fmri_scans))\n",
    "    Y_pred = np.zeros(len(fmri_scans))\n",
    "    answers = []\n",
    "    counter = 0\n",
    "\n",
    "    # Iterate through all selected fMRI scans. \n",
    "    for fmri_scan_index in fmri_scans:\n",
    "\n",
    "        # Create the LLM prompt. \n",
    "        prompt = prompt_llm(X, \n",
    "                            fmri_scan_index = fmri_scan_index, \n",
    "                            sequence_length = sequence_length, \n",
    "                            selected_bandpowers = selected_bandpowers, \n",
    "                            selected_eeg_channel = selected_eeg_channel, \n",
    "                            selected_brain_region = selected_brain_region)\n",
    "        \n",
    "        # Run the LLM and store the result. \n",
    "        answer_only = run_llm(prompt, tokenizer, model)\n",
    "        answers.append(answer_only) # For debugging purposes. \n",
    "\n",
    "        # Analyze the answer. \n",
    "        increase_detected = 'increas' in answer_only.lower()\n",
    "        decrease_detected = 'decreas' in answer_only.lower()\n",
    "        if increase_detected and not decrease_detected:\n",
    "            Y_pred[counter] = 1\n",
    "        elif decrease_detected and not increase_detected:\n",
    "            Y_pred[counter] = 0\n",
    "        else:\n",
    "            Y_pred[counter] = -1\n",
    "\n",
    "        # Store the true value.\n",
    "        Y_true[counter] = Y[fmri_scan_index]\n",
    "\n",
    "        # Increment. \n",
    "        counter += 1\n",
    "\n",
    "    return Y_true, Y_pred"
   ]
  },
  {
   "cell_type": "code",
   "execution_count": 13,
   "metadata": {},
   "outputs": [
    {
     "name": "stdout",
     "output_type": "stream",
     "text": [
      "Brain region: Frontal Pole\n",
      "Brain region index: 1\n",
      "EEG channel: Fpz\n",
      "EEG channel index: 61\n"
     ]
    }
   ],
   "source": [
    "# Select a subject and a condition. \n",
    "subject = 'sub-xp101'\n",
    "condition = 'eegfmriNF'\n",
    "\n",
    "# Select a fMRI brain region and retrieve its corresponding EEG channel. \n",
    "selected_brain_region = 'Frontal Pole'\n",
    "selected_brain_region_index = list(targets).index(selected_brain_region)\n",
    "selected_eeg_channel = region_channel_mapping[selected_brain_region]\n",
    "selected_eeg_channel_index = channel_names.index(selected_eeg_channel)\n",
    "\n",
    "# Display the fMRI brain region and its corresponding EEG channel. \n",
    "print('Brain region:', selected_brain_region)\n",
    "print('Brain region index:', int(selected_brain_region_index))\n",
    "print('EEG channel:', selected_eeg_channel)\n",
    "print('EEG channel index:', int(selected_eeg_channel_index))"
   ]
  },
  {
   "cell_type": "code",
   "execution_count": 14,
   "metadata": {},
   "outputs": [
    {
     "data": {
      "text/plain": [
       "'A human subject participated in a neuroscience experiment where EEG data and fMRI data were recorded simultaneously. The EEG band powers were measured every two seconds at electrode Fpz, with the following results: Delta (1-4 Hz): [-0.22278232  0.64400346  1.11835758 -1.24585523 -0.13343407], Theta (4-8 Hz): [ 0.3256324  -0.68492586 -0.96076972  0.99095653 -0.37529182], Alpha (8-12 Hz): [-0.40537466 -0.04844749 -0.69866725  0.40412502  1.11390381], Beta (16-30 Hz): [ 0.55265258 -0.03498027 -0.91193884  1.92475433  1.92719948]. The fMRI BOLD signal was measured in the Frontal Pole during the last two seconds. Given the EEG data, is the fMRI signal in this brain region likely increasing or decreasing during these last two seconds? Base your answer on your general knowledge in neuroscience, EEG research, and fMRI research. Since this is a time series, you might need to take into account the hemodynamic response function (HRF), and the fact that after an event, the fMRI response is delayed compared to the EEG response. Please answer with only one word: Increasing or Decreasing. Just give your best prediction, without any explanation.'"
      ]
     },
     "execution_count": 14,
     "metadata": {},
     "output_type": "execute_result"
    }
   ],
   "source": [
    "# Retrieve the features for the selected subject, condition, and EEG channel. \n",
    "X = dict_features_basis_class[subject][condition][:, (selected_eeg_channel_index * len(bandpower_names)):(selected_eeg_channel_index * len(bandpower_names)) + len(bandpower_names)]\n",
    "\n",
    "# Retrieve the targets for the selected subject, condition, and fMRI brain region. \n",
    "Y = dict_targets_basis_class[subject][condition][:, selected_brain_region_index]\n",
    "\n",
    "# Select the sequence length and the bandpowers. \n",
    "sequence_length = 5\n",
    "selected_bandpowers = [0, 1, 2, 4]\n",
    "\n",
    "# Create the LLM prompt. \n",
    "prompt = prompt_llm(X, \n",
    "                    fmri_scan_index = 5, \n",
    "                    sequence_length = sequence_length, \n",
    "                    selected_bandpowers = selected_bandpowers, \n",
    "                    selected_eeg_channel = selected_eeg_channel, \n",
    "                    selected_brain_region = selected_brain_region)\n",
    "prompt"
   ]
  },
  {
   "cell_type": "code",
   "execution_count": 15,
   "metadata": {},
   "outputs": [
    {
     "data": {
      "text/plain": [
       "'**Increasing**'"
      ]
     },
     "execution_count": 15,
     "metadata": {},
     "output_type": "execute_result"
    }
   ],
   "source": [
    "# Run the LLM once, and display the result. \n",
    "answer_only = run_llm(prompt, tokenizer_gemma, model_gemma)\n",
    "answer_only"
   ]
  },
  {
   "cell_type": "code",
   "execution_count": 16,
   "metadata": {},
   "outputs": [
    {
     "name": "stdout",
     "output_type": "stream",
     "text": [
      "Frontal Pole\n",
      "sub-xp101: 1 ambiguous prediction(s) out of 20 - 5.0 %\n",
      "sub-xp103: 3 ambiguous prediction(s) out of 20 - 15.0 %\n",
      "sub-xp104: 0 ambiguous prediction(s) out of 20 - 0.0 %\n",
      "sub-xp105: 1 ambiguous prediction(s) out of 20 - 5.0 %\n",
      "sub-xp106: 2 ambiguous prediction(s) out of 20 - 10.0 %\n",
      "sub-xp107: 0 ambiguous prediction(s) out of 20 - 0.0 %\n",
      "sub-xp108: 0 ambiguous prediction(s) out of 20 - 0.0 %\n",
      "sub-xp109: 0 ambiguous prediction(s) out of 20 - 0.0 %\n",
      "sub-xp110: 1 ambiguous prediction(s) out of 20 - 5.0 %\n",
      "Precentral Gyrus\n",
      "sub-xp101: 1 ambiguous prediction(s) out of 20 - 5.0 %\n",
      "sub-xp103: 2 ambiguous prediction(s) out of 20 - 10.0 %\n",
      "sub-xp104: 0 ambiguous prediction(s) out of 20 - 0.0 %\n",
      "sub-xp105: 0 ambiguous prediction(s) out of 20 - 0.0 %\n",
      "sub-xp106: 1 ambiguous prediction(s) out of 20 - 5.0 %\n",
      "sub-xp107: 0 ambiguous prediction(s) out of 20 - 0.0 %\n",
      "sub-xp108: 0 ambiguous prediction(s) out of 20 - 0.0 %\n",
      "sub-xp109: 0 ambiguous prediction(s) out of 20 - 0.0 %\n",
      "sub-xp110: 1 ambiguous prediction(s) out of 20 - 5.0 %\n",
      "Superior Temporal Gyrus, posterior division\n",
      "sub-xp101: 0 ambiguous prediction(s) out of 20 - 0.0 %\n",
      "sub-xp103: 1 ambiguous prediction(s) out of 20 - 5.0 %\n",
      "sub-xp104: 0 ambiguous prediction(s) out of 20 - 0.0 %\n",
      "sub-xp105: 2 ambiguous prediction(s) out of 20 - 10.0 %\n",
      "sub-xp106: 0 ambiguous prediction(s) out of 20 - 0.0 %\n",
      "sub-xp107: 1 ambiguous prediction(s) out of 20 - 5.0 %\n",
      "sub-xp108: 2 ambiguous prediction(s) out of 20 - 10.0 %\n",
      "sub-xp109: 0 ambiguous prediction(s) out of 20 - 0.0 %\n",
      "sub-xp110: 0 ambiguous prediction(s) out of 20 - 0.0 %\n",
      "Superior Parietal Lobule\n",
      "sub-xp101: 2 ambiguous prediction(s) out of 20 - 10.0 %\n",
      "sub-xp103: 1 ambiguous prediction(s) out of 20 - 5.0 %\n",
      "sub-xp104: 1 ambiguous prediction(s) out of 20 - 5.0 %\n",
      "sub-xp105: 0 ambiguous prediction(s) out of 20 - 0.0 %\n",
      "sub-xp106: 0 ambiguous prediction(s) out of 20 - 0.0 %\n",
      "sub-xp107: 0 ambiguous prediction(s) out of 20 - 0.0 %\n",
      "sub-xp108: 0 ambiguous prediction(s) out of 20 - 0.0 %\n",
      "sub-xp109: 1 ambiguous prediction(s) out of 20 - 5.0 %\n",
      "sub-xp110: 1 ambiguous prediction(s) out of 20 - 5.0 %\n",
      "Occipital Pole\n",
      "sub-xp101: 0 ambiguous prediction(s) out of 20 - 0.0 %\n",
      "sub-xp103: 1 ambiguous prediction(s) out of 20 - 5.0 %\n",
      "sub-xp104: 0 ambiguous prediction(s) out of 20 - 0.0 %\n",
      "sub-xp105: 1 ambiguous prediction(s) out of 20 - 5.0 %\n",
      "sub-xp106: 1 ambiguous prediction(s) out of 20 - 5.0 %\n",
      "sub-xp107: 1 ambiguous prediction(s) out of 20 - 5.0 %\n",
      "sub-xp108: 1 ambiguous prediction(s) out of 20 - 5.0 %\n",
      "sub-xp109: 0 ambiguous prediction(s) out of 20 - 0.0 %\n",
      "sub-xp110: 0 ambiguous prediction(s) out of 20 - 0.0 %\n"
     ]
    }
   ],
   "source": [
    "# Select the sequence length, bandpowers, condition, and brain regions. \n",
    "sequence_length = 5\n",
    "selected_bandpowers = [0, 1, 2, 4]\n",
    "condition = 'eegfmriNF'\n",
    "brain_regions = ['Frontal Pole', # High-order cognitive functions, but sometimes noisy EEG signal. \n",
    "                 'Precentral Gyrus', # Primary motor cortex. \n",
    "                 'Superior Temporal Gyrus, posterior division', # Auditory functions. \n",
    "                 'Superior Parietal Lobule', # Attention functions. \n",
    "                 'Occipital Pole'] # Primary visual cortex. \n",
    "\n",
    "# Select a sequence of fMRI scans. \n",
    "fmri_scans = range(5, (nb_scans_total - 1), 10) # Extensive search.\n",
    "#fmri_scans = range(5, (nb_scans_total - 1), 100) # Quick search for debugging.\n",
    "\n",
    "# Store the brain regions and the sequence of fMRI scans in dictionaries. \n",
    "dict_brain_regions['Large Language Model Fine-Tuning: Without Fine-Tuning'] = brain_regions\n",
    "dict_fmri_scans['Large Language Model Fine-Tuning: Without Fine-Tuning'] = fmri_scans\n",
    "\n",
    "# Define a dictionary to store the predictions and a Pandas DataFrame to store the accuracy. \n",
    "dict_predictions_gemma_no_finetuning = dict()\n",
    "accuracy_summary_gemma_no_finetuning = pd.DataFrame(columns = brain_regions)\n",
    "\n",
    "# Iterate through all brain regions. \n",
    "for selected_brain_region in brain_regions:\n",
    "\n",
    "    # Display the current brain region. \n",
    "    print(selected_brain_region)\n",
    "\n",
    "    # Retrieve the EEG channel corresponding to the brain region. \n",
    "    selected_brain_region_index = list(targets).index(selected_brain_region)\n",
    "    selected_eeg_channel = region_channel_mapping[selected_brain_region]\n",
    "    selected_eeg_channel_index = channel_names.index(selected_eeg_channel)\n",
    "\n",
    "    # Define a dictionary to store the predictions for this brain region. \n",
    "    dict_predictions_gemma_no_finetuning[selected_brain_region] = dict()\n",
    "\n",
    "    # Iterate through all subjects. \n",
    "    for subject in subjects:\n",
    "        \n",
    "        # Retrieve the features for the selected subject, condition, and EEG channel. \n",
    "        X = dict_features_basis_class[subject][condition][:, (selected_eeg_channel_index * len(bandpower_names)):(selected_eeg_channel_index * len(bandpower_names)) + len(bandpower_names)]\n",
    "\n",
    "        # Retrieve the targets for the selected subject, condition, and fMRI brain region. \n",
    "        Y = dict_targets_basis_class[subject][condition][:, selected_brain_region_index]\n",
    "\n",
    "        # Run the LLM multiple times. \n",
    "        Y_true, Y_pred = run_llm_series(X, Y, fmri_scans, sequence_length, selected_bandpowers, selected_eeg_channel, selected_brain_region, tokenizer_gemma, model_gemma)\n",
    "\n",
    "        # Store the predictions. \n",
    "        dict_predictions_gemma_no_finetuning[selected_brain_region][subject] = Y_pred\n",
    "        \n",
    "        # Compute and store the average accuracy. \n",
    "        accuracy_array = Y_pred[Y_pred != -1] == Y_true[Y_pred != -1]\n",
    "        accuracy_sequence = np.sum(accuracy_array) / accuracy_array.shape[0]\n",
    "        accuracy_summary_gemma_no_finetuning.loc[subject, selected_brain_region] = accuracy_sequence\n",
    "\n",
    "        # Display the number of ambiguous predictions. \n",
    "        print(subject + ': ' + str(np.sum(Y_pred == -1)), 'ambiguous prediction(s) out of', len(Y_pred), '-', str(np.sum(Y_pred == -1) / len(Y_pred) * 100), '%')"
   ]
  },
  {
   "cell_type": "code",
   "execution_count": 17,
   "metadata": {},
   "outputs": [
    {
     "name": "stdout",
     "output_type": "stream",
     "text": [
      "Original device of the model: mps:0\n",
      "Prompt length: 1147\n",
      "Total FLOPs: 3,138,479,906,176\n",
      "FLOPs by operator: Counter({'linear': 2998372663296, 'matmul': 140107242880})\n",
      "Model moved back to: mps:0\n"
     ]
    }
   ],
   "source": [
    "# Set the logging level to suppress warnings. \n",
    "logging.getLogger('fvcore.nn.jit_handles').setLevel(logging.ERROR)\n",
    "logging.getLogger('fvcore.nn.jit_analysis').setLevel(logging.ERROR)\n",
    "\n",
    "# Store current device. \n",
    "device_before = next(model_gemma.parameters()).device\n",
    "print('Original device of the model:', device_before)\n",
    "\n",
    "# Define a class wrapping the model. \n",
    "# We output only logits (Tensor data type) for compatibility with FlopCountAnalysis. \n",
    "class WrappedModel(torch.nn.Module):\n",
    "    def __init__(self, model):\n",
    "        super().__init__()\n",
    "        self.model = model\n",
    "    def forward(self, input_ids):\n",
    "        output = self.model(input_ids)\n",
    "        return output.logits\n",
    "\n",
    "# Move the model to CPU and prepare dummy input for FLOPs analysis. \n",
    "model_gemma_cpu = WrappedModel(model_gemma).to('cpu')\n",
    "dummy_input = (torch.ones((1, len(prompt)), dtype = torch.long),) # batch_size = 1, seq_len = prompt length\n",
    "print('Prompt length:', len(prompt))\n",
    "\n",
    "# Measure the FLOPs. \n",
    "flops = FlopCountAnalysis(model_gemma_cpu, dummy_input)\n",
    "print(f'Total FLOPs: {flops.total():,}')\n",
    "print('FLOPs by operator:', flops.by_operator())\n",
    "\n",
    "# Move the model back to its original device. \n",
    "model_gemma.to(device_before)\n",
    "print('Model moved back to:', device_before)"
   ]
  },
  {
   "cell_type": "code",
   "execution_count": 18,
   "metadata": {},
   "outputs": [
    {
     "name": "stdout",
     "output_type": "stream",
     "text": [
      "FLOPs per inference: 3138479906176\n"
     ]
    }
   ],
   "source": [
    "# Store and display the number of FLOPs. \n",
    "dict_flops['Large Language Model Fine-Tuning: Without Fine-Tuning'] = flops.total()\n",
    "print('FLOPs per inference:', flops.total())"
   ]
  },
  {
   "cell_type": "code",
   "execution_count": 19,
   "metadata": {},
   "outputs": [
    {
     "data": {
      "text/html": [
       "<div>\n",
       "<style scoped>\n",
       "    .dataframe tbody tr th:only-of-type {\n",
       "        vertical-align: middle;\n",
       "    }\n",
       "\n",
       "    .dataframe tbody tr th {\n",
       "        vertical-align: top;\n",
       "    }\n",
       "\n",
       "    .dataframe thead th {\n",
       "        text-align: right;\n",
       "    }\n",
       "</style>\n",
       "<table border=\"1\" class=\"dataframe\">\n",
       "  <thead>\n",
       "    <tr style=\"text-align: right;\">\n",
       "      <th></th>\n",
       "      <th>Frontal Pole</th>\n",
       "      <th>Precentral Gyrus</th>\n",
       "      <th>Superior Temporal Gyrus, posterior division</th>\n",
       "      <th>Superior Parietal Lobule</th>\n",
       "      <th>Occipital Pole</th>\n",
       "    </tr>\n",
       "  </thead>\n",
       "  <tbody>\n",
       "    <tr>\n",
       "      <th>sub-xp101</th>\n",
       "      <td>0.578947</td>\n",
       "      <td>0.578947</td>\n",
       "      <td>0.55</td>\n",
       "      <td>0.611111</td>\n",
       "      <td>0.45</td>\n",
       "    </tr>\n",
       "    <tr>\n",
       "      <th>sub-xp103</th>\n",
       "      <td>0.588235</td>\n",
       "      <td>0.5</td>\n",
       "      <td>0.473684</td>\n",
       "      <td>0.315789</td>\n",
       "      <td>0.368421</td>\n",
       "    </tr>\n",
       "    <tr>\n",
       "      <th>sub-xp104</th>\n",
       "      <td>0.45</td>\n",
       "      <td>0.5</td>\n",
       "      <td>0.5</td>\n",
       "      <td>0.684211</td>\n",
       "      <td>0.7</td>\n",
       "    </tr>\n",
       "    <tr>\n",
       "      <th>sub-xp105</th>\n",
       "      <td>0.526316</td>\n",
       "      <td>0.7</td>\n",
       "      <td>0.722222</td>\n",
       "      <td>0.55</td>\n",
       "      <td>0.578947</td>\n",
       "    </tr>\n",
       "    <tr>\n",
       "      <th>sub-xp106</th>\n",
       "      <td>0.444444</td>\n",
       "      <td>0.526316</td>\n",
       "      <td>0.25</td>\n",
       "      <td>0.6</td>\n",
       "      <td>0.421053</td>\n",
       "    </tr>\n",
       "    <tr>\n",
       "      <th>sub-xp107</th>\n",
       "      <td>0.75</td>\n",
       "      <td>0.65</td>\n",
       "      <td>0.631579</td>\n",
       "      <td>0.6</td>\n",
       "      <td>0.842105</td>\n",
       "    </tr>\n",
       "    <tr>\n",
       "      <th>sub-xp108</th>\n",
       "      <td>0.35</td>\n",
       "      <td>0.45</td>\n",
       "      <td>0.5</td>\n",
       "      <td>0.65</td>\n",
       "      <td>0.526316</td>\n",
       "    </tr>\n",
       "    <tr>\n",
       "      <th>sub-xp109</th>\n",
       "      <td>0.5</td>\n",
       "      <td>0.6</td>\n",
       "      <td>0.55</td>\n",
       "      <td>0.526316</td>\n",
       "      <td>0.4</td>\n",
       "    </tr>\n",
       "    <tr>\n",
       "      <th>sub-xp110</th>\n",
       "      <td>0.578947</td>\n",
       "      <td>0.631579</td>\n",
       "      <td>0.55</td>\n",
       "      <td>0.473684</td>\n",
       "      <td>0.6</td>\n",
       "    </tr>\n",
       "  </tbody>\n",
       "</table>\n",
       "</div>"
      ],
      "text/plain": [
       "          Frontal Pole Precentral Gyrus  \\\n",
       "sub-xp101     0.578947         0.578947   \n",
       "sub-xp103     0.588235              0.5   \n",
       "sub-xp104         0.45              0.5   \n",
       "sub-xp105     0.526316              0.7   \n",
       "sub-xp106     0.444444         0.526316   \n",
       "sub-xp107         0.75             0.65   \n",
       "sub-xp108         0.35             0.45   \n",
       "sub-xp109          0.5              0.6   \n",
       "sub-xp110     0.578947         0.631579   \n",
       "\n",
       "          Superior Temporal Gyrus, posterior division  \\\n",
       "sub-xp101                                        0.55   \n",
       "sub-xp103                                    0.473684   \n",
       "sub-xp104                                         0.5   \n",
       "sub-xp105                                    0.722222   \n",
       "sub-xp106                                        0.25   \n",
       "sub-xp107                                    0.631579   \n",
       "sub-xp108                                         0.5   \n",
       "sub-xp109                                        0.55   \n",
       "sub-xp110                                        0.55   \n",
       "\n",
       "          Superior Parietal Lobule Occipital Pole  \n",
       "sub-xp101                 0.611111           0.45  \n",
       "sub-xp103                 0.315789       0.368421  \n",
       "sub-xp104                 0.684211            0.7  \n",
       "sub-xp105                     0.55       0.578947  \n",
       "sub-xp106                      0.6       0.421053  \n",
       "sub-xp107                      0.6       0.842105  \n",
       "sub-xp108                     0.65       0.526316  \n",
       "sub-xp109                 0.526316            0.4  \n",
       "sub-xp110                 0.473684            0.6  "
      ]
     },
     "execution_count": 19,
     "metadata": {},
     "output_type": "execute_result"
    }
   ],
   "source": [
    "# Display the accuracies per subject and brain region. \n",
    "accuracy_summary_gemma_no_finetuning"
   ]
  },
  {
   "cell_type": "code",
   "execution_count": 20,
   "metadata": {},
   "outputs": [
    {
     "data": {
      "image/png": "[encoded data removed]",
      "text/plain": [
       "<Figure size 1000x400 with 1 Axes>"
      ]
     },
     "metadata": {},
     "output_type": "display_data"
    }
   ],
   "source": [
    "# Retrieve the average accuracy across subjects, and the standard error of the accuracy across subjects. \n",
    "accuracy_mean = list(accuracy_summary_gemma_no_finetuning.mean().values)\n",
    "accuracy_mean.insert(0, 0.5) # Insert a baseline average of 0.5. \n",
    "accuracy_se = list(accuracy_summary_gemma_no_finetuning.std().values / np.sqrt(len(subjects)))\n",
    "accuracy_se.insert(0, 0) # Insert a baseline standard error of 0. \n",
    "\n",
    "# Append the total average accuracy and its standard error. \n",
    "nb_brain_regions = accuracy_summary_gemma_no_finetuning.shape[1]\n",
    "accuracy_mean.append(np.mean(accuracy_mean[1:]))\n",
    "accuracy_se.append(np.std(accuracy_mean[1:]) / (np.sqrt(len(subjects) * nb_brain_regions)))\n",
    "\n",
    "# Create the labels. \n",
    "labels = brain_regions.copy()\n",
    "labels.insert(0, 'Baseline')\n",
    "labels.append('Total')\n",
    "\n",
    "# Display the average accuracy and its standard error in a bar plot. \n",
    "fig, axes = plt.subplots(nrows = 1, ncols = 1, figsize = (10, 4))\n",
    "axes.bar(range(nb_brain_regions + 2), accuracy_mean, width = 0.6, color = ['green', *['blue'] * nb_brain_regions, 'mediumblue'])\n",
    "axes.errorbar(range(nb_brain_regions + 2), accuracy_mean, yerr = accuracy_se, fmt = 'None', color = 'black')\n",
    "axes.axhline(accuracy_mean[0], 0, 1, color = 'green', linestyle = 'dashed', alpha = 0.5)\n",
    "axes.set_xticks(range(nb_brain_regions + 2), labels = labels)\n",
    "axes.set_xticklabels(labels, rotation = 45, ha = 'right')\n",
    "axes.set_ylabel('Average accuracy across subjects')\n",
    "axes.set_title('Gemma-2-2B-IT without fine-tuning');"
   ]
  },
  {
   "cell_type": "markdown",
   "metadata": {},
   "source": [
    "## **3. Gemma Fine-Tuning**\n",
    "\n",
    "We **fine-tune** a separate instance of the **Gemma-2-2B-IT large language model** for each brain region of each subject, using input-output pairs obtained from the fmriNF session. This strategy turns out to give better results than fine-tuning either a single instance for all subjects and brain regions, or one instance per subject. However, since we are working with very few examples and binary targets (\"Increasing\" or \"Decreasing\"), the gradient updates can be very noisy. In this situation, the model can behave unexpectedly, producing empty outputs or oscillating between the two targets. We use gradient accumulation to ensure a more stable convergence, and a low learning rate to avoid catastrophic forgetting. Once the model is fine-tuned, we generate predictions for the eegfmriNF condition, and compare them with the predictions of the original model. In the bar plot presenting the results, an indicative baseline is given for visualization purposes, but the real baseline depends both on the selected fMRI scans and the distribution of missing or ambiguous predictions. "
   ]
  },
  {
   "cell_type": "code",
   "execution_count": 21,
   "metadata": {},
   "outputs": [],
   "source": [
    "# Define the tokenize function. \n",
    "def tokenize_function(example):\n",
    "\n",
    "    # Tokenize inputs and labels. \n",
    "    input_encodings = tokenizer_gemma(example['input'], truncation = True, padding = 'max_length', max_length = 512)\n",
    "    label_encodings = tokenizer_gemma(example['output'], add_special_tokens = False, truncation = True, padding = 'max_length', max_length = 512)\n",
    "    \n",
    "    # Replace pad tokens with -100 in order to ignore them in the loss calculation, and remove the BOS token. \n",
    "    labels = label_encodings['input_ids']\n",
    "    labels = [label if label != tokenizer_gemma.pad_token_id else -100 for label in labels]\n",
    "    \n",
    "    # Return formatted data. \n",
    "    return {\n",
    "        'input_ids': input_encodings['input_ids'],\n",
    "        'attention_mask': input_encodings['attention_mask'],\n",
    "        'labels': labels\n",
    "    }"
   ]
  },
  {
   "cell_type": "code",
   "execution_count": 22,
   "metadata": {},
   "outputs": [],
   "source": [
    "# Define a function to replace pad tokens with ignore tokens. \n",
    "def replace_pad_with_ignore(labels, pad_token_id, ignore_index = -100):\n",
    "    return [ignore_index if token == pad_token_id else token for token in labels]"
   ]
  },
  {
   "cell_type": "code",
   "execution_count": 23,
   "metadata": {},
   "outputs": [
    {
     "name": "stdout",
     "output_type": "stream",
     "text": [
      "Frontal Pole\n",
      "sub-xp101\n",
      "{'train_runtime': 17.8592, 'train_samples_per_second': 2.8, 'train_steps_per_second': 0.28, 'train_loss': 22.4102783203125, 'epoch': 2.8}\n",
      "sub-xp103\n",
      "{'train_runtime': 17.4575, 'train_samples_per_second': 2.864, 'train_steps_per_second': 0.286, 'train_loss': 22.344845581054688, 'epoch': 2.8}\n",
      "sub-xp104\n",
      "{'train_runtime': 17.4954, 'train_samples_per_second': 2.858, 'train_steps_per_second': 0.286, 'train_loss': 22.43403778076172, 'epoch': 2.8}\n",
      "sub-xp105\n",
      "{'train_runtime': 17.4671, 'train_samples_per_second': 2.863, 'train_steps_per_second': 0.286, 'train_loss': 22.421810913085938, 'epoch': 2.8}\n",
      "sub-xp106\n",
      "{'train_runtime': 17.4931, 'train_samples_per_second': 2.858, 'train_steps_per_second': 0.286, 'train_loss': 22.285179138183594, 'epoch': 2.8}\n",
      "sub-xp107\n",
      "{'train_runtime': 17.507, 'train_samples_per_second': 2.856, 'train_steps_per_second': 0.286, 'train_loss': 22.3550048828125, 'epoch': 2.8}\n",
      "sub-xp108\n",
      "{'train_runtime': 17.5428, 'train_samples_per_second': 2.85, 'train_steps_per_second': 0.285, 'train_loss': 22.29100646972656, 'epoch': 2.8}\n",
      "sub-xp109\n",
      "{'train_runtime': 18.377, 'train_samples_per_second': 2.721, 'train_steps_per_second': 0.272, 'train_loss': 22.413951110839843, 'epoch': 2.8}\n",
      "sub-xp110\n",
      "{'train_runtime': 19.481, 'train_samples_per_second': 2.567, 'train_steps_per_second': 0.257, 'train_loss': 22.52386932373047, 'epoch': 2.8}\n",
      "Precentral Gyrus\n",
      "sub-xp101\n",
      "{'train_runtime': 20.0267, 'train_samples_per_second': 2.497, 'train_steps_per_second': 0.25, 'train_loss': 22.263002014160158, 'epoch': 2.8}\n",
      "sub-xp103\n",
      "{'train_runtime': 19.832, 'train_samples_per_second': 2.521, 'train_steps_per_second': 0.252, 'train_loss': 22.34835205078125, 'epoch': 2.8}\n",
      "sub-xp104\n",
      "{'train_runtime': 19.3747, 'train_samples_per_second': 2.581, 'train_steps_per_second': 0.258, 'train_loss': 22.435604858398438, 'epoch': 2.8}\n",
      "sub-xp105\n",
      "{'train_runtime': 19.0151, 'train_samples_per_second': 2.629, 'train_steps_per_second': 0.263, 'train_loss': 22.255938720703124, 'epoch': 2.8}\n",
      "sub-xp106\n",
      "{'train_runtime': 18.7142, 'train_samples_per_second': 2.672, 'train_steps_per_second': 0.267, 'train_loss': 22.35212860107422, 'epoch': 2.8}\n",
      "sub-xp107\n",
      "{'train_runtime': 18.39, 'train_samples_per_second': 2.719, 'train_steps_per_second': 0.272, 'train_loss': 22.335733032226564, 'epoch': 2.8}\n",
      "sub-xp108\n",
      "{'train_runtime': 18.1673, 'train_samples_per_second': 2.752, 'train_steps_per_second': 0.275, 'train_loss': 22.340611267089844, 'epoch': 2.8}\n",
      "sub-xp109\n",
      "{'train_runtime': 17.9753, 'train_samples_per_second': 2.782, 'train_steps_per_second': 0.278, 'train_loss': 22.480364990234374, 'epoch': 2.8}\n",
      "sub-xp110\n",
      "{'train_runtime': 17.85, 'train_samples_per_second': 2.801, 'train_steps_per_second': 0.28, 'train_loss': 22.41111602783203, 'epoch': 2.8}\n",
      "Superior Temporal Gyrus, posterior division\n",
      "sub-xp101\n",
      "{'train_runtime': 17.769, 'train_samples_per_second': 2.814, 'train_steps_per_second': 0.281, 'train_loss': 22.347566223144533, 'epoch': 2.8}\n",
      "sub-xp103\n",
      "{'train_runtime': 17.7517, 'train_samples_per_second': 2.817, 'train_steps_per_second': 0.282, 'train_loss': 22.369735717773438, 'epoch': 2.8}\n",
      "sub-xp104\n",
      "{'train_runtime': 17.6838, 'train_samples_per_second': 2.827, 'train_steps_per_second': 0.283, 'train_loss': 22.389183044433594, 'epoch': 2.8}\n",
      "sub-xp105\n",
      "{'train_runtime': 17.6872, 'train_samples_per_second': 2.827, 'train_steps_per_second': 0.283, 'train_loss': 22.48107452392578, 'epoch': 2.8}\n",
      "sub-xp106\n",
      "{'train_runtime': 17.7079, 'train_samples_per_second': 2.824, 'train_steps_per_second': 0.282, 'train_loss': 22.257733154296876, 'epoch': 2.8}\n",
      "sub-xp107\n",
      "{'train_runtime': 17.6822, 'train_samples_per_second': 2.828, 'train_steps_per_second': 0.283, 'train_loss': 22.33892059326172, 'epoch': 2.8}\n",
      "sub-xp108\n",
      "{'train_runtime': 17.7133, 'train_samples_per_second': 2.823, 'train_steps_per_second': 0.282, 'train_loss': 22.327841186523436, 'epoch': 2.8}\n",
      "sub-xp109\n",
      "{'train_runtime': 17.7115, 'train_samples_per_second': 2.823, 'train_steps_per_second': 0.282, 'train_loss': 22.3353271484375, 'epoch': 2.8}\n",
      "sub-xp110\n",
      "{'train_runtime': 17.7523, 'train_samples_per_second': 2.817, 'train_steps_per_second': 0.282, 'train_loss': 22.43812255859375, 'epoch': 2.8}\n",
      "Superior Parietal Lobule\n",
      "sub-xp101\n",
      "{'train_runtime': 17.7334, 'train_samples_per_second': 2.82, 'train_steps_per_second': 0.282, 'train_loss': 22.262559509277345, 'epoch': 2.8}\n",
      "sub-xp103\n",
      "{'train_runtime': 17.7639, 'train_samples_per_second': 2.815, 'train_steps_per_second': 0.281, 'train_loss': 22.3432373046875, 'epoch': 2.8}\n",
      "sub-xp104\n",
      "{'train_runtime': 17.7373, 'train_samples_per_second': 2.819, 'train_steps_per_second': 0.282, 'train_loss': 22.425848388671874, 'epoch': 2.8}\n",
      "sub-xp105\n",
      "{'train_runtime': 17.747, 'train_samples_per_second': 2.817, 'train_steps_per_second': 0.282, 'train_loss': 22.34473114013672, 'epoch': 2.8}\n",
      "sub-xp106\n",
      "{'train_runtime': 17.8009, 'train_samples_per_second': 2.809, 'train_steps_per_second': 0.281, 'train_loss': 22.338766479492186, 'epoch': 2.8}\n",
      "sub-xp107\n",
      "{'train_runtime': 17.7301, 'train_samples_per_second': 2.82, 'train_steps_per_second': 0.282, 'train_loss': 22.320037841796875, 'epoch': 2.8}\n",
      "sub-xp108\n",
      "{'train_runtime': 17.7221, 'train_samples_per_second': 2.821, 'train_steps_per_second': 0.282, 'train_loss': 22.340841674804686, 'epoch': 2.8}\n",
      "sub-xp109\n",
      "{'train_runtime': 17.7412, 'train_samples_per_second': 2.818, 'train_steps_per_second': 0.282, 'train_loss': 22.43016815185547, 'epoch': 2.8}\n",
      "sub-xp110\n",
      "{'train_runtime': 17.7721, 'train_samples_per_second': 2.813, 'train_steps_per_second': 0.281, 'train_loss': 22.57701873779297, 'epoch': 2.8}\n",
      "Occipital Pole\n",
      "sub-xp101\n",
      "{'train_runtime': 17.7156, 'train_samples_per_second': 2.822, 'train_steps_per_second': 0.282, 'train_loss': 22.38525848388672, 'epoch': 2.8}\n",
      "sub-xp103\n",
      "{'train_runtime': 17.6593, 'train_samples_per_second': 2.831, 'train_steps_per_second': 0.283, 'train_loss': 22.267868041992188, 'epoch': 2.8}\n",
      "sub-xp104\n",
      "{'train_runtime': 17.6726, 'train_samples_per_second': 2.829, 'train_steps_per_second': 0.283, 'train_loss': 22.43802490234375, 'epoch': 2.8}\n",
      "sub-xp105\n",
      "{'train_runtime': 17.6332, 'train_samples_per_second': 2.836, 'train_steps_per_second': 0.284, 'train_loss': 22.307815551757812, 'epoch': 2.8}\n",
      "sub-xp106\n",
      "{'train_runtime': 17.6172, 'train_samples_per_second': 2.838, 'train_steps_per_second': 0.284, 'train_loss': 22.426716613769532, 'epoch': 2.8}\n",
      "sub-xp107\n",
      "{'train_runtime': 17.6179, 'train_samples_per_second': 2.838, 'train_steps_per_second': 0.284, 'train_loss': 22.466275024414063, 'epoch': 2.8}\n",
      "sub-xp108\n",
      "{'train_runtime': 17.6331, 'train_samples_per_second': 2.836, 'train_steps_per_second': 0.284, 'train_loss': 22.327572631835938, 'epoch': 2.8}\n",
      "sub-xp109\n",
      "{'train_runtime': 17.6214, 'train_samples_per_second': 2.837, 'train_steps_per_second': 0.284, 'train_loss': 22.448719787597657, 'epoch': 2.8}\n",
      "sub-xp110\n",
      "{'train_runtime': 17.6131, 'train_samples_per_second': 2.839, 'train_steps_per_second': 0.284, 'train_loss': 22.405670166015625, 'epoch': 2.8}\n"
     ]
    }
   ],
   "source": [
    "# Select the sequence length, bandpowers, condition, and brain regions. \n",
    "sequence_length = 5\n",
    "selected_bandpowers = [0, 1, 2, 4]\n",
    "condition = 'fmriNF'\n",
    "brain_regions = ['Frontal Pole', # High-order cognitive functions, but sometimes noisy EEG signal. \n",
    "                 'Precentral Gyrus', # Primary motor cortex. \n",
    "                 'Superior Temporal Gyrus, posterior division', # Auditory functions. \n",
    "                 'Superior Parietal Lobule', # Attention functions. \n",
    "                 'Occipital Pole'] # Primary visual cortex. \n",
    "\n",
    "# Select a sequence of fMRI scans. \n",
    "fmri_scans = range(5, (nb_scans_total - 1), 20) # Extensive search. Do not select more scans than this to avoid overfitting issues. \n",
    "#fmri_scans = range(5, (nb_scans_total - 1), 100) # Quick search for debugging.\n",
    "\n",
    "# Define a dictionary to store the fine-tuned models. Warning: this dictionary is very large and requires a lot of memory. \n",
    "#finetuned_models = dict() # For debugging. \n",
    "\n",
    "# Iterate through all brain regions. \n",
    "for selected_brain_region in brain_regions:\n",
    "\n",
    "    # Display the current brain region. \n",
    "    print(selected_brain_region)\n",
    "\n",
    "    # Retrieve the EEG channel corresponding to the brain region. \n",
    "    selected_brain_region_index = list(targets).index(selected_brain_region)\n",
    "    selected_eeg_channel = region_channel_mapping[selected_brain_region]\n",
    "    selected_eeg_channel_index = channel_names.index(selected_eeg_channel)\n",
    "\n",
    "    # Define a dictionary at the level of brain regions. Warning: this dictionary is very large and requires a lot of memory. \n",
    "    #finetuned_models[selected_brain_region] = dict() # For debugging. \n",
    "\n",
    "    # Iterate through all subjects. \n",
    "    for subject in subjects:\n",
    "\n",
    "        # Display the current subject. \n",
    "        print(subject)\n",
    "\n",
    "        # Define the train data list for fine-tuning. \n",
    "        train_data = []\n",
    "\n",
    "        # PROMPT GENERATION ==========================================================================================\n",
    "                                \n",
    "        # Retrieve the features for the selected subject, condition, and EEG channel. \n",
    "        X = dict_features_basis_class[subject][condition][:, (selected_eeg_channel_index * len(bandpower_names)):(selected_eeg_channel_index * len(bandpower_names)) + len(bandpower_names)]\n",
    "\n",
    "        # Retrieve the targets for the selected subject, condition, and fMRI brain region. \n",
    "        Y = dict_targets_basis_class[subject][condition][:, selected_brain_region_index]\n",
    "\n",
    "        # Iterate through all selected fMRI scans. \n",
    "        for fmri_scan_index in fmri_scans:\n",
    "\n",
    "            # Create the LLM prompt. \n",
    "            prompt = prompt_llm(X, \n",
    "                                fmri_scan_index = fmri_scan_index, \n",
    "                                sequence_length = sequence_length, \n",
    "                                selected_bandpowers = selected_bandpowers, \n",
    "                                selected_eeg_channel = selected_eeg_channel, \n",
    "                                selected_brain_region = selected_brain_region)\n",
    "            \n",
    "            # Retrieve the correct answer. \n",
    "            if Y[fmri_scan_index] == 1:\n",
    "                answer = 'increasing'\n",
    "            else:\n",
    "                answer = 'decreasing'\n",
    "\n",
    "            # Append the prompt and the answer to the train data list. \n",
    "            train_data.append({'input': prompt, 'output': answer})\n",
    "\n",
    "        # FINE-TUNING =================================================================================================\n",
    "        \n",
    "        # Tokenize the dataset, and replace pad tokens by ignore tokens. \n",
    "        datasets.disable_progress_bar()\n",
    "        dataset = datasets.Dataset.from_list(train_data)\n",
    "        dataset = dataset.map(tokenize_function, batched = True)\n",
    "        dataset = dataset.map(lambda example: {'labels': replace_pad_with_ignore(example['labels'], pad_token_id = 0)})\n",
    "\n",
    "        # Define the LoRA configuration. \n",
    "        lora_config = LoraConfig(\n",
    "            r = 16, lora_alpha = 32, target_modules = ['q_proj', 'v_proj'], lora_dropout = 0.1, bias = 'none', task_type = 'CAUSAL_LM'\n",
    "        )\n",
    "\n",
    "        # Create a new instance of the model with the LoRA configuration. \n",
    "        model_copy = deepcopy(model_gemma)\n",
    "        model_gemma_finetuned = get_peft_model(model_copy, lora_config)\n",
    "\n",
    "        # Define the training arguments. \n",
    "        training_args = TrainingArguments(\n",
    "            output_dir = finetuned_models_path, \n",
    "            per_device_train_batch_size = 1, \n",
    "            gradient_accumulation_steps = 8, \n",
    "            learning_rate = 1e-5, \n",
    "            weight_decay = 0.01, \n",
    "            num_train_epochs = 5, \n",
    "            save_strategy = 'no', \n",
    "            logging_strategy = 'no', \n",
    "            disable_tqdm = True, \n",
    "            label_names = ['labels']\n",
    "        )\n",
    "\n",
    "        # Define the data collator. \n",
    "        data_collator = DataCollatorForSeq2Seq(tokenizer_gemma, padding = True, label_pad_token_id = -100)\n",
    "\n",
    "        # Define the trainer. \n",
    "        trainer = Trainer(\n",
    "            model = model_gemma_finetuned, \n",
    "            args = training_args, \n",
    "            train_dataset = dataset, \n",
    "            data_collator = data_collator\n",
    "        )\n",
    "\n",
    "        # Fine-tune the model. \n",
    "        trainer.train()\n",
    "\n",
    "        # Define the fine-tuned model path and save the model. \n",
    "        finetuned_model_path = finetuned_models_path + 'gemma-2-2b-it_' + subject + '_' + selected_brain_region.replace(' ', '_')\n",
    "        trainer.save_model(finetuned_model_path)\n",
    "\n",
    "        # Store the fine-tuned model in the dictionary. Warning: this dictionary is very large and requires a lot of memory. \n",
    "        #finetuned_models[selected_brain_region][subject] = model_gemma_finetuned # For debugging. \n",
    "\n",
    "        # Delete the model and run garbage collection. \n",
    "        del model_copy\n",
    "        del model_gemma_finetuned\n",
    "        gc.collect()"
   ]
  },
  {
   "cell_type": "code",
   "execution_count": 24,
   "metadata": {},
   "outputs": [
    {
     "data": {
      "text/plain": [
       "Dataset({\n",
       "    features: ['input', 'output', 'input_ids', 'attention_mask', 'labels'],\n",
       "    num_rows: 10\n",
       "})"
      ]
     },
     "execution_count": 24,
     "metadata": {},
     "output_type": "execute_result"
    }
   ],
   "source": [
    "# Display the Dataset object. \n",
    "dataset"
   ]
  },
  {
   "cell_type": "code",
   "execution_count": 25,
   "metadata": {},
   "outputs": [
    {
     "name": "stdout",
     "output_type": "stream",
     "text": [
      "Input: A human subject participated in a neuroscience experiment where EEG data and fMRI data were recorded simultaneously. The EEG band powers were measured every two seconds at electrode Oz, with the following results: Delta (1-4 Hz): [ 1.35897687 -0.69466493 -0.2598298  -0.32184517  0.65120589], Theta (4-8 Hz): [-0.38139792 -0.95169015 -1.03299083 -0.10707637 -0.03116712], Alpha (8-12 Hz): [ 0.38394683  0.95835982  0.89268672 -0.66829043 -0.88954599], Beta (16-30 Hz): [-1.33221921  0.3676267  -0.68094793 -1.21691632  0.39893864]. The fMRI BOLD signal was measured in the Occipital Pole during the last two seconds. Given the EEG data, is the fMRI signal in this brain region likely increasing or decreasing during these last two seconds? Base your answer on your general knowledge in neuroscience, EEG research, and fMRI research. Since this is a time series, you might need to take into account the hemodynamic response function (HRF), and the fact that after an event, the fMRI response is delayed compared to the EEG response. Please answer with only one word: Increasing or Decreasing. Just give your best prediction, without any explanation.\n",
      "Output: decreasing\n"
     ]
    }
   ],
   "source": [
    "# Display an example of input and output. \n",
    "print('Input:', dataset['input'][0])\n",
    "print('Output:', dataset['output'][0])"
   ]
  },
  {
   "cell_type": "code",
   "execution_count": 26,
   "metadata": {},
   "outputs": [
    {
     "name": "stdout",
     "output_type": "stream",
     "text": [
      "The first input tokens should be zero given the left padding. The last input tokens should be non-zero.\n",
      "\n",
      "First input tokens: [0, 0, 0, 0, 0, 0, 0, 0, 0, 0]\n",
      "Last input tokens: [6372, 2734, 861, 1963, 25166, 235269, 2346, 1089, 15844, 235265]\n"
     ]
    }
   ],
   "source": [
    "# Display the first and last input tokens. \n",
    "print('The first input tokens should be zero given the left padding. The last input tokens should be non-zero.')\n",
    "print('\\nFirst input tokens:', dataset['input_ids'][0][0:10])\n",
    "print('Last input tokens:', dataset['input_ids'][0][-10:])"
   ]
  },
  {
   "cell_type": "code",
   "execution_count": 27,
   "metadata": {},
   "outputs": [
    {
     "name": "stdout",
     "output_type": "stream",
     "text": [
      "The attention mask values should be zero for the padding tokens and one for the non-padding tokens.\n"
     ]
    },
    {
     "data": {
      "image/png": "[encoded data removed]",
      "text/plain": [
       "<Figure size 500x300 with 1 Axes>"
      ]
     },
     "metadata": {},
     "output_type": "display_data"
    }
   ],
   "source": [
    "# Plot the attention mask values. \n",
    "print('The attention mask values should be zero for the padding tokens and one for the non-padding tokens.')\n",
    "plt.figure(figsize=(5, 3))\n",
    "plt.plot(dataset['attention_mask'][0]);"
   ]
  },
  {
   "cell_type": "code",
   "execution_count": 28,
   "metadata": {},
   "outputs": [
    {
     "name": "stdout",
     "output_type": "stream",
     "text": [
      "The label values should be -100 (the ignore token) for all positions except the last one.\n"
     ]
    },
    {
     "data": {
      "text/plain": [
       "-100       511\n",
       " 202912      1\n",
       "Name: count, dtype: int64"
      ]
     },
     "execution_count": 28,
     "metadata": {},
     "output_type": "execute_result"
    }
   ],
   "source": [
    "# Display the label values. \n",
    "print('The label values should be -100 (the ignore token) for all positions except the last one.')\n",
    "pd.Series(dataset['labels'][0]).value_counts()"
   ]
  },
  {
   "cell_type": "code",
   "execution_count": 29,
   "metadata": {},
   "outputs": [
    {
     "name": "stdout",
     "output_type": "stream",
     "text": [
      "Last label: 202912\n",
      "Last label decoded: decreasing\n"
     ]
    }
   ],
   "source": [
    "# Display the last label value. \n",
    "last_label = dataset['labels'][0][-1]\n",
    "print('Last label:', last_label)\n",
    "print('Last label decoded:', tokenizer_gemma.decode([last_label]))"
   ]
  },
  {
   "cell_type": "code",
   "execution_count": 30,
   "metadata": {},
   "outputs": [
    {
     "name": "stdout",
     "output_type": "stream",
     "text": [
      "Brain region: Frontal Pole\n",
      "Brain region index: 1\n",
      "EEG channel: Fpz\n",
      "EEG channel index: 61\n"
     ]
    }
   ],
   "source": [
    "# Select a subject and a condition. \n",
    "subject = 'sub-xp101'\n",
    "condition = 'eegfmriNF'\n",
    "\n",
    "# Select a fMRI brain region and retrieve its corresponding EEG channel. \n",
    "selected_brain_region = 'Frontal Pole'\n",
    "selected_brain_region_index = list(targets).index(selected_brain_region)\n",
    "selected_eeg_channel = region_channel_mapping[selected_brain_region]\n",
    "selected_eeg_channel_index = channel_names.index(selected_eeg_channel)\n",
    "\n",
    "# Display the fMRI brain region and its corresponding EEG channel. \n",
    "print('Brain region:', selected_brain_region)\n",
    "print('Brain region index:', int(selected_brain_region_index))\n",
    "print('EEG channel:', selected_eeg_channel)\n",
    "print('EEG channel index:', int(selected_eeg_channel_index))"
   ]
  },
  {
   "cell_type": "code",
   "execution_count": 31,
   "metadata": {},
   "outputs": [
    {
     "data": {
      "text/plain": [
       "'A human subject participated in a neuroscience experiment where EEG data and fMRI data were recorded simultaneously. The EEG band powers were measured every two seconds at electrode Fpz, with the following results: Delta (1-4 Hz): [-0.22278232  0.64400346  1.11835758 -1.24585523 -0.13343407], Theta (4-8 Hz): [ 0.3256324  -0.68492586 -0.96076972  0.99095653 -0.37529182], Alpha (8-12 Hz): [-0.40537466 -0.04844749 -0.69866725  0.40412502  1.11390381], Beta (16-30 Hz): [ 0.55265258 -0.03498027 -0.91193884  1.92475433  1.92719948]. The fMRI BOLD signal was measured in the Frontal Pole during the last two seconds. Given the EEG data, is the fMRI signal in this brain region likely increasing or decreasing during these last two seconds? Base your answer on your general knowledge in neuroscience, EEG research, and fMRI research. Since this is a time series, you might need to take into account the hemodynamic response function (HRF), and the fact that after an event, the fMRI response is delayed compared to the EEG response. Please answer with only one word: Increasing or Decreasing. Just give your best prediction, without any explanation.'"
      ]
     },
     "execution_count": 31,
     "metadata": {},
     "output_type": "execute_result"
    }
   ],
   "source": [
    "# Retrieve the features for the selected subject, condition, and EEG channel. \n",
    "X = dict_features_basis_class[subject][condition][:, (selected_eeg_channel_index * len(bandpower_names)):(selected_eeg_channel_index * len(bandpower_names)) + len(bandpower_names)]\n",
    "\n",
    "# Retrieve the targets for the selected subject, condition, and fMRI brain region. \n",
    "Y = dict_targets_basis_class[subject][condition][:, selected_brain_region_index]\n",
    "\n",
    "# Select the sequence length and the bandpowers. \n",
    "sequence_length = 5\n",
    "selected_bandpowers = [0, 1, 2, 4]\n",
    "\n",
    "# Create the LLM prompt. \n",
    "prompt = prompt_llm(X, \n",
    "                    fmri_scan_index = 5, \n",
    "                    sequence_length = sequence_length, \n",
    "                    selected_bandpowers = selected_bandpowers, \n",
    "                    selected_eeg_channel = selected_eeg_channel, \n",
    "                    selected_brain_region = selected_brain_region)\n",
    "prompt"
   ]
  },
  {
   "cell_type": "code",
   "execution_count": 32,
   "metadata": {},
   "outputs": [
    {
     "data": {
      "text/plain": [
       "'Decreasing.'"
      ]
     },
     "execution_count": 32,
     "metadata": {},
     "output_type": "execute_result"
    }
   ],
   "source": [
    "# Define the fine-tuned model path. \n",
    "finetuned_model_path = finetuned_models_path + 'gemma-2-2b-it_' + subject + '_' + selected_brain_region.replace(' ', '_')\n",
    "\n",
    "# Copy the base model. \n",
    "model_copy = deepcopy(model_gemma)\n",
    "\n",
    "# Load the fine-tuned model. \n",
    "model_gemma_finetuned = PeftModel.from_pretrained(model_copy, finetuned_model_path)\n",
    "\n",
    "# Run the LLM once. \n",
    "answer_only = run_llm(prompt, tokenizer_gemma, model_gemma_finetuned)\n",
    "\n",
    "# Delete the model and run garbage collection. \n",
    "del model_copy\n",
    "del model_gemma_finetuned\n",
    "gc.collect()\n",
    "\n",
    "# Display the result. \n",
    "answer_only"
   ]
  },
  {
   "cell_type": "code",
   "execution_count": 33,
   "metadata": {},
   "outputs": [
    {
     "name": "stdout",
     "output_type": "stream",
     "text": [
      "Frontal Pole\n",
      "sub-xp101: 1 ambiguous prediction(s) out of 20 - 5.0 %\n",
      "sub-xp103: 0 ambiguous prediction(s) out of 20 - 0.0 %\n",
      "sub-xp104: 1 ambiguous prediction(s) out of 20 - 5.0 %\n",
      "sub-xp105: 1 ambiguous prediction(s) out of 20 - 5.0 %\n",
      "sub-xp106: 1 ambiguous prediction(s) out of 20 - 5.0 %\n",
      "sub-xp107: 1 ambiguous prediction(s) out of 20 - 5.0 %\n",
      "sub-xp108: 0 ambiguous prediction(s) out of 20 - 0.0 %\n",
      "sub-xp109: 0 ambiguous prediction(s) out of 20 - 0.0 %\n",
      "sub-xp110: 1 ambiguous prediction(s) out of 20 - 5.0 %\n",
      "Precentral Gyrus\n",
      "sub-xp101: 1 ambiguous prediction(s) out of 20 - 5.0 %\n",
      "sub-xp103: 0 ambiguous prediction(s) out of 20 - 0.0 %\n",
      "sub-xp104: 0 ambiguous prediction(s) out of 20 - 0.0 %\n",
      "sub-xp105: 1 ambiguous prediction(s) out of 20 - 5.0 %\n",
      "sub-xp106: 0 ambiguous prediction(s) out of 20 - 0.0 %\n",
      "sub-xp107: 2 ambiguous prediction(s) out of 20 - 10.0 %\n",
      "sub-xp108: 1 ambiguous prediction(s) out of 20 - 5.0 %\n",
      "sub-xp109: 1 ambiguous prediction(s) out of 20 - 5.0 %\n",
      "sub-xp110: 0 ambiguous prediction(s) out of 20 - 0.0 %\n",
      "Superior Temporal Gyrus, posterior division\n",
      "sub-xp101: 0 ambiguous prediction(s) out of 20 - 0.0 %\n",
      "sub-xp103: 1 ambiguous prediction(s) out of 20 - 5.0 %\n",
      "sub-xp104: 1 ambiguous prediction(s) out of 20 - 5.0 %\n",
      "sub-xp105: 0 ambiguous prediction(s) out of 20 - 0.0 %\n",
      "sub-xp106: 2 ambiguous prediction(s) out of 20 - 10.0 %\n",
      "sub-xp107: 1 ambiguous prediction(s) out of 20 - 5.0 %\n",
      "sub-xp108: 2 ambiguous prediction(s) out of 20 - 10.0 %\n",
      "sub-xp109: 1 ambiguous prediction(s) out of 20 - 5.0 %\n",
      "sub-xp110: 2 ambiguous prediction(s) out of 20 - 10.0 %\n",
      "Superior Parietal Lobule\n",
      "sub-xp101: 0 ambiguous prediction(s) out of 20 - 0.0 %\n",
      "sub-xp103: 0 ambiguous prediction(s) out of 20 - 0.0 %\n",
      "sub-xp104: 0 ambiguous prediction(s) out of 20 - 0.0 %\n",
      "sub-xp105: 2 ambiguous prediction(s) out of 20 - 10.0 %\n",
      "sub-xp106: 0 ambiguous prediction(s) out of 20 - 0.0 %\n",
      "sub-xp107: 1 ambiguous prediction(s) out of 20 - 5.0 %\n",
      "sub-xp108: 0 ambiguous prediction(s) out of 20 - 0.0 %\n",
      "sub-xp109: 1 ambiguous prediction(s) out of 20 - 5.0 %\n",
      "sub-xp110: 1 ambiguous prediction(s) out of 20 - 5.0 %\n",
      "Occipital Pole\n",
      "sub-xp101: 0 ambiguous prediction(s) out of 20 - 0.0 %\n",
      "sub-xp103: 0 ambiguous prediction(s) out of 20 - 0.0 %\n",
      "sub-xp104: 0 ambiguous prediction(s) out of 20 - 0.0 %\n",
      "sub-xp105: 2 ambiguous prediction(s) out of 20 - 10.0 %\n",
      "sub-xp106: 1 ambiguous prediction(s) out of 20 - 5.0 %\n",
      "sub-xp107: 3 ambiguous prediction(s) out of 20 - 15.0 %\n",
      "sub-xp108: 0 ambiguous prediction(s) out of 20 - 0.0 %\n",
      "sub-xp109: 0 ambiguous prediction(s) out of 20 - 0.0 %\n",
      "sub-xp110: 0 ambiguous prediction(s) out of 20 - 0.0 %\n"
     ]
    }
   ],
   "source": [
    "# Select the sequence length, bandpowers, condition, and brain regions. \n",
    "sequence_length = 5\n",
    "selected_bandpowers = [0, 1, 2, 4]\n",
    "condition = 'eegfmriNF'\n",
    "brain_regions = ['Frontal Pole', # High-order cognitive functions, but sometimes noisy EEG signal. \n",
    "                 'Precentral Gyrus', # Primary motor cortex. \n",
    "                 'Superior Temporal Gyrus, posterior division', # Auditory functions. \n",
    "                 'Superior Parietal Lobule', # Attention functions. \n",
    "                 'Occipital Pole'] # Primary visual cortex. \n",
    "\n",
    "# Select a sequence of fMRI scans. \n",
    "fmri_scans = range(5, (nb_scans_total - 1), 10) # Extensive search.\n",
    "#fmri_scans = range(5, (nb_scans_total - 1), 100) # Quick search for debugging.\n",
    "\n",
    "# Store the brain regions and the sequence of fMRI scans in dictionaries. \n",
    "dict_brain_regions['Large Language Model Fine-Tuning: With Fine-Tuning'] = brain_regions\n",
    "dict_fmri_scans['Large Language Model Fine-Tuning: With Fine-Tuning'] = fmri_scans\n",
    "\n",
    "# Define a dictionary to store the predictions and a Pandas DataFrame to store the accuracy. \n",
    "dict_predictions_gemma_finetuning = dict()\n",
    "accuracy_summary_gemma_finetuning = pd.DataFrame(columns = brain_regions)\n",
    "\n",
    "# Iterate through all brain regions. \n",
    "for selected_brain_region in brain_regions:\n",
    "\n",
    "    # Display the current brain region. \n",
    "    print(selected_brain_region)\n",
    "\n",
    "    # Retrieve the EEG channel corresponding to the brain region. \n",
    "    selected_brain_region_index = list(targets).index(selected_brain_region)\n",
    "    selected_eeg_channel = region_channel_mapping[selected_brain_region]\n",
    "    selected_eeg_channel_index = channel_names.index(selected_eeg_channel)\n",
    "\n",
    "    # Define a dictionary to store the predictions for this brain region. \n",
    "    dict_predictions_gemma_finetuning[selected_brain_region] = dict()\n",
    "\n",
    "    # Iterate through all subjects. \n",
    "    for subject in subjects:\n",
    "\n",
    "        # Retrieve the features for the selected subject, condition, and EEG channel. \n",
    "        X = dict_features_basis_class[subject][condition][:, (selected_eeg_channel_index * len(bandpower_names)):(selected_eeg_channel_index * len(bandpower_names)) + len(bandpower_names)]\n",
    "\n",
    "        # Retrieve the targets for the selected subject, condition, and fMRI brain region. \n",
    "        Y = dict_targets_basis_class[subject][condition][:, selected_brain_region_index]\n",
    "\n",
    "        # Define the fine-tuned model path. \n",
    "        finetuned_model_path = finetuned_models_path + 'gemma-2-2b-it_' + subject + '_' + selected_brain_region.replace(' ', '_')\n",
    "\n",
    "        # Copy the base model. \n",
    "        model_copy = deepcopy(model_gemma)\n",
    "\n",
    "        # Load the fine-tuned model. \n",
    "        model_gemma_finetuned = PeftModel.from_pretrained(model_copy, finetuned_model_path)\n",
    "\n",
    "        # Run the LLM multiple times. \n",
    "        #model_gemma_finetuned = finetuned_models[selected_brain_region][subject] # For debugging. \n",
    "        Y_true, Y_pred = run_llm_series(X, Y, fmri_scans, sequence_length, selected_bandpowers, selected_eeg_channel, selected_brain_region, tokenizer_gemma, model_gemma_finetuned)\n",
    "\n",
    "        # Store the predictions. \n",
    "        dict_predictions_gemma_finetuning[selected_brain_region][subject] = Y_pred\n",
    "        \n",
    "        # Compute and store the average accuracy. \n",
    "        accuracy_array = Y_pred[Y_pred != -1] == Y_true[Y_pred != -1]\n",
    "        accuracy_sequence = np.sum(accuracy_array) / accuracy_array.shape[0]\n",
    "        accuracy_summary_gemma_finetuning.loc[subject, selected_brain_region] = accuracy_sequence\n",
    "\n",
    "        # Display the number of ambiguous predictions. \n",
    "        print(subject + ': ' + str(np.sum(Y_pred == -1)), 'ambiguous prediction(s) out of', len(Y_pred), '-', str(np.sum(Y_pred == -1) / len(Y_pred) * 100), '%')\n",
    "\n",
    "        # Delete the model and run garbage collection. \n",
    "        del model_copy\n",
    "        del model_gemma_finetuned\n",
    "        gc.collect()"
   ]
  },
  {
   "cell_type": "code",
   "execution_count": 34,
   "metadata": {},
   "outputs": [
    {
     "name": "stdout",
     "output_type": "stream",
     "text": [
      "Original device of the model: mps:0\n",
      "Prompt length: 1147\n",
      "Total FLOPs: 3,138,479,906,176\n",
      "FLOPs by operator: Counter({'linear': 2998372663296, 'matmul': 140107242880})\n",
      "Model moved back to: mps:0\n"
     ]
    }
   ],
   "source": [
    "# Store current device. \n",
    "device_before = next(model_gemma.parameters()).device\n",
    "print('Original device of the model:', device_before)\n",
    "\n",
    "# Move the model to CPU and prepare dummy input for FLOPs analysis. \n",
    "model_gemma_cpu = WrappedModel(model_gemma).to('cpu')\n",
    "dummy_input = (torch.ones((1, len(prompt)), dtype = torch.long),) # batch_size = 1, seq_len = prompt length\n",
    "print('Prompt length:', len(prompt))\n",
    "\n",
    "# Measure the FLOPs. \n",
    "flops = FlopCountAnalysis(model_gemma_cpu, dummy_input)\n",
    "print(f'Total FLOPs: {flops.total():,}')\n",
    "print('FLOPs by operator:', flops.by_operator())\n",
    "\n",
    "# Move the model back to its original device. \n",
    "model_gemma.to(device_before)\n",
    "print('Model moved back to:', device_before)"
   ]
  },
  {
   "cell_type": "code",
   "execution_count": 35,
   "metadata": {},
   "outputs": [
    {
     "name": "stdout",
     "output_type": "stream",
     "text": [
      "FLOPs per inference: 3138479906176\n"
     ]
    }
   ],
   "source": [
    "# Store and display the number of FLOPs. \n",
    "dict_flops['Large Language Model Fine-Tuning: With Fine-Tuning'] = flops.total()\n",
    "print('FLOPs per inference:', flops.total())"
   ]
  },
  {
   "cell_type": "code",
   "execution_count": 36,
   "metadata": {},
   "outputs": [
    {
     "data": {
      "text/html": [
       "<div>\n",
       "<style scoped>\n",
       "    .dataframe tbody tr th:only-of-type {\n",
       "        vertical-align: middle;\n",
       "    }\n",
       "\n",
       "    .dataframe tbody tr th {\n",
       "        vertical-align: top;\n",
       "    }\n",
       "\n",
       "    .dataframe thead th {\n",
       "        text-align: right;\n",
       "    }\n",
       "</style>\n",
       "<table border=\"1\" class=\"dataframe\">\n",
       "  <thead>\n",
       "    <tr style=\"text-align: right;\">\n",
       "      <th></th>\n",
       "      <th>Frontal Pole</th>\n",
       "      <th>Precentral Gyrus</th>\n",
       "      <th>Superior Temporal Gyrus, posterior division</th>\n",
       "      <th>Superior Parietal Lobule</th>\n",
       "      <th>Occipital Pole</th>\n",
       "    </tr>\n",
       "  </thead>\n",
       "  <tbody>\n",
       "    <tr>\n",
       "      <th>sub-xp101</th>\n",
       "      <td>0.526316</td>\n",
       "      <td>0.631579</td>\n",
       "      <td>0.55</td>\n",
       "      <td>0.65</td>\n",
       "      <td>0.45</td>\n",
       "    </tr>\n",
       "    <tr>\n",
       "      <th>sub-xp103</th>\n",
       "      <td>0.5</td>\n",
       "      <td>0.4</td>\n",
       "      <td>0.631579</td>\n",
       "      <td>0.6</td>\n",
       "      <td>0.55</td>\n",
       "    </tr>\n",
       "    <tr>\n",
       "      <th>sub-xp104</th>\n",
       "      <td>0.631579</td>\n",
       "      <td>0.8</td>\n",
       "      <td>0.315789</td>\n",
       "      <td>0.65</td>\n",
       "      <td>0.5</td>\n",
       "    </tr>\n",
       "    <tr>\n",
       "      <th>sub-xp105</th>\n",
       "      <td>0.263158</td>\n",
       "      <td>0.789474</td>\n",
       "      <td>0.6</td>\n",
       "      <td>0.444444</td>\n",
       "      <td>0.722222</td>\n",
       "    </tr>\n",
       "    <tr>\n",
       "      <th>sub-xp106</th>\n",
       "      <td>0.473684</td>\n",
       "      <td>0.45</td>\n",
       "      <td>0.277778</td>\n",
       "      <td>0.45</td>\n",
       "      <td>0.631579</td>\n",
       "    </tr>\n",
       "    <tr>\n",
       "      <th>sub-xp107</th>\n",
       "      <td>0.368421</td>\n",
       "      <td>0.777778</td>\n",
       "      <td>0.421053</td>\n",
       "      <td>0.526316</td>\n",
       "      <td>0.529412</td>\n",
       "    </tr>\n",
       "    <tr>\n",
       "      <th>sub-xp108</th>\n",
       "      <td>0.35</td>\n",
       "      <td>0.578947</td>\n",
       "      <td>0.666667</td>\n",
       "      <td>0.75</td>\n",
       "      <td>0.65</td>\n",
       "    </tr>\n",
       "    <tr>\n",
       "      <th>sub-xp109</th>\n",
       "      <td>0.5</td>\n",
       "      <td>0.526316</td>\n",
       "      <td>0.684211</td>\n",
       "      <td>0.578947</td>\n",
       "      <td>0.55</td>\n",
       "    </tr>\n",
       "    <tr>\n",
       "      <th>sub-xp110</th>\n",
       "      <td>0.631579</td>\n",
       "      <td>0.4</td>\n",
       "      <td>0.611111</td>\n",
       "      <td>0.631579</td>\n",
       "      <td>0.4</td>\n",
       "    </tr>\n",
       "  </tbody>\n",
       "</table>\n",
       "</div>"
      ],
      "text/plain": [
       "          Frontal Pole Precentral Gyrus  \\\n",
       "sub-xp101     0.526316         0.631579   \n",
       "sub-xp103          0.5              0.4   \n",
       "sub-xp104     0.631579              0.8   \n",
       "sub-xp105     0.263158         0.789474   \n",
       "sub-xp106     0.473684             0.45   \n",
       "sub-xp107     0.368421         0.777778   \n",
       "sub-xp108         0.35         0.578947   \n",
       "sub-xp109          0.5         0.526316   \n",
       "sub-xp110     0.631579              0.4   \n",
       "\n",
       "          Superior Temporal Gyrus, posterior division  \\\n",
       "sub-xp101                                        0.55   \n",
       "sub-xp103                                    0.631579   \n",
       "sub-xp104                                    0.315789   \n",
       "sub-xp105                                         0.6   \n",
       "sub-xp106                                    0.277778   \n",
       "sub-xp107                                    0.421053   \n",
       "sub-xp108                                    0.666667   \n",
       "sub-xp109                                    0.684211   \n",
       "sub-xp110                                    0.611111   \n",
       "\n",
       "          Superior Parietal Lobule Occipital Pole  \n",
       "sub-xp101                     0.65           0.45  \n",
       "sub-xp103                      0.6           0.55  \n",
       "sub-xp104                     0.65            0.5  \n",
       "sub-xp105                 0.444444       0.722222  \n",
       "sub-xp106                     0.45       0.631579  \n",
       "sub-xp107                 0.526316       0.529412  \n",
       "sub-xp108                     0.75           0.65  \n",
       "sub-xp109                 0.578947           0.55  \n",
       "sub-xp110                 0.631579            0.4  "
      ]
     },
     "execution_count": 36,
     "metadata": {},
     "output_type": "execute_result"
    }
   ],
   "source": [
    "# Display the accuracies per subject and brain region. \n",
    "accuracy_summary_gemma_finetuning"
   ]
  },
  {
   "cell_type": "code",
   "execution_count": 37,
   "metadata": {},
   "outputs": [
    {
     "data": {
      "image/png": "[encoded data removed]",
      "text/plain": [
       "<Figure size 1000x400 with 1 Axes>"
      ]
     },
     "metadata": {},
     "output_type": "display_data"
    }
   ],
   "source": [
    "# Retrieve the average accuracy across subjects, and the standard error of the accuracy across subjects. \n",
    "accuracy_mean = list(accuracy_summary_gemma_finetuning.mean().values)\n",
    "accuracy_mean.insert(0, 0.5) # Insert a baseline average of 0.5. \n",
    "accuracy_se = list(accuracy_summary_gemma_finetuning.std().values / np.sqrt(len(subjects)))\n",
    "accuracy_se.insert(0, 0) # Insert a baseline standard error of 0. \n",
    "\n",
    "# Append the total average accuracy and its standard error. \n",
    "nb_brain_regions = accuracy_summary_gemma_finetuning.shape[1]\n",
    "accuracy_mean.append(np.mean(accuracy_mean[1:]))\n",
    "accuracy_se.append(np.std(accuracy_mean[1:]) / (np.sqrt(len(subjects) * nb_brain_regions)))\n",
    "\n",
    "# Create the labels. \n",
    "labels = brain_regions.copy()\n",
    "labels.insert(0, 'Baseline')\n",
    "labels.append('Total')\n",
    "\n",
    "# Display the average accuracy and its standard error in a bar plot. \n",
    "fig, axes = plt.subplots(nrows = 1, ncols = 1, figsize = (10, 4))\n",
    "axes.bar(range(nb_brain_regions + 2), accuracy_mean, width = 0.6, color = ['green', *['blue'] * nb_brain_regions, 'mediumblue'])\n",
    "axes.errorbar(range(nb_brain_regions + 2), accuracy_mean, yerr = accuracy_se, fmt = 'None', color = 'black')\n",
    "axes.axhline(accuracy_mean[0], 0, 1, color = 'green', linestyle = 'dashed', alpha = 0.5)\n",
    "axes.set_xticks(range(nb_brain_regions + 2), labels = labels)\n",
    "axes.set_xticklabels(labels, rotation = 45, ha = 'right')\n",
    "axes.set_ylabel('Average accuracy across subjects')\n",
    "axes.set_title('Gemma-2-2B-IT with fine-tuning');"
   ]
  },
  {
   "cell_type": "code",
   "execution_count": 38,
   "metadata": {},
   "outputs": [
    {
     "data": {
      "image/png": "[encoded data removed]",
      "text/plain": [
       "<Figure size 1000x500 with 1 Axes>"
      ]
     },
     "metadata": {},
     "output_type": "display_data"
    }
   ],
   "source": [
    "# Retrieve the average accuracy across subjects, and the standard error of the accuracy across subjects.\n",
    "accuracy_mean_no_finetuning = list(accuracy_summary_gemma_no_finetuning.mean().values)\n",
    "accuracy_mean_finetuning = list(accuracy_summary_gemma_finetuning.mean().values)\n",
    "accuracy_se_no_finetuning = list(accuracy_summary_gemma_no_finetuning.std().values / np.sqrt(len(subjects)))\n",
    "accuracy_se_finetuning = list(accuracy_summary_gemma_finetuning.std().values / np.sqrt(len(subjects)))\n",
    "\n",
    "# Append the total average accuracy and its standard error.\n",
    "nb_brain_regions = accuracy_summary_gemma_no_finetuning.shape[1]\n",
    "accuracy_mean_no_finetuning.append(np.mean(accuracy_mean_no_finetuning))\n",
    "accuracy_mean_finetuning.append(np.mean(accuracy_mean_finetuning))\n",
    "accuracy_se_no_finetuning.append(np.std(accuracy_mean_no_finetuning) / (np.sqrt(len(subjects) * nb_brain_regions)))\n",
    "accuracy_se_finetuning.append(np.std(accuracy_mean_finetuning) / (np.sqrt(len(subjects) * nb_brain_regions)))\n",
    "\n",
    "# Create the labels.\n",
    "labels = brain_regions.copy()\n",
    "labels.append('Total')\n",
    "\n",
    "# Define the bar width and positions.\n",
    "bar_width = 0.4\n",
    "index = np.arange(nb_brain_regions + 1)\n",
    "\n",
    "# Display the average accuracy and its standard error in a grouped bar plot.\n",
    "fig, axes = plt.subplots(nrows = 1, ncols = 1, figsize = (10, 5))\n",
    "axes.bar(index - bar_width/2, accuracy_mean_no_finetuning, bar_width, color = [*['cornflowerblue'] * nb_brain_regions, 'royalblue'], label = 'No fine-tuning')\n",
    "axes.bar(index + bar_width/2, accuracy_mean_finetuning, bar_width, color = [*['blue'] * nb_brain_regions, 'mediumblue'], label = 'Fine-tuning')\n",
    "axes.errorbar(index - bar_width/2, accuracy_mean_no_finetuning, yerr = accuracy_se_no_finetuning, fmt = 'None', color = 'black')\n",
    "axes.errorbar(index + bar_width/2, accuracy_mean_finetuning, yerr = accuracy_se_finetuning, fmt = 'None', color = 'black')\n",
    "axes.axhline(accuracy_mean[0], 0, 1, color = 'green', linestyle = 'dashed', alpha = 0.5)\n",
    "axes.set_xticks(index)\n",
    "axes.set_xticklabels(labels, rotation = 45, ha = 'right')\n",
    "axes.set_ylabel('Average accuracy across subjects')\n",
    "axes.set_title('Gemma-2-2B-IT: no fine-tuning vs. fine-tuning')\n",
    "axes.legend();"
   ]
  },
  {
   "cell_type": "markdown",
   "metadata": {},
   "source": [
    "## **4. Results**"
   ]
  },
  {
   "cell_type": "code",
   "execution_count": 39,
   "metadata": {},
   "outputs": [],
   "source": [
    "# Save the predictions into Pickle files. \n",
    "with open(results_path + 'classification/dict_predictions_gemma_no_finetuning.p', 'wb') as file:\n",
    "    pickle.dump(dict_predictions_gemma_no_finetuning, file)\n",
    "with open(results_path + 'classification/dict_predictions_gemma_finetuning.p', 'wb') as file:\n",
    "    pickle.dump(dict_predictions_gemma_finetuning, file)\n",
    "\n",
    "# Save the summaries into Pickle files. \n",
    "with open(results_path + 'classification/df_summary_gemma_no_finetuning.p', 'wb') as file:\n",
    "    pickle.dump(accuracy_summary_gemma_no_finetuning, file)\n",
    "with open(results_path + 'classification/df_summary_gemma_finetuning.p', 'wb') as file:\n",
    "    pickle.dump(accuracy_summary_gemma_finetuning, file)\n",
    "\n",
    "# Save the brain regions, sequences of fMRI scans, and FLOPs into Pickle files. \n",
    "with open(results_path + 'brain_regions_large_language_model_fine-tuning.p', 'wb') as file:\n",
    "    pickle.dump(dict_brain_regions, file)\n",
    "with open(results_path + 'fmri_scans_large_language_model_fine-tuning.p', 'wb') as file:\n",
    "    pickle.dump(dict_fmri_scans, file)\n",
    "with open(results_path + 'flops_large_language_model_fine-tuning.p', 'wb') as file:\n",
    "    pickle.dump(dict_flops, file)"
   ]
  }
 ],
 "metadata": {
  "kernelspec": {
   "display_name": "neuropolis-x1",
   "language": "python",
   "name": "python3"
  },
  "language_info": {
   "codemirror_mode": {
    "name": "ipython",
    "version": 3
   },
   "file_extension": ".py",
   "mimetype": "text/x-python",
   "name": "python",
   "nbconvert_exporter": "python",
   "pygments_lexer": "ipython3",
   "version": "3.11.11"
  }
 },
 "nbformat": 4,
 "nbformat_minor": 2
}
