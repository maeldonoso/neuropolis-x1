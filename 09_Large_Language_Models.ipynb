{
 "cells": [
  {
   "cell_type": "markdown",
   "metadata": {},
   "source": [
    "# **Neuropolis-X1**\n",
    "### **Building an artificial intelligence system for human brain activity prediction (EEG, fMRI) with machine learning, deep learning, and large language models**\n",
    "\n",
    "#### Maël Donoso, Ouroboros Neurotechnologies (https://ouroboros-neurotechnologies.com/)\n",
    "First release: *18th March 2025*"
   ]
  },
  {
   "cell_type": "markdown",
   "metadata": {},
   "source": [
    "This first extension (X1) of Neuropolis includes fourteen Notebooks:\n",
    "\n",
    "*01: fMRI Preprocessing*\n",
    "\n",
    "*02: EEG Preprocessing*\n",
    "\n",
    "*03: Classification Models*\n",
    "\n",
    "*04: Regression Models*\n",
    "\n",
    "*05: Neural Networks*\n",
    "\n",
    "*06: Convolutional Neural Networks*\n",
    "\n",
    "*07: Recurrent Neural Networks*\n",
    "\n",
    "*08: Transformers*\n",
    "\n",
    "***09: Large Language Models***\n",
    "\n",
    "*10: Large Language Model Chain-of-Thought*\n",
    "\n",
    "*11: Large Language Model Fine-Tuning*\n",
    "\n",
    "*12: Large Multimodal Model*\n",
    "\n",
    "*13: Statistical Tests*\n",
    "\n",
    "*14: Tables and Figures*"
   ]
  },
  {
   "cell_type": "markdown",
   "metadata": {},
   "source": [
    "### Notebook 09\n",
    "\n",
    "# **Large Language Models**"
   ]
  },
  {
   "cell_type": "markdown",
   "metadata": {},
   "source": [
    "## **1. Region-Channel Mapping**\n",
    "\n",
    "We define a **region-channel mapping**, associating each brain region to the EEG channel whose signal is most likely to provide relevant information regarding its fMRI activity. This ad hoc mapping is based, in particular, on electrode proximity to the brain region. "
   ]
  },
  {
   "cell_type": "code",
   "execution_count": 1,
   "metadata": {},
   "outputs": [],
   "source": [
    "import numpy as np\n",
    "import pandas as pd\n",
    "import matplotlib.pyplot as plt\n",
    "%matplotlib inline\n",
    "import pickle\n",
    "import mne\n",
    "import torch\n",
    "from transformers import AutoModelForCausalLM, AutoTokenizer, logging as hf_logging\n",
    "from fvcore.nn import FlopCountAnalysis\n",
    "import logging"
   ]
  },
  {
   "cell_type": "code",
   "execution_count": 2,
   "metadata": {},
   "outputs": [],
   "source": [
    "# Define the raw data path. \n",
    "raw_data_path = '../../Neuropolis/ds002336-download/'\n",
    "\n",
    "# Define the preprocessed data path. \n",
    "preprocessed_data_path = '../neuropolis-x1_preprocessed_data/'\n",
    "\n",
    "# Define the results path. \n",
    "results_path = '../neuropolis-x1_results/'"
   ]
  },
  {
   "cell_type": "code",
   "execution_count": 3,
   "metadata": {},
   "outputs": [],
   "source": [
    "# Load the features and the targets for the classification task. \n",
    "with open(preprocessed_data_path + 'dict_targets.p', 'rb') as file:\n",
    "    dict_targets = pickle.load(file)\n",
    "with open(preprocessed_data_path + 'classification/dict_features_classification_basis.p', 'rb') as file:\n",
    "    dict_features_basis_class = pickle.load(file)\n",
    "with open(preprocessed_data_path + 'classification/dict_targets_classification_basis.p', 'rb') as file:\n",
    "    dict_targets_basis_class = pickle.load(file)"
   ]
  },
  {
   "cell_type": "code",
   "execution_count": 4,
   "metadata": {},
   "outputs": [
    {
     "data": {
      "text/plain": [
       "200"
      ]
     },
     "execution_count": 4,
     "metadata": {},
     "output_type": "execute_result"
    }
   ],
   "source": [
    "# Define the list of subjects, removing sub-xp102 who has a missing condition. \n",
    "subjects = ['sub-xp1' + str(x).zfill(2) for x in range(1, 11)]\n",
    "subjects.remove('sub-xp102')\n",
    "subject = subjects[0]\n",
    "\n",
    "# Retrieve and display the total number of scans. \n",
    "nb_scans_total = dict_targets[subject]['eegfmriNF']['Frontal Pole'].shape[0]\n",
    "nb_scans_total"
   ]
  },
  {
   "cell_type": "code",
   "execution_count": 5,
   "metadata": {},
   "outputs": [
    {
     "name": "stdout",
     "output_type": "stream",
     "text": [
      "['Background', 'Frontal Pole', 'Insular Cortex', 'Superior Frontal Gyrus', 'Middle Frontal Gyrus', 'Inferior Frontal Gyrus, pars triangularis', 'Inferior Frontal Gyrus, pars opercularis', 'Precentral Gyrus', 'Temporal Pole', 'Superior Temporal Gyrus, anterior division', 'Superior Temporal Gyrus, posterior division', 'Middle Temporal Gyrus, anterior division', 'Middle Temporal Gyrus, posterior division', 'Middle Temporal Gyrus, temporooccipital part', 'Inferior Temporal Gyrus, anterior division', 'Inferior Temporal Gyrus, posterior division', 'Inferior Temporal Gyrus, temporooccipital part', 'Postcentral Gyrus', 'Superior Parietal Lobule', 'Supramarginal Gyrus, anterior division', 'Supramarginal Gyrus, posterior division', 'Angular Gyrus', 'Lateral Occipital Cortex, superior division', 'Lateral Occipital Cortex, inferior division', 'Intracalcarine Cortex', 'Frontal Medial Cortex', 'Juxtapositional Lobule Cortex (formerly Supplementary Motor Cortex)', 'Subcallosal Cortex', 'Paracingulate Gyrus', 'Cingulate Gyrus, anterior division', 'Cingulate Gyrus, posterior division', 'Precuneous Cortex', 'Cuneal Cortex', 'Frontal Orbital Cortex', 'Parahippocampal Gyrus, anterior division', 'Parahippocampal Gyrus, posterior division', 'Lingual Gyrus', 'Temporal Fusiform Cortex, anterior division', 'Temporal Fusiform Cortex, posterior division', 'Temporal Occipital Fusiform Cortex', 'Occipital Fusiform Gyrus', 'Frontal Opercular Cortex', 'Central Opercular Cortex', 'Parietal Opercular Cortex', 'Planum Polare', \"Heschl's Gyrus (includes H1 and H2)\", 'Planum Temporale', 'Supracalcarine Cortex', 'Occipital Pole']\n",
      "49 brain regions\n"
     ]
    }
   ],
   "source": [
    "# Retrieve the list of all targets. \n",
    "targets = list(dict_targets[subject]['eegfmriNF'].keys())\n",
    "\n",
    "# Display the brain region names and the number of brain regions. \n",
    "print(targets)\n",
    "print(len(targets), 'brain regions')"
   ]
  },
  {
   "cell_type": "code",
   "execution_count": 6,
   "metadata": {},
   "outputs": [
    {
     "name": "stdout",
     "output_type": "stream",
     "text": [
      "['Fp1', 'Fp2', 'F3', 'F4', 'C3', 'C4', 'P3', 'P4', 'O1', 'O2', 'F7', 'F8', 'T7', 'T8', 'P7', 'P8', 'Fz', 'Cz', 'Pz', 'Oz', 'FC1', 'FC2', 'CP1', 'CP2', 'FC5', 'FC6', 'CP5', 'CP6', 'TP9', 'TP10', 'POz', 'F1', 'F2', 'C1', 'C2', 'P1', 'P2', 'AF3', 'AF4', 'FC3', 'FC4', 'CP3', 'CP4', 'PO3', 'PO4', 'F5', 'F6', 'C5', 'C6', 'P5', 'P6', 'AF7', 'AF8', 'FT7', 'FT8', 'TP7', 'TP8', 'PO7', 'PO8', 'FT9', 'FT10', 'Fpz', 'CPz']\n",
      "63 channels\n"
     ]
    }
   ],
   "source": [
    "# Define the bandpower names. \n",
    "bandpower_names = ['Delta (1-4 Hz)', 'Theta (4-8 Hz)', 'Alpha (8-12 Hz)', 'Sigma (12-16 Hz)', 'Beta (16-30 Hz)', 'Gamma (30-40 Hz)']\n",
    "\n",
    "# Define the path of the header file (.vhdr) for this subject, for the eegfmriNF condition. \n",
    "vhdr_path = raw_data_path + 'derivatives/' + subject + '/eeg_pp/' + subject + '_task-eegfmriNF_eeg_pp.vhdr'\n",
    "\n",
    "# Load the EEG data using the MNE library, keeping error messages but suppressing warnings. \n",
    "channels_data = mne.io.read_raw_brainvision(vhdr_path, misc = ['ECG'], preload = True, verbose = 'ERROR')\n",
    "\n",
    "# Remove the ECG channel from the channel names. \n",
    "channel_names = channels_data.ch_names\n",
    "channel_names.remove('ECG')\n",
    "\n",
    "# Display the channel names and the number of channels. \n",
    "print(channel_names)\n",
    "print(len(channel_names), 'channels')"
   ]
  },
  {
   "cell_type": "code",
   "execution_count": 7,
   "metadata": {},
   "outputs": [],
   "source": [
    "# Define dictionaries to store the brain regions, sequences of fMRI scans, and FLOPs for each model. \n",
    "dict_brain_regions = dict()\n",
    "dict_fmri_scans = dict()\n",
    "dict_flops = dict()"
   ]
  },
  {
   "cell_type": "code",
   "execution_count": 8,
   "metadata": {},
   "outputs": [],
   "source": [
    "# Define for each brain region the EEG channel whose signal is most likely to provide relevant information regarding fMRI activity. \n",
    "region_channel_mapping = {\n",
    "    'Frontal Pole': 'Fpz',\n",
    "    'Insular Cortex': 'T7',\n",
    "    'Superior Frontal Gyrus': 'Fz',\n",
    "    'Middle Frontal Gyrus': 'F3',\n",
    "    'Inferior Frontal Gyrus, pars triangularis': 'F7',\n",
    "    'Inferior Frontal Gyrus, pars opercularis': 'F7',\n",
    "    'Precentral Gyrus': 'C3',\n",
    "    'Temporal Pole': 'FT9',\n",
    "    'Superior Temporal Gyrus, anterior division': 'FT7',\n",
    "    'Superior Temporal Gyrus, posterior division': 'T7',\n",
    "    'Middle Temporal Gyrus, anterior division': 'T7',\n",
    "    'Middle Temporal Gyrus, posterior division': 'T7',\n",
    "    'Middle Temporal Gyrus, temporooccipital part': 'P7',\n",
    "    'Inferior Temporal Gyrus, anterior division': 'T7',\n",
    "    'Inferior Temporal Gyrus, posterior division': 'P7',\n",
    "    'Inferior Temporal Gyrus, temporooccipital part': 'PO7',\n",
    "    'Postcentral Gyrus': 'C3',\n",
    "    'Superior Parietal Lobule': 'Pz',\n",
    "    'Supramarginal Gyrus, anterior division': 'CP3',\n",
    "    'Supramarginal Gyrus, posterior division': 'P3',\n",
    "    'Angular Gyrus': 'P3',\n",
    "    'Lateral Occipital Cortex, superior division': 'PO3',\n",
    "    'Lateral Occipital Cortex, inferior division': 'O1',\n",
    "    'Intracalcarine Cortex': 'Oz',\n",
    "    'Frontal Medial Cortex': 'Fz',\n",
    "    'Juxtapositional Lobule Cortex (formerly Supplementary Motor Cortex)': 'Cz',\n",
    "    'Subcallosal Cortex': 'Fpz',\n",
    "    'Paracingulate Gyrus': 'Fz',\n",
    "    'Cingulate Gyrus, anterior division': 'Fz',\n",
    "    'Cingulate Gyrus, posterior division': 'Pz',\n",
    "    'Precuneous Cortex': 'Pz',\n",
    "    'Cuneal Cortex': 'Oz',\n",
    "    'Frontal Orbital Cortex': 'Fp1',\n",
    "    'Parahippocampal Gyrus, anterior division': 'FT9',\n",
    "    'Parahippocampal Gyrus, posterior division': 'TP9',\n",
    "    'Lingual Gyrus': 'Oz',\n",
    "    'Temporal Fusiform Cortex, anterior division': 'FT9',\n",
    "    'Temporal Fusiform Cortex, posterior division': 'TP9',\n",
    "    'Temporal Occipital Fusiform Cortex': 'PO7',\n",
    "    'Occipital Fusiform Gyrus': 'PO7',\n",
    "    'Frontal Opercular Cortex': 'FC5',\n",
    "    'Central Opercular Cortex': 'C3',\n",
    "    'Parietal Opercular Cortex': 'CP3',\n",
    "    'Planum Polare': 'FT7',\n",
    "    \"Heschl's Gyrus (includes H1 and H2)\": 'T7',\n",
    "    'Planum Temporale': 'TP7',\n",
    "    'Supracalcarine Cortex': 'Oz',\n",
    "    'Occipital Pole': 'Oz'\n",
    "}"
   ]
  },
  {
   "cell_type": "markdown",
   "metadata": {},
   "source": [
    "## **2. Gemma**\n",
    "\n",
    "We use the **Gemma-2-2B-IT large language model**, and select its hyperparameters in order to ensure a relative variety of responses. We define a prompt where we provide a sequence of EEG bandpower values, and ask the model to predict the corresponding fMRI activity. We run the large language model on the eegfmriNF condition of all subjects, for a selection of brain regions spanning both a substantial fraction of the brain and a variety of cognitive functions. In the bar plot presenting the results, an indicative baseline is given for visualization purposes, but the real baseline depends both on the selected fMRI scans and the distribution of missing or ambiguous predictions. "
   ]
  },
  {
   "cell_type": "code",
   "execution_count": 9,
   "metadata": {},
   "outputs": [
    {
     "data": {
      "application/vnd.jupyter.widget-view+json": {
       "model_id": "f553c7e400c64926a50c37afd4e84700",
       "version_major": 2,
       "version_minor": 0
      },
      "text/plain": [
       "Loading checkpoint shards:   0%|          | 0/2 [00:00<?, ?it/s]"
      ]
     },
     "metadata": {},
     "output_type": "display_data"
    }
   ],
   "source": [
    "# Define the LLM to use. \n",
    "model_name = 'google/gemma-2-2b-it'\n",
    "\n",
    "# Load the tokenizer and the model. \n",
    "tokenizer_gemma = AutoTokenizer.from_pretrained(model_name)\n",
    "model_gemma = AutoModelForCausalLM.from_pretrained(model_name, torch_dtype = torch.float16, device_map = 'auto')"
   ]
  },
  {
   "cell_type": "code",
   "execution_count": 10,
   "metadata": {},
   "outputs": [],
   "source": [
    "# Define a function to create a LLM prompt with a sequence of bandpower values. \n",
    "def prompt_llm(X, fmri_scan_index, sequence_length, selected_bandpowers, selected_eeg_channel, selected_brain_region):\n",
    "\n",
    "    # Retrieve the sequence of features. \n",
    "    X_sequence = X[(fmri_scan_index - sequence_length):fmri_scan_index, :]\n",
    "\n",
    "    # Create the prompt. \n",
    "    bandpowers_results = ', '.join(\n",
    "        f\"{bandpower_names[bandpower_index]}: {X_sequence[:, bandpower_index]}\" for bandpower_index in selected_bandpowers\n",
    "    )\n",
    "    prompt = (\n",
    "        f\"A human subject participated in a neuroscience experiment where EEG data and fMRI data were recorded simultaneously. \"\n",
    "        f\"The EEG band powers were measured every two seconds at electrode {selected_eeg_channel}, \"\n",
    "        f\"with the following results: {bandpowers_results}. \"\n",
    "        f\"The fMRI BOLD signal was measured in the {selected_brain_region} during the last two seconds. \"\n",
    "        f\"Given the EEG data, is the fMRI signal in this brain region likely increasing or decreasing during these last two seconds? \"\n",
    "        f\"Base your answer on your general knowledge in neuroscience, EEG research, and fMRI research. \"\n",
    "        f\"Since this is a time series, you might need to take into account the hemodynamic response function (HRF), \"\n",
    "        f\"and the fact that after an event, the fMRI response is delayed compared to the EEG response. \"\n",
    "        f\"Please answer with only one word: Increasing or Decreasing. Just give your best prediction, without any explanation.\"\n",
    "    )\n",
    "\n",
    "    return prompt"
   ]
  },
  {
   "cell_type": "code",
   "execution_count": 11,
   "metadata": {},
   "outputs": [],
   "source": [
    "# Define a function to run a LLM. \n",
    "def run_llm(prompt, tokenizer, model):\n",
    "\n",
    "    # Run the LLM. \n",
    "    inputs = tokenizer(prompt, return_tensors = 'pt').to(model.device)\n",
    "    output = model.generate(**inputs, \n",
    "                            max_new_tokens = 20, \n",
    "                            temperature = 1.2, \n",
    "                            top_p = 0.9, \n",
    "                            top_k = 50, \n",
    "                            do_sample = True, \n",
    "                            repetition_penalty = 1)\n",
    "\n",
    "    # Decode the generated text, remove the original prompt, and return the answer. \n",
    "    generated_text = tokenizer.decode(output[0], skip_special_tokens = True)\n",
    "    answer_only = generated_text[len(prompt):].strip()\n",
    "    \n",
    "    return answer_only"
   ]
  },
  {
   "cell_type": "code",
   "execution_count": 12,
   "metadata": {},
   "outputs": [],
   "source": [
    "# Define a function to run a LLM multiple times. \n",
    "def run_llm_series(X, Y, fmri_scans, sequence_length, selected_bandpowers, selected_eeg_channel, selected_brain_region, tokenizer, model):\n",
    "\n",
    "    # Create the NumPy arrays to store the true values and predictions.     \n",
    "    Y_true = np.zeros(len(fmri_scans))\n",
    "    Y_pred = np.zeros(len(fmri_scans))\n",
    "    answers = []\n",
    "    counter = 0\n",
    "\n",
    "    # Iterate through all selected fMRI scans. \n",
    "    for fmri_scan_index in fmri_scans:\n",
    "\n",
    "        # Create the LLM prompt. \n",
    "        prompt = prompt_llm(X, \n",
    "                            fmri_scan_index = fmri_scan_index, \n",
    "                            sequence_length = sequence_length, \n",
    "                            selected_bandpowers = selected_bandpowers, \n",
    "                            selected_eeg_channel = selected_eeg_channel, \n",
    "                            selected_brain_region = selected_brain_region)\n",
    "        \n",
    "        # Run the LLM and store the result. \n",
    "        answer_only = run_llm(prompt, tokenizer, model)\n",
    "        answers.append(answer_only) # For debugging purposes. \n",
    "\n",
    "        # Analyze the answer. \n",
    "        increase_detected = 'increas' in answer_only.lower()\n",
    "        decrease_detected = 'decreas' in answer_only.lower()\n",
    "        if increase_detected and not decrease_detected:\n",
    "            Y_pred[counter] = 1\n",
    "        elif decrease_detected and not increase_detected:\n",
    "            Y_pred[counter] = 0\n",
    "        else:\n",
    "            Y_pred[counter] = -1\n",
    "\n",
    "        # Store the true value.\n",
    "        Y_true[counter] = Y[fmri_scan_index]\n",
    "\n",
    "        # Increment. \n",
    "        counter += 1\n",
    "\n",
    "    return Y_true, Y_pred"
   ]
  },
  {
   "cell_type": "code",
   "execution_count": 13,
   "metadata": {},
   "outputs": [
    {
     "name": "stdout",
     "output_type": "stream",
     "text": [
      "Brain region: Frontal Pole\n",
      "Brain region index: 1\n",
      "EEG channel: Fpz\n",
      "EEG channel index: 61\n"
     ]
    }
   ],
   "source": [
    "# Select a subject and a condition. \n",
    "subject = 'sub-xp101'\n",
    "condition = 'eegfmriNF'\n",
    "\n",
    "# Select a fMRI brain region and retrieve its corresponding EEG channel. \n",
    "selected_brain_region = 'Frontal Pole'\n",
    "selected_brain_region_index = list(targets).index(selected_brain_region)\n",
    "selected_eeg_channel = region_channel_mapping[selected_brain_region]\n",
    "selected_eeg_channel_index = channel_names.index(selected_eeg_channel)\n",
    "\n",
    "# Display the fMRI brain region and its corresponding EEG channel. \n",
    "print('Brain region:', selected_brain_region)\n",
    "print('Brain region index:', int(selected_brain_region_index))\n",
    "print('EEG channel:', selected_eeg_channel)\n",
    "print('EEG channel index:', int(selected_eeg_channel_index))"
   ]
  },
  {
   "cell_type": "code",
   "execution_count": 14,
   "metadata": {},
   "outputs": [
    {
     "data": {
      "text/plain": [
       "'A human subject participated in a neuroscience experiment where EEG data and fMRI data were recorded simultaneously. The EEG band powers were measured every two seconds at electrode Fpz, with the following results: Delta (1-4 Hz): [-0.22278232  0.64400346  1.11835758 -1.24585523 -0.13343407], Theta (4-8 Hz): [ 0.3256324  -0.68492586 -0.96076972  0.99095653 -0.37529182], Alpha (8-12 Hz): [-0.40537466 -0.04844749 -0.69866725  0.40412502  1.11390381], Beta (16-30 Hz): [ 0.55265258 -0.03498027 -0.91193884  1.92475433  1.92719948]. The fMRI BOLD signal was measured in the Frontal Pole during the last two seconds. Given the EEG data, is the fMRI signal in this brain region likely increasing or decreasing during these last two seconds? Base your answer on your general knowledge in neuroscience, EEG research, and fMRI research. Since this is a time series, you might need to take into account the hemodynamic response function (HRF), and the fact that after an event, the fMRI response is delayed compared to the EEG response. Please answer with only one word: Increasing or Decreasing. Just give your best prediction, without any explanation.'"
      ]
     },
     "execution_count": 14,
     "metadata": {},
     "output_type": "execute_result"
    }
   ],
   "source": [
    "# Retrieve the features for the selected subject, condition, and EEG channel. \n",
    "X = dict_features_basis_class[subject][condition][:, (selected_eeg_channel_index * len(bandpower_names)):(selected_eeg_channel_index * len(bandpower_names)) + len(bandpower_names)]\n",
    "\n",
    "# Retrieve the targets for the selected subject, condition, and fMRI brain region. \n",
    "Y = dict_targets_basis_class[subject][condition][:, selected_brain_region_index]\n",
    "\n",
    "# Select the sequence length and the bandpowers. \n",
    "sequence_length = 5\n",
    "selected_bandpowers = [0, 1, 2, 4]\n",
    "\n",
    "# Create the LLM prompt. \n",
    "prompt = prompt_llm(X, \n",
    "                    fmri_scan_index = 5, \n",
    "                    sequence_length = sequence_length, \n",
    "                    selected_bandpowers = selected_bandpowers, \n",
    "                    selected_eeg_channel = selected_eeg_channel, \n",
    "                    selected_brain_region = selected_brain_region)\n",
    "prompt"
   ]
  },
  {
   "cell_type": "code",
   "execution_count": 15,
   "metadata": {},
   "outputs": [
    {
     "data": {
      "text/plain": [
       "'Decreasing'"
      ]
     },
     "execution_count": 15,
     "metadata": {},
     "output_type": "execute_result"
    }
   ],
   "source": [
    "# Run the LLM once, and display the result. \n",
    "answer_only = run_llm(prompt, tokenizer_gemma, model_gemma)\n",
    "answer_only"
   ]
  },
  {
   "cell_type": "code",
   "execution_count": 16,
   "metadata": {},
   "outputs": [
    {
     "data": {
      "text/plain": [
       "0.5"
      ]
     },
     "execution_count": 16,
     "metadata": {},
     "output_type": "execute_result"
    }
   ],
   "source": [
    "# Run the LLM multiple times. \n",
    "fmri_scans = range(5, (nb_scans_total - 1), 10)\n",
    "Y_true, Y_pred = run_llm_series(X, Y, fmri_scans, sequence_length, selected_bandpowers, selected_eeg_channel, selected_brain_region, tokenizer_gemma, model_gemma)\n",
    "\n",
    "# Compute the average accuracy. \n",
    "accuracy_array = Y_pred[Y_pred != -1] == Y_true[Y_pred != -1]\n",
    "accuracy_sequence = np.sum(accuracy_array) / accuracy_array.shape[0]\n",
    "accuracy_sequence"
   ]
  },
  {
   "cell_type": "code",
   "execution_count": 17,
   "metadata": {},
   "outputs": [
    {
     "name": "stdout",
     "output_type": "stream",
     "text": [
      "Frontal Pole\n",
      "sub-xp101: 0 ambiguous prediction(s) out of 20 - 0.0 %\n",
      "sub-xp103: 3 ambiguous prediction(s) out of 20 - 15.0 %\n",
      "sub-xp104: 0 ambiguous prediction(s) out of 20 - 0.0 %\n",
      "sub-xp105: 2 ambiguous prediction(s) out of 20 - 10.0 %\n",
      "sub-xp106: 1 ambiguous prediction(s) out of 20 - 5.0 %\n",
      "sub-xp107: 1 ambiguous prediction(s) out of 20 - 5.0 %\n",
      "sub-xp108: 2 ambiguous prediction(s) out of 20 - 10.0 %\n",
      "sub-xp109: 0 ambiguous prediction(s) out of 20 - 0.0 %\n",
      "sub-xp110: 1 ambiguous prediction(s) out of 20 - 5.0 %\n",
      "Insular Cortex\n",
      "sub-xp101: 0 ambiguous prediction(s) out of 20 - 0.0 %\n",
      "sub-xp103: 1 ambiguous prediction(s) out of 20 - 5.0 %\n",
      "sub-xp104: 0 ambiguous prediction(s) out of 20 - 0.0 %\n",
      "sub-xp105: 2 ambiguous prediction(s) out of 20 - 10.0 %\n",
      "sub-xp106: 1 ambiguous prediction(s) out of 20 - 5.0 %\n",
      "sub-xp107: 1 ambiguous prediction(s) out of 20 - 5.0 %\n",
      "sub-xp108: 0 ambiguous prediction(s) out of 20 - 0.0 %\n",
      "sub-xp109: 1 ambiguous prediction(s) out of 20 - 5.0 %\n",
      "sub-xp110: 2 ambiguous prediction(s) out of 20 - 10.0 %\n",
      "Inferior Frontal Gyrus, pars triangularis\n",
      "sub-xp101: 0 ambiguous prediction(s) out of 20 - 0.0 %\n",
      "sub-xp103: 0 ambiguous prediction(s) out of 20 - 0.0 %\n",
      "sub-xp104: 1 ambiguous prediction(s) out of 20 - 5.0 %\n",
      "sub-xp105: 0 ambiguous prediction(s) out of 20 - 0.0 %\n",
      "sub-xp106: 0 ambiguous prediction(s) out of 20 - 0.0 %\n",
      "sub-xp107: 0 ambiguous prediction(s) out of 20 - 0.0 %\n",
      "sub-xp108: 0 ambiguous prediction(s) out of 20 - 0.0 %\n",
      "sub-xp109: 1 ambiguous prediction(s) out of 20 - 5.0 %\n",
      "sub-xp110: 0 ambiguous prediction(s) out of 20 - 0.0 %\n",
      "Precentral Gyrus\n",
      "sub-xp101: 3 ambiguous prediction(s) out of 20 - 15.0 %\n",
      "sub-xp103: 0 ambiguous prediction(s) out of 20 - 0.0 %\n",
      "sub-xp104: 3 ambiguous prediction(s) out of 20 - 15.0 %\n",
      "sub-xp105: 0 ambiguous prediction(s) out of 20 - 0.0 %\n",
      "sub-xp106: 0 ambiguous prediction(s) out of 20 - 0.0 %\n",
      "sub-xp107: 1 ambiguous prediction(s) out of 20 - 5.0 %\n",
      "sub-xp108: 2 ambiguous prediction(s) out of 20 - 10.0 %\n",
      "sub-xp109: 1 ambiguous prediction(s) out of 20 - 5.0 %\n",
      "sub-xp110: 0 ambiguous prediction(s) out of 20 - 0.0 %\n",
      "Superior Temporal Gyrus, posterior division\n",
      "sub-xp101: 0 ambiguous prediction(s) out of 20 - 0.0 %\n",
      "sub-xp103: 1 ambiguous prediction(s) out of 20 - 5.0 %\n",
      "sub-xp104: 0 ambiguous prediction(s) out of 20 - 0.0 %\n",
      "sub-xp105: 0 ambiguous prediction(s) out of 20 - 0.0 %\n",
      "sub-xp106: 1 ambiguous prediction(s) out of 20 - 5.0 %\n",
      "sub-xp107: 1 ambiguous prediction(s) out of 20 - 5.0 %\n",
      "sub-xp108: 2 ambiguous prediction(s) out of 20 - 10.0 %\n",
      "sub-xp109: 2 ambiguous prediction(s) out of 20 - 10.0 %\n",
      "sub-xp110: 0 ambiguous prediction(s) out of 20 - 0.0 %\n",
      "Superior Parietal Lobule\n",
      "sub-xp101: 0 ambiguous prediction(s) out of 20 - 0.0 %\n",
      "sub-xp103: 2 ambiguous prediction(s) out of 20 - 10.0 %\n",
      "sub-xp104: 0 ambiguous prediction(s) out of 20 - 0.0 %\n",
      "sub-xp105: 1 ambiguous prediction(s) out of 20 - 5.0 %\n",
      "sub-xp106: 0 ambiguous prediction(s) out of 20 - 0.0 %\n",
      "sub-xp107: 2 ambiguous prediction(s) out of 20 - 10.0 %\n",
      "sub-xp108: 0 ambiguous prediction(s) out of 20 - 0.0 %\n",
      "sub-xp109: 1 ambiguous prediction(s) out of 20 - 5.0 %\n",
      "sub-xp110: 0 ambiguous prediction(s) out of 20 - 0.0 %\n",
      "Angular Gyrus\n",
      "sub-xp101: 1 ambiguous prediction(s) out of 20 - 5.0 %\n",
      "sub-xp103: 1 ambiguous prediction(s) out of 20 - 5.0 %\n",
      "sub-xp104: 0 ambiguous prediction(s) out of 20 - 0.0 %\n",
      "sub-xp105: 1 ambiguous prediction(s) out of 20 - 5.0 %\n",
      "sub-xp106: 0 ambiguous prediction(s) out of 20 - 0.0 %\n",
      "sub-xp107: 2 ambiguous prediction(s) out of 20 - 10.0 %\n",
      "sub-xp108: 1 ambiguous prediction(s) out of 20 - 5.0 %\n",
      "sub-xp109: 0 ambiguous prediction(s) out of 20 - 0.0 %\n",
      "sub-xp110: 1 ambiguous prediction(s) out of 20 - 5.0 %\n",
      "Occipital Pole\n",
      "sub-xp101: 0 ambiguous prediction(s) out of 20 - 0.0 %\n",
      "sub-xp103: 0 ambiguous prediction(s) out of 20 - 0.0 %\n",
      "sub-xp104: 1 ambiguous prediction(s) out of 20 - 5.0 %\n",
      "sub-xp105: 1 ambiguous prediction(s) out of 20 - 5.0 %\n",
      "sub-xp106: 1 ambiguous prediction(s) out of 20 - 5.0 %\n",
      "sub-xp107: 0 ambiguous prediction(s) out of 20 - 0.0 %\n",
      "sub-xp108: 1 ambiguous prediction(s) out of 20 - 5.0 %\n",
      "sub-xp109: 0 ambiguous prediction(s) out of 20 - 0.0 %\n",
      "sub-xp110: 0 ambiguous prediction(s) out of 20 - 0.0 %\n"
     ]
    }
   ],
   "source": [
    "# Select a condition and a list of brain regions. \n",
    "condition = 'eegfmriNF'\n",
    "brain_regions = ['Frontal Pole', # High-order cognitive functions, but sometimes noisy EEG signal. \n",
    "                 'Insular Cortex', # Integrative functions. \n",
    "                 'Inferior Frontal Gyrus, pars triangularis', # Language and executive functions. \n",
    "                 'Precentral Gyrus', # Primary motor cortex. \n",
    "                 'Superior Temporal Gyrus, posterior division', # Auditory functions. \n",
    "                 'Superior Parietal Lobule', # Attention functions. \n",
    "                 'Angular Gyrus', # Default-mode network. \n",
    "                 'Occipital Pole'] # Primary visual cortex. \n",
    "\n",
    "# Select a sequence of fMRI scans. \n",
    "fmri_scans = range(5, (nb_scans_total - 1), 10) # Extensive search.\n",
    "#fmri_scans = range(5, (nb_scans_total - 1), 100) # Quick search for debugging.\n",
    "\n",
    "# Store the brain regions and the sequence of fMRI scans in dictionaries. \n",
    "dict_brain_regions['Large Language Models: Gemma'] = brain_regions\n",
    "dict_fmri_scans['Large Language Models: Gemma'] = fmri_scans\n",
    "\n",
    "# Define a dictionary to store the predictions and a Pandas DataFrame to store the accuracy. \n",
    "dict_predictions_gemma = dict()\n",
    "accuracy_summary_gemma = pd.DataFrame(columns = brain_regions)\n",
    "\n",
    "# Iterate through all brain regions. \n",
    "for selected_brain_region in brain_regions:\n",
    "\n",
    "    # Display the current brain region. \n",
    "    print(selected_brain_region)\n",
    "\n",
    "    # Retrieve the EEG channel corresponding to the brain region. \n",
    "    selected_brain_region_index = list(targets).index(selected_brain_region)\n",
    "    selected_eeg_channel = region_channel_mapping[selected_brain_region]\n",
    "    selected_eeg_channel_index = channel_names.index(selected_eeg_channel)\n",
    "\n",
    "    # Define a dictionary to store the predictions for this brain region. \n",
    "    dict_predictions_gemma[selected_brain_region] = dict()\n",
    "\n",
    "    # Iterate through all subjects. \n",
    "    for subject in subjects:\n",
    "        \n",
    "        # Retrieve the features for the selected subject, condition, and EEG channel. \n",
    "        X = dict_features_basis_class[subject][condition][:, (selected_eeg_channel_index * len(bandpower_names)):(selected_eeg_channel_index * len(bandpower_names)) + len(bandpower_names)]\n",
    "\n",
    "        # Retrieve the targets for the selected subject, condition, and fMRI brain region. \n",
    "        Y = dict_targets_basis_class[subject][condition][:, selected_brain_region_index]\n",
    "\n",
    "        # Run the LLM multiple times. \n",
    "        Y_true, Y_pred = run_llm_series(X, Y, fmri_scans, sequence_length, selected_bandpowers, selected_eeg_channel, selected_brain_region, tokenizer_gemma, model_gemma)\n",
    "\n",
    "        # Store the predictions. \n",
    "        dict_predictions_gemma[selected_brain_region][subject] = Y_pred\n",
    "\n",
    "        # Compute and store the average accuracy. \n",
    "        accuracy_array = Y_pred[Y_pred != -1] == Y_true[Y_pred != -1]\n",
    "        accuracy_sequence = np.sum(accuracy_array) / accuracy_array.shape[0]\n",
    "        accuracy_summary_gemma.loc[subject, selected_brain_region] = accuracy_sequence\n",
    "\n",
    "        # Display the number of ambiguous predictions. \n",
    "        print(subject + ': ' + str(np.sum(Y_pred == -1)), 'ambiguous prediction(s) out of', len(Y_pred), '-', str(np.sum(Y_pred == -1) / len(Y_pred) * 100), '%')"
   ]
  },
  {
   "cell_type": "code",
   "execution_count": 18,
   "metadata": {},
   "outputs": [
    {
     "name": "stdout",
     "output_type": "stream",
     "text": [
      "Original device of the model: mps:0\n",
      "Prompt length: 1147\n",
      "Total FLOPs: 2,998,372,810,112\n",
      "FLOPs by operator: Counter({'linear': 2998372663296, 'matmul': 146816})\n",
      "Model moved back to: mps:0\n"
     ]
    }
   ],
   "source": [
    "# Set the logging level to suppress warnings. \n",
    "logging.getLogger('fvcore.nn.jit_handles').setLevel(logging.ERROR)\n",
    "logging.getLogger('fvcore.nn.jit_analysis').setLevel(logging.ERROR)\n",
    "\n",
    "# Store current device. \n",
    "device_before = next(model_gemma.parameters()).device\n",
    "print('Original device of the model:', device_before)\n",
    "\n",
    "# Define a class wrapping the model. \n",
    "# We output only logits (Tensor data type) for compatibility with FlopCountAnalysis. \n",
    "class WrappedModel(torch.nn.Module):\n",
    "    def __init__(self, model):\n",
    "        super().__init__()\n",
    "        self.model = model\n",
    "    def forward(self, input_ids):\n",
    "        output = self.model(input_ids)\n",
    "        return output.logits\n",
    "\n",
    "# Move the model to CPU and prepare dummy input for FLOPs analysis. \n",
    "model_gemma_cpu = WrappedModel(model_gemma).to('cpu')\n",
    "dummy_input = (torch.ones((1, len(prompt)), dtype = torch.long),) # batch_size = 1, seq_len = prompt length\n",
    "print('Prompt length:', len(prompt))\n",
    "\n",
    "# Measure the FLOPs. \n",
    "flops = FlopCountAnalysis(model_gemma_cpu, dummy_input)\n",
    "print(f'Total FLOPs: {flops.total():,}')\n",
    "print('FLOPs by operator:', flops.by_operator())\n",
    "\n",
    "# Move the model back to its original device. \n",
    "model_gemma.to(device_before)\n",
    "print('Model moved back to:', device_before)"
   ]
  },
  {
   "cell_type": "code",
   "execution_count": 19,
   "metadata": {},
   "outputs": [
    {
     "name": "stdout",
     "output_type": "stream",
     "text": [
      "FLOPs per inference: 2998372810112\n"
     ]
    }
   ],
   "source": [
    "# Store and display the number of FLOPs. \n",
    "dict_flops['Large Language Models: Gemma'] = flops.total()\n",
    "print('FLOPs per inference:', flops.total())"
   ]
  },
  {
   "cell_type": "code",
   "execution_count": 20,
   "metadata": {},
   "outputs": [
    {
     "data": {
      "text/html": [
       "<div>\n",
       "<style scoped>\n",
       "    .dataframe tbody tr th:only-of-type {\n",
       "        vertical-align: middle;\n",
       "    }\n",
       "\n",
       "    .dataframe tbody tr th {\n",
       "        vertical-align: top;\n",
       "    }\n",
       "\n",
       "    .dataframe thead th {\n",
       "        text-align: right;\n",
       "    }\n",
       "</style>\n",
       "<table border=\"1\" class=\"dataframe\">\n",
       "  <thead>\n",
       "    <tr style=\"text-align: right;\">\n",
       "      <th></th>\n",
       "      <th>Frontal Pole</th>\n",
       "      <th>Insular Cortex</th>\n",
       "      <th>Inferior Frontal Gyrus, pars triangularis</th>\n",
       "      <th>Precentral Gyrus</th>\n",
       "      <th>Superior Temporal Gyrus, posterior division</th>\n",
       "      <th>Superior Parietal Lobule</th>\n",
       "      <th>Angular Gyrus</th>\n",
       "      <th>Occipital Pole</th>\n",
       "    </tr>\n",
       "  </thead>\n",
       "  <tbody>\n",
       "    <tr>\n",
       "      <th>sub-xp101</th>\n",
       "      <td>0.35</td>\n",
       "      <td>0.65</td>\n",
       "      <td>0.55</td>\n",
       "      <td>0.529412</td>\n",
       "      <td>0.4</td>\n",
       "      <td>0.65</td>\n",
       "      <td>0.473684</td>\n",
       "      <td>0.7</td>\n",
       "    </tr>\n",
       "    <tr>\n",
       "      <th>sub-xp103</th>\n",
       "      <td>0.470588</td>\n",
       "      <td>0.526316</td>\n",
       "      <td>0.7</td>\n",
       "      <td>0.6</td>\n",
       "      <td>0.526316</td>\n",
       "      <td>0.555556</td>\n",
       "      <td>0.526316</td>\n",
       "      <td>0.6</td>\n",
       "    </tr>\n",
       "    <tr>\n",
       "      <th>sub-xp104</th>\n",
       "      <td>0.55</td>\n",
       "      <td>0.6</td>\n",
       "      <td>0.368421</td>\n",
       "      <td>0.588235</td>\n",
       "      <td>0.55</td>\n",
       "      <td>0.5</td>\n",
       "      <td>0.4</td>\n",
       "      <td>0.421053</td>\n",
       "    </tr>\n",
       "    <tr>\n",
       "      <th>sub-xp105</th>\n",
       "      <td>0.666667</td>\n",
       "      <td>0.611111</td>\n",
       "      <td>0.65</td>\n",
       "      <td>0.7</td>\n",
       "      <td>0.65</td>\n",
       "      <td>0.631579</td>\n",
       "      <td>0.526316</td>\n",
       "      <td>0.578947</td>\n",
       "    </tr>\n",
       "    <tr>\n",
       "      <th>sub-xp106</th>\n",
       "      <td>0.473684</td>\n",
       "      <td>0.421053</td>\n",
       "      <td>0.3</td>\n",
       "      <td>0.4</td>\n",
       "      <td>0.473684</td>\n",
       "      <td>0.5</td>\n",
       "      <td>0.55</td>\n",
       "      <td>0.473684</td>\n",
       "    </tr>\n",
       "    <tr>\n",
       "      <th>sub-xp107</th>\n",
       "      <td>0.736842</td>\n",
       "      <td>0.473684</td>\n",
       "      <td>0.5</td>\n",
       "      <td>0.578947</td>\n",
       "      <td>0.526316</td>\n",
       "      <td>0.444444</td>\n",
       "      <td>0.611111</td>\n",
       "      <td>0.7</td>\n",
       "    </tr>\n",
       "    <tr>\n",
       "      <th>sub-xp108</th>\n",
       "      <td>0.555556</td>\n",
       "      <td>0.4</td>\n",
       "      <td>0.5</td>\n",
       "      <td>0.333333</td>\n",
       "      <td>0.555556</td>\n",
       "      <td>0.55</td>\n",
       "      <td>0.578947</td>\n",
       "      <td>0.631579</td>\n",
       "    </tr>\n",
       "    <tr>\n",
       "      <th>sub-xp109</th>\n",
       "      <td>0.6</td>\n",
       "      <td>0.578947</td>\n",
       "      <td>0.526316</td>\n",
       "      <td>0.473684</td>\n",
       "      <td>0.555556</td>\n",
       "      <td>0.578947</td>\n",
       "      <td>0.65</td>\n",
       "      <td>0.75</td>\n",
       "    </tr>\n",
       "    <tr>\n",
       "      <th>sub-xp110</th>\n",
       "      <td>0.526316</td>\n",
       "      <td>0.388889</td>\n",
       "      <td>0.45</td>\n",
       "      <td>0.45</td>\n",
       "      <td>0.45</td>\n",
       "      <td>0.6</td>\n",
       "      <td>0.210526</td>\n",
       "      <td>0.6</td>\n",
       "    </tr>\n",
       "  </tbody>\n",
       "</table>\n",
       "</div>"
      ],
      "text/plain": [
       "          Frontal Pole Insular Cortex  \\\n",
       "sub-xp101         0.35           0.65   \n",
       "sub-xp103     0.470588       0.526316   \n",
       "sub-xp104         0.55            0.6   \n",
       "sub-xp105     0.666667       0.611111   \n",
       "sub-xp106     0.473684       0.421053   \n",
       "sub-xp107     0.736842       0.473684   \n",
       "sub-xp108     0.555556            0.4   \n",
       "sub-xp109          0.6       0.578947   \n",
       "sub-xp110     0.526316       0.388889   \n",
       "\n",
       "          Inferior Frontal Gyrus, pars triangularis Precentral Gyrus  \\\n",
       "sub-xp101                                      0.55         0.529412   \n",
       "sub-xp103                                       0.7              0.6   \n",
       "sub-xp104                                  0.368421         0.588235   \n",
       "sub-xp105                                      0.65              0.7   \n",
       "sub-xp106                                       0.3              0.4   \n",
       "sub-xp107                                       0.5         0.578947   \n",
       "sub-xp108                                       0.5         0.333333   \n",
       "sub-xp109                                  0.526316         0.473684   \n",
       "sub-xp110                                      0.45             0.45   \n",
       "\n",
       "          Superior Temporal Gyrus, posterior division  \\\n",
       "sub-xp101                                         0.4   \n",
       "sub-xp103                                    0.526316   \n",
       "sub-xp104                                        0.55   \n",
       "sub-xp105                                        0.65   \n",
       "sub-xp106                                    0.473684   \n",
       "sub-xp107                                    0.526316   \n",
       "sub-xp108                                    0.555556   \n",
       "sub-xp109                                    0.555556   \n",
       "sub-xp110                                        0.45   \n",
       "\n",
       "          Superior Parietal Lobule Angular Gyrus Occipital Pole  \n",
       "sub-xp101                     0.65      0.473684            0.7  \n",
       "sub-xp103                 0.555556      0.526316            0.6  \n",
       "sub-xp104                      0.5           0.4       0.421053  \n",
       "sub-xp105                 0.631579      0.526316       0.578947  \n",
       "sub-xp106                      0.5          0.55       0.473684  \n",
       "sub-xp107                 0.444444      0.611111            0.7  \n",
       "sub-xp108                     0.55      0.578947       0.631579  \n",
       "sub-xp109                 0.578947          0.65           0.75  \n",
       "sub-xp110                      0.6      0.210526            0.6  "
      ]
     },
     "execution_count": 20,
     "metadata": {},
     "output_type": "execute_result"
    }
   ],
   "source": [
    "# Display the accuracies per subject and brain region. \n",
    "accuracy_summary_gemma"
   ]
  },
  {
   "cell_type": "code",
   "execution_count": 21,
   "metadata": {},
   "outputs": [
    {
     "data": {
      "image/png": "[encoded data removed]",
      "text/plain": [
       "<Figure size 1000x400 with 1 Axes>"
      ]
     },
     "metadata": {},
     "output_type": "display_data"
    }
   ],
   "source": [
    "# Retrieve the average accuracy across subjects, and the standard error of the accuracy across subjects. \n",
    "accuracy_mean = list(accuracy_summary_gemma.mean().values)\n",
    "accuracy_mean.insert(0, 0.5) # Insert a baseline average of 0.5. \n",
    "accuracy_se = list(accuracy_summary_gemma.std().values / np.sqrt(len(subjects)))\n",
    "accuracy_se.insert(0, 0) # Insert a baseline standard error of 0. \n",
    "\n",
    "# Append the total average accuracy and its standard error. \n",
    "nb_brain_regions = accuracy_summary_gemma.shape[1]\n",
    "accuracy_mean.append(np.mean(accuracy_mean[1:]))\n",
    "accuracy_se.append(np.std(accuracy_mean[1:]) / (np.sqrt(len(subjects) * nb_brain_regions)))\n",
    "\n",
    "# Create the labels. \n",
    "labels = brain_regions.copy()\n",
    "labels.insert(0, 'Baseline')\n",
    "labels.append('Total')\n",
    "\n",
    "# Display the average accuracy and its standard error in a bar plot. \n",
    "fig, axes = plt.subplots(nrows = 1, ncols = 1, figsize = (10, 4))\n",
    "axes.bar(range(nb_brain_regions + 2), accuracy_mean, width = 0.6, color = ['green', *['blue'] * nb_brain_regions, 'mediumblue'])\n",
    "axes.errorbar(range(nb_brain_regions + 2), accuracy_mean, yerr = accuracy_se, fmt = 'None', color = 'black')\n",
    "axes.axhline(accuracy_mean[0], 0, 1, color = 'green', linestyle = 'dashed', alpha = 0.5)\n",
    "axes.set_xticks(range(nb_brain_regions + 2), labels = labels)\n",
    "axes.set_xticklabels(labels, rotation = 45, ha = 'right')\n",
    "axes.set_ylabel('Average accuracy across subjects')\n",
    "axes.set_title('Gemma-2-2B-IT');"
   ]
  },
  {
   "cell_type": "markdown",
   "metadata": {},
   "source": [
    "## **3. Llama**\n",
    "\n",
    "We use the **Llama-3.2-3B-Instruct large language model**, selecting the same hyperparameters as for the Gemma-2-2B-IT model, and defining the prompt in the same way. We run the large language model on the eegfmriNF condition of all subjects, for the same selection of brain regions. In the bar plot presenting the results, an indicative baseline is given for visualization purposes, but the real baseline depends both on the selected fMRI scans and the distribution of missing or ambiguous predictions. "
   ]
  },
  {
   "cell_type": "code",
   "execution_count": 22,
   "metadata": {},
   "outputs": [
    {
     "data": {
      "application/vnd.jupyter.widget-view+json": {
       "model_id": "c2dd4923c8674b9bba2ecbb5f477f0c1",
       "version_major": 2,
       "version_minor": 0
      },
      "text/plain": [
       "Loading checkpoint shards:   0%|          | 0/2 [00:00<?, ?it/s]"
      ]
     },
     "metadata": {},
     "output_type": "display_data"
    }
   ],
   "source": [
    "# Define the LLM to use. \n",
    "model_name = 'meta-llama/Llama-3.2-3B-Instruct'\n",
    "\n",
    "# Load the tokenizer and the model. \n",
    "tokenizer_llama = AutoTokenizer.from_pretrained(model_name)\n",
    "model_llama = AutoModelForCausalLM.from_pretrained(model_name, torch_dtype = torch.float16, device_map = 'auto')"
   ]
  },
  {
   "cell_type": "code",
   "execution_count": 23,
   "metadata": {},
   "outputs": [
    {
     "name": "stdout",
     "output_type": "stream",
     "text": [
      "Brain region: Frontal Pole\n",
      "Brain region index: 1\n",
      "EEG channel: Fpz\n",
      "EEG channel index: 61\n"
     ]
    }
   ],
   "source": [
    "# Select a subject and a condition. \n",
    "subject = 'sub-xp101'\n",
    "condition = 'eegfmriNF'\n",
    "\n",
    "# Select a fMRI brain region and retrieve its corresponding EEG channel. \n",
    "selected_brain_region = 'Frontal Pole'\n",
    "selected_brain_region_index = list(targets).index(selected_brain_region)\n",
    "selected_eeg_channel = region_channel_mapping[selected_brain_region]\n",
    "selected_eeg_channel_index = channel_names.index(selected_eeg_channel)\n",
    "\n",
    "# Display the fMRI brain region and its corresponding EEG channel. \n",
    "print('Brain region:', selected_brain_region)\n",
    "print('Brain region index:', int(selected_brain_region_index))\n",
    "print('EEG channel:', selected_eeg_channel)\n",
    "print('EEG channel index:', int(selected_eeg_channel_index))"
   ]
  },
  {
   "cell_type": "code",
   "execution_count": 24,
   "metadata": {},
   "outputs": [
    {
     "data": {
      "text/plain": [
       "'A human subject participated in a neuroscience experiment where EEG data and fMRI data were recorded simultaneously. The EEG band powers were measured every two seconds at electrode Fpz, with the following results: Delta (1-4 Hz): [-0.22278232  0.64400346  1.11835758 -1.24585523 -0.13343407], Theta (4-8 Hz): [ 0.3256324  -0.68492586 -0.96076972  0.99095653 -0.37529182], Alpha (8-12 Hz): [-0.40537466 -0.04844749 -0.69866725  0.40412502  1.11390381], Beta (16-30 Hz): [ 0.55265258 -0.03498027 -0.91193884  1.92475433  1.92719948]. The fMRI BOLD signal was measured in the Frontal Pole during the last two seconds. Given the EEG data, is the fMRI signal in this brain region likely increasing or decreasing during these last two seconds? Base your answer on your general knowledge in neuroscience, EEG research, and fMRI research. Since this is a time series, you might need to take into account the hemodynamic response function (HRF), and the fact that after an event, the fMRI response is delayed compared to the EEG response. Please answer with only one word: Increasing or Decreasing. Just give your best prediction, without any explanation.'"
      ]
     },
     "execution_count": 24,
     "metadata": {},
     "output_type": "execute_result"
    }
   ],
   "source": [
    "# Retrieve the features for the selected subject, condition, and EEG channel. \n",
    "X = dict_features_basis_class[subject][condition][:, (selected_eeg_channel_index * len(bandpower_names)):(selected_eeg_channel_index * len(bandpower_names)) + len(bandpower_names)]\n",
    "\n",
    "# Retrieve the targets for the selected subject, condition, and fMRI brain region. \n",
    "Y = dict_targets_basis_class[subject][condition][:, selected_brain_region_index]\n",
    "\n",
    "# Select the sequence length and the bandpowers. \n",
    "sequence_length = 5\n",
    "selected_bandpowers = [0, 1, 2, 4]\n",
    "\n",
    "# Create the LLM prompt. \n",
    "prompt = prompt_llm(X, \n",
    "                    fmri_scan_index = 5, \n",
    "                    sequence_length = sequence_length, \n",
    "                    selected_bandpowers = selected_bandpowers, \n",
    "                    selected_eeg_channel = selected_eeg_channel, \n",
    "                    selected_brain_region = selected_brain_region)\n",
    "prompt"
   ]
  },
  {
   "cell_type": "code",
   "execution_count": 25,
   "metadata": {},
   "outputs": [
    {
     "data": {
      "text/plain": [
       "'Increasing.'"
      ]
     },
     "execution_count": 25,
     "metadata": {},
     "output_type": "execute_result"
    }
   ],
   "source": [
    "# Suppress the transformers library logging. \n",
    "hf_logging.set_verbosity_error()\n",
    "\n",
    "# Run the LLM once, and display the result. \n",
    "answer_only = run_llm(prompt, tokenizer_llama, model_llama)\n",
    "answer_only"
   ]
  },
  {
   "cell_type": "code",
   "execution_count": 26,
   "metadata": {},
   "outputs": [
    {
     "data": {
      "text/plain": [
       "0.5"
      ]
     },
     "execution_count": 26,
     "metadata": {},
     "output_type": "execute_result"
    }
   ],
   "source": [
    "# Run the LLM multiple times. \n",
    "fmri_scans = range(5, (nb_scans_total - 1), 10)\n",
    "Y_true, Y_pred = run_llm_series(X, Y, fmri_scans, sequence_length, selected_bandpowers, selected_eeg_channel, selected_brain_region, tokenizer_llama, model_llama)\n",
    "\n",
    "# Compute the average accuracy. \n",
    "accuracy_array = Y_pred[Y_pred != -1] == Y_true[Y_pred != -1]\n",
    "accuracy_sequence = np.sum(accuracy_array) / accuracy_array.shape[0]\n",
    "accuracy_sequence"
   ]
  },
  {
   "cell_type": "code",
   "execution_count": 27,
   "metadata": {},
   "outputs": [
    {
     "name": "stdout",
     "output_type": "stream",
     "text": [
      "Frontal Pole\n",
      "sub-xp101: 3 ambiguous prediction(s) out of 20 - 15.0 %\n",
      "sub-xp103: 0 ambiguous prediction(s) out of 20 - 0.0 %\n",
      "sub-xp104: 0 ambiguous prediction(s) out of 20 - 0.0 %\n",
      "sub-xp105: 1 ambiguous prediction(s) out of 20 - 5.0 %\n",
      "sub-xp106: 3 ambiguous prediction(s) out of 20 - 15.0 %\n",
      "sub-xp107: 3 ambiguous prediction(s) out of 20 - 15.0 %\n",
      "sub-xp108: 1 ambiguous prediction(s) out of 20 - 5.0 %\n",
      "sub-xp109: 2 ambiguous prediction(s) out of 20 - 10.0 %\n",
      "sub-xp110: 1 ambiguous prediction(s) out of 20 - 5.0 %\n",
      "Insular Cortex\n",
      "sub-xp101: 1 ambiguous prediction(s) out of 20 - 5.0 %\n",
      "sub-xp103: 1 ambiguous prediction(s) out of 20 - 5.0 %\n",
      "sub-xp104: 1 ambiguous prediction(s) out of 20 - 5.0 %\n",
      "sub-xp105: 2 ambiguous prediction(s) out of 20 - 10.0 %\n",
      "sub-xp106: 5 ambiguous prediction(s) out of 20 - 25.0 %\n",
      "sub-xp107: 1 ambiguous prediction(s) out of 20 - 5.0 %\n",
      "sub-xp108: 4 ambiguous prediction(s) out of 20 - 20.0 %\n",
      "sub-xp109: 2 ambiguous prediction(s) out of 20 - 10.0 %\n",
      "sub-xp110: 2 ambiguous prediction(s) out of 20 - 10.0 %\n",
      "Inferior Frontal Gyrus, pars triangularis\n",
      "sub-xp101: 2 ambiguous prediction(s) out of 20 - 10.0 %\n",
      "sub-xp103: 0 ambiguous prediction(s) out of 20 - 0.0 %\n",
      "sub-xp104: 2 ambiguous prediction(s) out of 20 - 10.0 %\n",
      "sub-xp105: 1 ambiguous prediction(s) out of 20 - 5.0 %\n",
      "sub-xp106: 2 ambiguous prediction(s) out of 20 - 10.0 %\n",
      "sub-xp107: 1 ambiguous prediction(s) out of 20 - 5.0 %\n",
      "sub-xp108: 0 ambiguous prediction(s) out of 20 - 0.0 %\n",
      "sub-xp109: 1 ambiguous prediction(s) out of 20 - 5.0 %\n",
      "sub-xp110: 0 ambiguous prediction(s) out of 20 - 0.0 %\n",
      "Precentral Gyrus\n",
      "sub-xp101: 0 ambiguous prediction(s) out of 20 - 0.0 %\n",
      "sub-xp103: 2 ambiguous prediction(s) out of 20 - 10.0 %\n",
      "sub-xp104: 2 ambiguous prediction(s) out of 20 - 10.0 %\n",
      "sub-xp105: 3 ambiguous prediction(s) out of 20 - 15.0 %\n",
      "sub-xp106: 1 ambiguous prediction(s) out of 20 - 5.0 %\n",
      "sub-xp107: 4 ambiguous prediction(s) out of 20 - 20.0 %\n",
      "sub-xp108: 1 ambiguous prediction(s) out of 20 - 5.0 %\n",
      "sub-xp109: 0 ambiguous prediction(s) out of 20 - 0.0 %\n",
      "sub-xp110: 2 ambiguous prediction(s) out of 20 - 10.0 %\n",
      "Superior Temporal Gyrus, posterior division\n",
      "sub-xp101: 1 ambiguous prediction(s) out of 20 - 5.0 %\n",
      "sub-xp103: 1 ambiguous prediction(s) out of 20 - 5.0 %\n",
      "sub-xp104: 2 ambiguous prediction(s) out of 20 - 10.0 %\n",
      "sub-xp105: 0 ambiguous prediction(s) out of 20 - 0.0 %\n",
      "sub-xp106: 2 ambiguous prediction(s) out of 20 - 10.0 %\n",
      "sub-xp107: 1 ambiguous prediction(s) out of 20 - 5.0 %\n",
      "sub-xp108: 3 ambiguous prediction(s) out of 20 - 15.0 %\n",
      "sub-xp109: 1 ambiguous prediction(s) out of 20 - 5.0 %\n",
      "sub-xp110: 4 ambiguous prediction(s) out of 20 - 20.0 %\n",
      "Superior Parietal Lobule\n",
      "sub-xp101: 5 ambiguous prediction(s) out of 20 - 25.0 %\n",
      "sub-xp103: 2 ambiguous prediction(s) out of 20 - 10.0 %\n",
      "sub-xp104: 0 ambiguous prediction(s) out of 20 - 0.0 %\n",
      "sub-xp105: 1 ambiguous prediction(s) out of 20 - 5.0 %\n",
      "sub-xp106: 1 ambiguous prediction(s) out of 20 - 5.0 %\n",
      "sub-xp107: 1 ambiguous prediction(s) out of 20 - 5.0 %\n",
      "sub-xp108: 1 ambiguous prediction(s) out of 20 - 5.0 %\n",
      "sub-xp109: 3 ambiguous prediction(s) out of 20 - 15.0 %\n",
      "sub-xp110: 2 ambiguous prediction(s) out of 20 - 10.0 %\n",
      "Angular Gyrus\n",
      "sub-xp101: 3 ambiguous prediction(s) out of 20 - 15.0 %\n",
      "sub-xp103: 1 ambiguous prediction(s) out of 20 - 5.0 %\n",
      "sub-xp104: 2 ambiguous prediction(s) out of 20 - 10.0 %\n",
      "sub-xp105: 0 ambiguous prediction(s) out of 20 - 0.0 %\n",
      "sub-xp106: 0 ambiguous prediction(s) out of 20 - 0.0 %\n",
      "sub-xp107: 0 ambiguous prediction(s) out of 20 - 0.0 %\n",
      "sub-xp108: 4 ambiguous prediction(s) out of 20 - 20.0 %\n",
      "sub-xp109: 1 ambiguous prediction(s) out of 20 - 5.0 %\n",
      "sub-xp110: 0 ambiguous prediction(s) out of 20 - 0.0 %\n",
      "Occipital Pole\n",
      "sub-xp101: 2 ambiguous prediction(s) out of 20 - 10.0 %\n",
      "sub-xp103: 1 ambiguous prediction(s) out of 20 - 5.0 %\n",
      "sub-xp104: 2 ambiguous prediction(s) out of 20 - 10.0 %\n",
      "sub-xp105: 1 ambiguous prediction(s) out of 20 - 5.0 %\n",
      "sub-xp106: 1 ambiguous prediction(s) out of 20 - 5.0 %\n",
      "sub-xp107: 3 ambiguous prediction(s) out of 20 - 15.0 %\n",
      "sub-xp108: 2 ambiguous prediction(s) out of 20 - 10.0 %\n",
      "sub-xp109: 3 ambiguous prediction(s) out of 20 - 15.0 %\n",
      "sub-xp110: 0 ambiguous prediction(s) out of 20 - 0.0 %\n"
     ]
    }
   ],
   "source": [
    "# Select a condition and a list of brain regions. \n",
    "condition = 'eegfmriNF'\n",
    "brain_regions = ['Frontal Pole', # High-order cognitive functions, but sometimes noisy EEG signal. \n",
    "                 'Insular Cortex', # Integrative functions. \n",
    "                 'Inferior Frontal Gyrus, pars triangularis', # Language and executive functions. \n",
    "                 'Precentral Gyrus', # Primary motor cortex. \n",
    "                 'Superior Temporal Gyrus, posterior division', # Auditory functions. \n",
    "                 'Superior Parietal Lobule', # Attention functions. \n",
    "                 'Angular Gyrus', # Default-mode network. \n",
    "                 'Occipital Pole'] # Primary visual cortex. \n",
    "\n",
    "# Select a sequence of fMRI scans. \n",
    "fmri_scans = range(5, (nb_scans_total - 1), 10) # Extensive search.\n",
    "#fmri_scans = range(5, (nb_scans_total - 1), 100) # Quick search for debugging.\n",
    "\n",
    "# Store the brain regions and the sequence of fMRI scans in dictionaries. \n",
    "dict_brain_regions['Large Language Models: Llama'] = brain_regions\n",
    "dict_fmri_scans['Large Language Models: Llama'] = fmri_scans\n",
    "\n",
    "# Define a dictionary to store the predictions and a Pandas DataFrame to store the accuracy. \n",
    "dict_predictions_llama = dict()\n",
    "accuracy_summary_llama = pd.DataFrame(columns = brain_regions)\n",
    "\n",
    "# Iterate through all brain regions. \n",
    "for selected_brain_region in brain_regions:\n",
    "\n",
    "    # Display the current brain region. \n",
    "    print(selected_brain_region)\n",
    "\n",
    "    # Retrieve the EEG channel corresponding to the brain region. \n",
    "    selected_brain_region_index = list(targets).index(selected_brain_region)\n",
    "    selected_eeg_channel = region_channel_mapping[selected_brain_region]\n",
    "    selected_eeg_channel_index = channel_names.index(selected_eeg_channel)\n",
    "\n",
    "    # Define a dictionary to store the predictions for this brain region. \n",
    "    dict_predictions_llama[selected_brain_region] = dict()\n",
    "\n",
    "    # Iterate through all subjects. \n",
    "    for subject in subjects:\n",
    "        \n",
    "        # Retrieve the features for the selected subject, condition, and EEG channel. \n",
    "        X = dict_features_basis_class[subject][condition][:, (selected_eeg_channel_index * len(bandpower_names)):(selected_eeg_channel_index * len(bandpower_names)) + len(bandpower_names)]\n",
    "\n",
    "        # Retrieve the targets for the selected subject, condition, and fMRI brain region. \n",
    "        Y = dict_targets_basis_class[subject][condition][:, selected_brain_region_index]\n",
    "\n",
    "        # Run the LLM multiple times. \n",
    "        Y_true, Y_pred = run_llm_series(X, Y, fmri_scans, sequence_length, selected_bandpowers, selected_eeg_channel, selected_brain_region, tokenizer_llama, model_llama)\n",
    "\n",
    "        # Store the predictions. \n",
    "        dict_predictions_llama[selected_brain_region][subject] = Y_pred\n",
    "        \n",
    "        # Compute and store the average accuracy. \n",
    "        accuracy_array = Y_pred[Y_pred != -1] == Y_true[Y_pred != -1]\n",
    "        accuracy_sequence = np.sum(accuracy_array) / accuracy_array.shape[0]\n",
    "        accuracy_summary_llama.loc[subject, selected_brain_region] = accuracy_sequence\n",
    "\n",
    "        # Display the number of ambiguous predictions. \n",
    "        print(subject + ': ' + str(np.sum(Y_pred == -1)), 'ambiguous prediction(s) out of', len(Y_pred), '-', str(np.sum(Y_pred == -1) / len(Y_pred) * 100), '%')"
   ]
  },
  {
   "cell_type": "code",
   "execution_count": 28,
   "metadata": {},
   "outputs": [
    {
     "name": "stdout",
     "output_type": "stream",
     "text": [
      "Original device of the model: mps:0\n",
      "Prompt length: 1147\n",
      "Total FLOPs: 3,684,823,277,248\n",
      "FLOPs by operator: Counter({'linear': 3684823203840, 'matmul': 73408})\n",
      "Model moved back to: mps:0\n"
     ]
    }
   ],
   "source": [
    "# Store current device. \n",
    "device_before = next(model_llama.parameters()).device\n",
    "print('Original device of the model:', device_before)\n",
    "\n",
    "# Move the model to CPU and prepare dummy input for FLOPs analysis. \n",
    "model_llama_cpu = WrappedModel(model_llama).to('cpu')\n",
    "dummy_input = (torch.ones((1, len(prompt)), dtype = torch.long),) # batch_size = 1, seq_len = prompt length\n",
    "print('Prompt length:', len(prompt))\n",
    "\n",
    "# Measure the FLOPs. \n",
    "flops = FlopCountAnalysis(model_llama_cpu, dummy_input)\n",
    "print(f'Total FLOPs: {flops.total():,}')\n",
    "print('FLOPs by operator:', flops.by_operator())\n",
    "\n",
    "# Move the model back to its original device. \n",
    "model_llama.to(device_before)\n",
    "print('Model moved back to:', device_before)"
   ]
  },
  {
   "cell_type": "code",
   "execution_count": 29,
   "metadata": {},
   "outputs": [
    {
     "name": "stdout",
     "output_type": "stream",
     "text": [
      "FLOPs per inference: 3684823277248\n"
     ]
    }
   ],
   "source": [
    "# Store and display the number of FLOPs. \n",
    "dict_flops['Large Language Models: Llama'] = flops.total()\n",
    "print('FLOPs per inference:', flops.total())"
   ]
  },
  {
   "cell_type": "code",
   "execution_count": 30,
   "metadata": {},
   "outputs": [
    {
     "data": {
      "text/html": [
       "<div>\n",
       "<style scoped>\n",
       "    .dataframe tbody tr th:only-of-type {\n",
       "        vertical-align: middle;\n",
       "    }\n",
       "\n",
       "    .dataframe tbody tr th {\n",
       "        vertical-align: top;\n",
       "    }\n",
       "\n",
       "    .dataframe thead th {\n",
       "        text-align: right;\n",
       "    }\n",
       "</style>\n",
       "<table border=\"1\" class=\"dataframe\">\n",
       "  <thead>\n",
       "    <tr style=\"text-align: right;\">\n",
       "      <th></th>\n",
       "      <th>Frontal Pole</th>\n",
       "      <th>Insular Cortex</th>\n",
       "      <th>Inferior Frontal Gyrus, pars triangularis</th>\n",
       "      <th>Precentral Gyrus</th>\n",
       "      <th>Superior Temporal Gyrus, posterior division</th>\n",
       "      <th>Superior Parietal Lobule</th>\n",
       "      <th>Angular Gyrus</th>\n",
       "      <th>Occipital Pole</th>\n",
       "    </tr>\n",
       "  </thead>\n",
       "  <tbody>\n",
       "    <tr>\n",
       "      <th>sub-xp101</th>\n",
       "      <td>0.588235</td>\n",
       "      <td>0.473684</td>\n",
       "      <td>0.666667</td>\n",
       "      <td>0.7</td>\n",
       "      <td>0.526316</td>\n",
       "      <td>0.733333</td>\n",
       "      <td>0.588235</td>\n",
       "      <td>0.777778</td>\n",
       "    </tr>\n",
       "    <tr>\n",
       "      <th>sub-xp103</th>\n",
       "      <td>0.5</td>\n",
       "      <td>0.210526</td>\n",
       "      <td>0.4</td>\n",
       "      <td>0.444444</td>\n",
       "      <td>0.631579</td>\n",
       "      <td>0.5</td>\n",
       "      <td>0.473684</td>\n",
       "      <td>0.368421</td>\n",
       "    </tr>\n",
       "    <tr>\n",
       "      <th>sub-xp104</th>\n",
       "      <td>0.55</td>\n",
       "      <td>0.526316</td>\n",
       "      <td>0.611111</td>\n",
       "      <td>0.388889</td>\n",
       "      <td>0.333333</td>\n",
       "      <td>0.35</td>\n",
       "      <td>0.5</td>\n",
       "      <td>0.611111</td>\n",
       "    </tr>\n",
       "    <tr>\n",
       "      <th>sub-xp105</th>\n",
       "      <td>0.315789</td>\n",
       "      <td>0.277778</td>\n",
       "      <td>0.526316</td>\n",
       "      <td>0.529412</td>\n",
       "      <td>0.55</td>\n",
       "      <td>0.631579</td>\n",
       "      <td>0.45</td>\n",
       "      <td>0.631579</td>\n",
       "    </tr>\n",
       "    <tr>\n",
       "      <th>sub-xp106</th>\n",
       "      <td>0.529412</td>\n",
       "      <td>0.8</td>\n",
       "      <td>0.555556</td>\n",
       "      <td>0.578947</td>\n",
       "      <td>0.222222</td>\n",
       "      <td>0.526316</td>\n",
       "      <td>0.65</td>\n",
       "      <td>0.578947</td>\n",
       "    </tr>\n",
       "    <tr>\n",
       "      <th>sub-xp107</th>\n",
       "      <td>0.529412</td>\n",
       "      <td>0.315789</td>\n",
       "      <td>0.473684</td>\n",
       "      <td>0.4375</td>\n",
       "      <td>0.368421</td>\n",
       "      <td>0.631579</td>\n",
       "      <td>0.45</td>\n",
       "      <td>0.470588</td>\n",
       "    </tr>\n",
       "    <tr>\n",
       "      <th>sub-xp108</th>\n",
       "      <td>0.526316</td>\n",
       "      <td>0.375</td>\n",
       "      <td>0.45</td>\n",
       "      <td>0.315789</td>\n",
       "      <td>0.352941</td>\n",
       "      <td>0.578947</td>\n",
       "      <td>0.75</td>\n",
       "      <td>0.444444</td>\n",
       "    </tr>\n",
       "    <tr>\n",
       "      <th>sub-xp109</th>\n",
       "      <td>0.5</td>\n",
       "      <td>0.666667</td>\n",
       "      <td>0.578947</td>\n",
       "      <td>0.5</td>\n",
       "      <td>0.421053</td>\n",
       "      <td>0.529412</td>\n",
       "      <td>0.526316</td>\n",
       "      <td>0.470588</td>\n",
       "    </tr>\n",
       "    <tr>\n",
       "      <th>sub-xp110</th>\n",
       "      <td>0.526316</td>\n",
       "      <td>0.611111</td>\n",
       "      <td>0.55</td>\n",
       "      <td>0.611111</td>\n",
       "      <td>0.75</td>\n",
       "      <td>0.277778</td>\n",
       "      <td>0.5</td>\n",
       "      <td>0.4</td>\n",
       "    </tr>\n",
       "  </tbody>\n",
       "</table>\n",
       "</div>"
      ],
      "text/plain": [
       "          Frontal Pole Insular Cortex  \\\n",
       "sub-xp101     0.588235       0.473684   \n",
       "sub-xp103          0.5       0.210526   \n",
       "sub-xp104         0.55       0.526316   \n",
       "sub-xp105     0.315789       0.277778   \n",
       "sub-xp106     0.529412            0.8   \n",
       "sub-xp107     0.529412       0.315789   \n",
       "sub-xp108     0.526316          0.375   \n",
       "sub-xp109          0.5       0.666667   \n",
       "sub-xp110     0.526316       0.611111   \n",
       "\n",
       "          Inferior Frontal Gyrus, pars triangularis Precentral Gyrus  \\\n",
       "sub-xp101                                  0.666667              0.7   \n",
       "sub-xp103                                       0.4         0.444444   \n",
       "sub-xp104                                  0.611111         0.388889   \n",
       "sub-xp105                                  0.526316         0.529412   \n",
       "sub-xp106                                  0.555556         0.578947   \n",
       "sub-xp107                                  0.473684           0.4375   \n",
       "sub-xp108                                      0.45         0.315789   \n",
       "sub-xp109                                  0.578947              0.5   \n",
       "sub-xp110                                      0.55         0.611111   \n",
       "\n",
       "          Superior Temporal Gyrus, posterior division  \\\n",
       "sub-xp101                                    0.526316   \n",
       "sub-xp103                                    0.631579   \n",
       "sub-xp104                                    0.333333   \n",
       "sub-xp105                                        0.55   \n",
       "sub-xp106                                    0.222222   \n",
       "sub-xp107                                    0.368421   \n",
       "sub-xp108                                    0.352941   \n",
       "sub-xp109                                    0.421053   \n",
       "sub-xp110                                        0.75   \n",
       "\n",
       "          Superior Parietal Lobule Angular Gyrus Occipital Pole  \n",
       "sub-xp101                 0.733333      0.588235       0.777778  \n",
       "sub-xp103                      0.5      0.473684       0.368421  \n",
       "sub-xp104                     0.35           0.5       0.611111  \n",
       "sub-xp105                 0.631579          0.45       0.631579  \n",
       "sub-xp106                 0.526316          0.65       0.578947  \n",
       "sub-xp107                 0.631579          0.45       0.470588  \n",
       "sub-xp108                 0.578947          0.75       0.444444  \n",
       "sub-xp109                 0.529412      0.526316       0.470588  \n",
       "sub-xp110                 0.277778           0.5            0.4  "
      ]
     },
     "execution_count": 30,
     "metadata": {},
     "output_type": "execute_result"
    }
   ],
   "source": [
    "# Display the accuracies per subject and brain region. \n",
    "accuracy_summary_llama"
   ]
  },
  {
   "cell_type": "code",
   "execution_count": 31,
   "metadata": {},
   "outputs": [
    {
     "data": {
      "image/png": "[encoded data removed]",
      "text/plain": [
       "<Figure size 1000x400 with 1 Axes>"
      ]
     },
     "metadata": {},
     "output_type": "display_data"
    }
   ],
   "source": [
    "# Retrieve the average accuracy across subjects, and the standard error of the accuracy across subjects. \n",
    "accuracy_mean = list(accuracy_summary_llama.mean().values)\n",
    "accuracy_mean.insert(0, 0.5) # Insert a baseline average of 0.5. \n",
    "accuracy_se = list(accuracy_summary_llama.std().values / np.sqrt(len(subjects)))\n",
    "accuracy_se.insert(0, 0) # Insert a baseline standard error of 0. \n",
    "\n",
    "# Append the total average accuracy and its standard error. \n",
    "nb_brain_regions = accuracy_summary_llama.shape[1]\n",
    "accuracy_mean.append(np.mean(accuracy_mean[1:]))\n",
    "accuracy_se.append(np.std(accuracy_mean[1:]) / (np.sqrt(len(subjects) * nb_brain_regions)))\n",
    "\n",
    "# Create the labels. \n",
    "labels = brain_regions.copy()\n",
    "labels.insert(0, 'Baseline')\n",
    "labels.append('Total')\n",
    "\n",
    "# Display the average accuracy and its standard error in a bar plot. \n",
    "fig, axes = plt.subplots(nrows = 1, ncols = 1, figsize = (10, 4))\n",
    "axes.bar(range(nb_brain_regions + 2), accuracy_mean, width = 0.6, color = ['green', *['blue'] * nb_brain_regions, 'mediumblue'])\n",
    "axes.errorbar(range(nb_brain_regions + 2), accuracy_mean, yerr = accuracy_se, fmt = 'None', color = 'black')\n",
    "axes.axhline(accuracy_mean[0], 0, 1, color = 'green', linestyle = 'dashed', alpha = 0.5)\n",
    "axes.set_xticks(range(nb_brain_regions + 2), labels = labels)\n",
    "axes.set_xticklabels(labels, rotation = 45, ha = 'right')\n",
    "axes.set_ylabel('Average accuracy across subjects')\n",
    "axes.set_title('Llama-3.2-3B-Instruct');"
   ]
  },
  {
   "cell_type": "markdown",
   "metadata": {},
   "source": [
    "## **4. Results**"
   ]
  },
  {
   "cell_type": "code",
   "execution_count": 32,
   "metadata": {},
   "outputs": [],
   "source": [
    "# Save the region-channel mapping into a Pickle file. \n",
    "with open(results_path + 'region_channel_mapping.p', 'wb') as file:\n",
    "    pickle.dump(region_channel_mapping, file)\n",
    "\n",
    "# Save the predictions into Pickle files. \n",
    "with open(results_path + 'classification/dict_predictions_gemma.p', 'wb') as file:\n",
    "    pickle.dump(dict_predictions_gemma, file)\n",
    "with open(results_path + 'classification/dict_predictions_llama.p', 'wb') as file:\n",
    "    pickle.dump(dict_predictions_llama, file)\n",
    "\n",
    "# Save the summaries into Pickle files. \n",
    "with open(results_path + 'classification/df_summary_gemma.p', 'wb') as file:\n",
    "    pickle.dump(accuracy_summary_gemma, file)\n",
    "with open(results_path + 'classification/df_summary_llama.p', 'wb') as file:\n",
    "    pickle.dump(accuracy_summary_llama, file)\n",
    "\n",
    "# Save the brain regions, sequences of fMRI scans, and FLOPs into Pickle files. \n",
    "with open(results_path + 'brain_regions_large_language_models.p', 'wb') as file:\n",
    "    pickle.dump(dict_brain_regions, file)\n",
    "with open(results_path + 'fmri_scans_large_language_models.p', 'wb') as file:\n",
    "    pickle.dump(dict_fmri_scans, file)\n",
    "with open(results_path + 'flops_large_language_models.p', 'wb') as file:\n",
    "    pickle.dump(dict_flops, file)"
   ]
  }
 ],
 "metadata": {
  "kernelspec": {
   "display_name": "neuropolis-x1",
   "language": "python",
   "name": "python3"
  },
  "language_info": {
   "codemirror_mode": {
    "name": "ipython",
    "version": 3
   },
   "file_extension": ".py",
   "mimetype": "text/x-python",
   "name": "python",
   "nbconvert_exporter": "python",
   "pygments_lexer": "ipython3",
   "version": "3.11.11"
  }
 },
 "nbformat": 4,
 "nbformat_minor": 2
}
