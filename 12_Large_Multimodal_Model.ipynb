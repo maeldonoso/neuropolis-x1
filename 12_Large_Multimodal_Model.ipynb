{
 "cells": [
  {
   "cell_type": "markdown",
   "metadata": {},
   "source": [
    "# **Neuropolis-X1**\n",
    "### **Building an artificial intelligence system for human brain activity prediction (EEG, fMRI) with machine learning, deep learning, and large language models**\n",
    "\n",
    "#### Maël Donoso, Ouroboros Neurotechnologies (https://ouroboros-neurotechnologies.com/)\n",
    "First release: *18th March 2025*"
   ]
  },
  {
   "cell_type": "markdown",
   "metadata": {},
   "source": [
    "This first extension (X1) of Neuropolis includes fourteen Notebooks:\n",
    "\n",
    "*01: fMRI Preprocessing*\n",
    "\n",
    "*02: EEG Preprocessing*\n",
    "\n",
    "*03: Classification Models*\n",
    "\n",
    "*04: Regression Models*\n",
    "\n",
    "*05: Neural Networks*\n",
    "\n",
    "*06: Convolutional Neural Networks*\n",
    "\n",
    "*07: Recurrent Neural Networks*\n",
    "\n",
    "*08: Transformers*\n",
    "\n",
    "*09: Large Language Models*\n",
    "\n",
    "*10: Large Language Model Chain-of-Thought*\n",
    "\n",
    "*11: Large Language Model Fine-Tuning*\n",
    "\n",
    "***12: Large Multimodal Model***\n",
    "\n",
    "*13: Statistical Tests*\n",
    "\n",
    "*14: Tables and Figures*"
   ]
  },
  {
   "cell_type": "markdown",
   "metadata": {},
   "source": [
    "### Notebook 12\n",
    "\n",
    "# **Large Multimodal Model**"
   ]
  },
  {
   "cell_type": "markdown",
   "metadata": {},
   "source": [
    "## **1. Topographic Map**\n",
    "\n",
    "We retrieve the EEG montage, and create a **topographic map** showing the beta bandpower across all EEG channels. "
   ]
  },
  {
   "cell_type": "code",
   "execution_count": 1,
   "metadata": {},
   "outputs": [],
   "source": [
    "import numpy as np\n",
    "import pandas as pd\n",
    "import matplotlib.pyplot as plt\n",
    "%matplotlib inline\n",
    "import mne\n",
    "import pickle\n",
    "import io\n",
    "from PIL import Image\n",
    "import torch\n",
    "from transformers import AutoProcessor, PaliGemmaForConditionalGeneration\n",
    "from fvcore.nn import FlopCountAnalysis\n",
    "import logging"
   ]
  },
  {
   "cell_type": "code",
   "execution_count": 2,
   "metadata": {},
   "outputs": [],
   "source": [
    "# Define the raw data path. \n",
    "raw_data_path = '../../Neuropolis/ds002336-download/'\n",
    "\n",
    "# Define the preprocessed data path. \n",
    "preprocessed_data_path = '../neuropolis-x1_preprocessed_data/'\n",
    "\n",
    "# Define the results path. \n",
    "results_path = '../neuropolis-x1_results/'"
   ]
  },
  {
   "cell_type": "code",
   "execution_count": 3,
   "metadata": {},
   "outputs": [],
   "source": [
    "# Load the features and the targets for the classification task. \n",
    "with open(preprocessed_data_path + 'dict_targets.p', 'rb') as file:\n",
    "    dict_targets = pickle.load(file)\n",
    "with open(preprocessed_data_path + 'dict_features_bandpowers_normalized.p', 'rb') as file:\n",
    "    dict_features_bandpowers = pickle.load(file)\n",
    "with open(preprocessed_data_path + 'classification/dict_targets_classification_basis.p', 'rb') as file:\n",
    "    dict_targets_basis_class = pickle.load(file)"
   ]
  },
  {
   "cell_type": "code",
   "execution_count": 4,
   "metadata": {},
   "outputs": [
    {
     "data": {
      "text/plain": [
       "200"
      ]
     },
     "execution_count": 4,
     "metadata": {},
     "output_type": "execute_result"
    }
   ],
   "source": [
    "# Define the list of subjects, removing sub-xp102 who has a missing condition. \n",
    "subjects = ['sub-xp1' + str(x).zfill(2) for x in range(1, 11)]\n",
    "subjects.remove('sub-xp102')\n",
    "subject = subjects[0]\n",
    "\n",
    "# Retrieve and display the total number of scans. \n",
    "nb_scans_total = dict_targets[subject]['eegfmriNF']['Frontal Pole'].shape[0]\n",
    "nb_scans_total"
   ]
  },
  {
   "cell_type": "code",
   "execution_count": 5,
   "metadata": {},
   "outputs": [
    {
     "name": "stdout",
     "output_type": "stream",
     "text": [
      "['Background', 'Frontal Pole', 'Insular Cortex', 'Superior Frontal Gyrus', 'Middle Frontal Gyrus', 'Inferior Frontal Gyrus, pars triangularis', 'Inferior Frontal Gyrus, pars opercularis', 'Precentral Gyrus', 'Temporal Pole', 'Superior Temporal Gyrus, anterior division', 'Superior Temporal Gyrus, posterior division', 'Middle Temporal Gyrus, anterior division', 'Middle Temporal Gyrus, posterior division', 'Middle Temporal Gyrus, temporooccipital part', 'Inferior Temporal Gyrus, anterior division', 'Inferior Temporal Gyrus, posterior division', 'Inferior Temporal Gyrus, temporooccipital part', 'Postcentral Gyrus', 'Superior Parietal Lobule', 'Supramarginal Gyrus, anterior division', 'Supramarginal Gyrus, posterior division', 'Angular Gyrus', 'Lateral Occipital Cortex, superior division', 'Lateral Occipital Cortex, inferior division', 'Intracalcarine Cortex', 'Frontal Medial Cortex', 'Juxtapositional Lobule Cortex (formerly Supplementary Motor Cortex)', 'Subcallosal Cortex', 'Paracingulate Gyrus', 'Cingulate Gyrus, anterior division', 'Cingulate Gyrus, posterior division', 'Precuneous Cortex', 'Cuneal Cortex', 'Frontal Orbital Cortex', 'Parahippocampal Gyrus, anterior division', 'Parahippocampal Gyrus, posterior division', 'Lingual Gyrus', 'Temporal Fusiform Cortex, anterior division', 'Temporal Fusiform Cortex, posterior division', 'Temporal Occipital Fusiform Cortex', 'Occipital Fusiform Gyrus', 'Frontal Opercular Cortex', 'Central Opercular Cortex', 'Parietal Opercular Cortex', 'Planum Polare', \"Heschl's Gyrus (includes H1 and H2)\", 'Planum Temporale', 'Supracalcarine Cortex', 'Occipital Pole']\n",
      "49 brain regions\n"
     ]
    }
   ],
   "source": [
    "# Retrieve the list of all targets. \n",
    "targets = list(dict_targets[subject]['eegfmriNF'].keys())\n",
    "\n",
    "# Display the brain region names and the number of brain regions. \n",
    "print(targets)\n",
    "print(len(targets), 'brain regions')"
   ]
  },
  {
   "cell_type": "code",
   "execution_count": 6,
   "metadata": {},
   "outputs": [
    {
     "data": {
      "text/plain": [
       "<DigMontage | 0 extras (headshape), 0 HPIs, 3 fiducials, 63 channels>"
      ]
     },
     "execution_count": 6,
     "metadata": {},
     "output_type": "execute_result"
    }
   ],
   "source": [
    "# Define the bandpower names. \n",
    "bandpower_names = ['Delta (1-4 Hz)', 'Theta (4-8 Hz)', 'Alpha (8-12 Hz)', 'Sigma (12-16 Hz)', 'Beta (16-30 Hz)', 'Gamma (30-40 Hz)']\n",
    "\n",
    "# Define the path of the header file (.vhdr) for this subject, for the eegfmriNF condition. \n",
    "vhdr_path = raw_data_path + 'derivatives/' + subject + '/eeg_pp/' + subject + '_task-eegfmriNF_eeg_pp.vhdr'\n",
    "\n",
    "# Load the EEG data using the MNE library, keeping error messages but suppressing warnings. \n",
    "channels_data = mne.io.read_raw_brainvision(vhdr_path, misc = ['ECG'], preload = True, verbose = 'ERROR')\n",
    "\n",
    "# Retrieve and display the EEG montage. \n",
    "montage = channels_data.get_montage()\n",
    "montage"
   ]
  },
  {
   "cell_type": "code",
   "execution_count": 7,
   "metadata": {},
   "outputs": [
    {
     "data": {
      "text/plain": [
       "200.0"
      ]
     },
     "execution_count": 7,
     "metadata": {},
     "output_type": "execute_result"
    }
   ],
   "source": [
    "# Retrieve and display the sampling frequency. \n",
    "sampling_frequency = channels_data.info['sfreq']\n",
    "sampling_frequency"
   ]
  },
  {
   "cell_type": "code",
   "execution_count": 8,
   "metadata": {},
   "outputs": [
    {
     "name": "stdout",
     "output_type": "stream",
     "text": [
      "['Fp1', 'Fp2', 'F3', 'F4', 'C3', 'C4', 'P3', 'P4', 'O1', 'O2', 'F7', 'F8', 'T7', 'T8', 'P7', 'P8', 'Fz', 'Cz', 'Pz', 'Oz', 'FC1', 'FC2', 'CP1', 'CP2', 'FC5', 'FC6', 'CP5', 'CP6', 'TP9', 'TP10', 'POz', 'F1', 'F2', 'C1', 'C2', 'P1', 'P2', 'AF3', 'AF4', 'FC3', 'FC4', 'CP3', 'CP4', 'PO3', 'PO4', 'F5', 'F6', 'C5', 'C6', 'P5', 'P6', 'AF7', 'AF8', 'FT7', 'FT8', 'TP7', 'TP8', 'PO7', 'PO8', 'FT9', 'FT10', 'Fpz', 'CPz']\n",
      "63 channels\n"
     ]
    }
   ],
   "source": [
    "# Remove the ECG channel from the channel names. \n",
    "channel_names = channels_data.ch_names\n",
    "channel_names.remove('ECG')\n",
    "\n",
    "# Display the channel names and the number of channels. \n",
    "print(channel_names)\n",
    "print(len(channel_names), 'channels')"
   ]
  },
  {
   "cell_type": "code",
   "execution_count": 9,
   "metadata": {},
   "outputs": [
    {
     "data": {
      "text/plain": [
       "(63,)"
      ]
     },
     "execution_count": 9,
     "metadata": {},
     "output_type": "execute_result"
    }
   ],
   "source": [
    "# Select a condition, a bandpower index, and a scan. \n",
    "condition = 'eegfmriNF'\n",
    "selected_bandpower_index = 4\n",
    "selected_scan = 10\n",
    "\n",
    "# Retrieve the bandpower data. \n",
    "bandpower_data = dict_features_bandpowers[subject][condition][:, selected_bandpower_index, selected_scan]\n",
    "bandpower_data.shape"
   ]
  },
  {
   "cell_type": "code",
   "execution_count": 10,
   "metadata": {},
   "outputs": [
    {
     "data": {
      "text/html": [
       "<script type=\"text/javascript\">\n",
       "    // must be `var` (not `const`) because this can get embedded multiple times on a page\n",
       "var toggleVisibility = (className) => {\n",
       "\n",
       "    const elements = document.querySelectorAll(`.${className}`);\n",
       "\n",
       "    elements.forEach(element => {\n",
       "        if (element.classList.contains(\"mne-repr-section-header\")) {\n",
       "            return  // Don't collapse the section header row\n",
       "        }\n",
       "        element.classList.toggle(\"mne-repr-collapsed\");\n",
       "    });\n",
       "\n",
       "    // trigger caret to rotate\n",
       "    var sel = `.mne-repr-section-header.${className} > th.mne-repr-section-toggle > button`;\n",
       "    const button = document.querySelector(sel);\n",
       "    button.classList.toggle(\"collapsed\");\n",
       "\n",
       "    // adjust tooltip\n",
       "    sel = `tr.mne-repr-section-header.${className}`;\n",
       "    const secHeadRow = document.querySelector(sel);\n",
       "    secHeadRow.classList.toggle(\"collapsed\");\n",
       "    secHeadRow.title = secHeadRow.title === \"Hide section\" ? \"Show section\" : \"Hide section\";\n",
       "}\n",
       "</script>\n",
       "\n",
       "<style type=\"text/css\">\n",
       "    /*\n",
       "Styles in this section apply both to the sphinx-built website docs and to notebooks\n",
       "rendered in an IDE or in Jupyter. In our web docs, styles here are complemented by\n",
       "doc/_static/styles.css and other CSS files (e.g. from the sphinx theme, sphinx-gallery,\n",
       "or bootstrap). In IDEs/Jupyter, those style files are unavailable, so only the rules in\n",
       "this file apply (plus whatever default styling the IDE applies).\n",
       "*/\n",
       ".mne-repr-table {\n",
       "    display: inline;  /* prevent using full container width */\n",
       "}\n",
       ".mne-repr-table tr.mne-repr-section-header > th {\n",
       "    padding-top: 1rem;\n",
       "    text-align: left;\n",
       "    vertical-align: middle;\n",
       "}\n",
       ".mne-repr-section-toggle > button {\n",
       "    all: unset;\n",
       "    display: block;\n",
       "    height: 1rem;\n",
       "    width: 1rem;\n",
       "}\n",
       ".mne-repr-section-toggle > button > svg {\n",
       "    height: 60%;\n",
       "}\n",
       "\n",
       "/* transition (rotation) effects on the collapser button */\n",
       ".mne-repr-section-toggle > button.collapsed > svg {\n",
       "    transition: 0.1s ease-out;\n",
       "    transform: rotate(-90deg);\n",
       "}\n",
       ".mne-repr-section-toggle > button:not(.collapsed) > svg {\n",
       "    transition: 0.1s ease-out;\n",
       "    transform: rotate(0deg);\n",
       "}\n",
       "\n",
       "/* hide collapsed table rows */\n",
       ".mne-repr-collapsed {\n",
       "    display: none;\n",
       "}\n",
       "\n",
       "\n",
       "@layer {\n",
       "    /*\n",
       "    Selectors in a `@layer` will always be lower-precedence than selectors outside the\n",
       "    layer. So even though e.g. `div.output_html` is present in the sphinx-rendered\n",
       "    website docs, the styles here won't take effect there as long as some other rule\n",
       "    somewhere in the page's CSS targets the same element.\n",
       "\n",
       "    In IDEs or Jupyter notebooks, though, the CSS files from the sphinx theme,\n",
       "    sphinx-gallery, and bootstrap are unavailable, so these styles will apply.\n",
       "\n",
       "    Notes:\n",
       "\n",
       "    - the selector `.accordion-body` is for MNE Reports\n",
       "    - the selector `.output_html` is for VSCode's notebook interface\n",
       "    - the selector `.jp-RenderedHTML` is for Jupyter notebook\n",
       "    - variables starting with `--theme-` are VSCode-specific.\n",
       "    - variables starting with `--jp-` are Jupyter styles, *some of which* are also\n",
       "      available in VSCode. Here we try the `--theme-` variable first, then fall back to\n",
       "      the `--jp-` ones.\n",
       "    */\n",
       "    .mne-repr-table {\n",
       "        --mne-toggle-color: var(--theme-foreground, var(--jp-ui-font-color1));\n",
       "        --mne-button-bg-color: var(--theme-button-background, var(--jp-info-color0, var(--jp-content-link-color)));\n",
       "        --mne-button-fg-color: var(--theme-button-foreground, var(--jp-ui-inverse-font-color0, var(--jp-editor-background)));\n",
       "        --mne-button-hover-bg-color: var(--theme-button-hover-background, var(--jp-info-color1));\n",
       "        --mne-button-radius: var(--jp-border-radius, 0.25rem);\n",
       "    }\n",
       "    /* chevron position/alignment; in VSCode it looks ok without adjusting */\n",
       "    .accordion-body .mne-repr-section-toggle > button,\n",
       "    .jp-RenderedHTML .mne-repr-section-toggle > button {\n",
       "        padding: 0 0 45% 25% !important;\n",
       "    }\n",
       "    /* chevron color; MNE Report doesn't have light/dark mode */\n",
       "    div.output_html .mne-repr-section-toggle > button > svg > path,\n",
       "    .jp-RenderedHTML .mne-repr-section-toggle > button > svg > path {\n",
       "        fill: var(--mne-toggle-color);\n",
       "    }\n",
       "    .accordion-body .mne-ch-names-btn,\n",
       "    div.output_html .mne-ch-names-btn,\n",
       "    .jp-RenderedHTML .mne-ch-names-btn {\n",
       "        -webkit-border-radius: var(--mne-button-radius);\n",
       "        -moz-border-radius: var(--mne-button-radius);\n",
       "        border-radius: var(--mne-button-radius);\n",
       "        border: none;\n",
       "        background-image: none;\n",
       "        background-color: var(--mne-button-bg-color);\n",
       "        color: var(--mne-button-fg-color);\n",
       "        font-size: inherit;\n",
       "        min-width: 1.5rem;\n",
       "        padding: 0.25rem;\n",
       "        text-align: center;\n",
       "        text-decoration: none;\n",
       "    }\n",
       "    .accordion-body .mne-ch-names-btn:hover,\n",
       "    div.output_html .mne.ch-names-btn:hover,\n",
       "    .jp-RenderedHTML .mne-ch-names-btn:hover {\n",
       "        background-color: var(--mne-button-hover-bg-color);\n",
       "        text-decoration: underline;\n",
       "    }\n",
       "    .accordion-body .mne-ch-names-btn:focus-visible,\n",
       "    div.output_html .mne-ch-names-btn:focus-visible,\n",
       "    .jp-RenderedHTML .mne-ch-names-btn:focus-visible {\n",
       "        outline: 0.1875rem solid var(--mne-button-bg-color) !important;\n",
       "        outline-offset: 0.1875rem !important;\n",
       "    }\n",
       "}\n",
       "</style>\n",
       "\n",
       "\n",
       "\n",
       "<table class=\"table mne-repr-table\">\n",
       "    \n",
       "\n",
       "\n",
       "\n",
       "\n",
       "\n",
       "\n",
       "\n",
       "<tr class=\"mne-repr-section-header general-40d21c38-5c1c-4912-b42f-b62b1f2e6e79\"\n",
       "     title=\"Hide section\" \n",
       "    onclick=\"toggleVisibility('general-40d21c38-5c1c-4912-b42f-b62b1f2e6e79')\">\n",
       "    <th class=\"mne-repr-section-toggle\">\n",
       "        <button >\n",
       "            <svg xmlns=\"http://www.w3.org/2000/svg\" viewBox=\"0 0 512 512\"><!--!Font Awesome Free 6.6.0 by @fontawesome - https://fontawesome.com License - https://fontawesome.com/license/free Copyright 2024 Fonticons, Inc.--><path d=\"M233.4 406.6c12.5 12.5 32.8 12.5 45.3 0l192-192c12.5-12.5 12.5-32.8 0-45.3s-32.8-12.5-45.3 0L256 338.7 86.6 169.4c-12.5-12.5-32.8-12.5-45.3 0s-12.5 32.8 0 45.3l192 192z\"/></svg>\n",
       "        </button>\n",
       "    </th>\n",
       "    <th colspan=\"2\">\n",
       "        <strong>General</strong>\n",
       "    </th>\n",
       "</tr>\n",
       "\n",
       "\n",
       "<tr class=\"repr-element general-40d21c38-5c1c-4912-b42f-b62b1f2e6e79 \">\n",
       "    <td class=\"mne-repr-section-toggle\"></td>\n",
       "    <td>MNE object type</td>\n",
       "    <td>Info</td>\n",
       "</tr>\n",
       "<tr class=\"repr-element general-40d21c38-5c1c-4912-b42f-b62b1f2e6e79 \">\n",
       "    <td class=\"mne-repr-section-toggle\"></td>\n",
       "    <td>Measurement date</td>\n",
       "    \n",
       "    <td>Unknown</td>\n",
       "    \n",
       "</tr>\n",
       "<tr class=\"repr-element general-40d21c38-5c1c-4912-b42f-b62b1f2e6e79 \">\n",
       "    <td class=\"mne-repr-section-toggle\"></td>\n",
       "    <td>Participant</td>\n",
       "    \n",
       "    <td>Unknown</td>\n",
       "    \n",
       "</tr>\n",
       "<tr class=\"repr-element general-40d21c38-5c1c-4912-b42f-b62b1f2e6e79 \">\n",
       "    <td class=\"mne-repr-section-toggle\"></td>\n",
       "    <td>Experimenter</td>\n",
       "    \n",
       "    <td>Unknown</td>\n",
       "    \n",
       "</tr>\n",
       "    \n",
       "\n",
       "\n",
       "\n",
       "\n",
       "\n",
       "\n",
       "\n",
       "<tr class=\"mne-repr-section-header acquisition-a2af5c3d-4442-48f1-b125-9b38f6a218fc\"\n",
       "     title=\"Hide section\" \n",
       "    onclick=\"toggleVisibility('acquisition-a2af5c3d-4442-48f1-b125-9b38f6a218fc')\">\n",
       "    <th class=\"mne-repr-section-toggle\">\n",
       "        <button >\n",
       "            <svg xmlns=\"http://www.w3.org/2000/svg\" viewBox=\"0 0 512 512\"><!--!Font Awesome Free 6.6.0 by @fontawesome - https://fontawesome.com License - https://fontawesome.com/license/free Copyright 2024 Fonticons, Inc.--><path d=\"M233.4 406.6c12.5 12.5 32.8 12.5 45.3 0l192-192c12.5-12.5 12.5-32.8 0-45.3s-32.8-12.5-45.3 0L256 338.7 86.6 169.4c-12.5-12.5-32.8-12.5-45.3 0s-12.5 32.8 0 45.3l192 192z\"/></svg>\n",
       "        </button>\n",
       "    </th>\n",
       "    <th colspan=\"2\">\n",
       "        <strong>Acquisition</strong>\n",
       "    </th>\n",
       "</tr>\n",
       "\n",
       "\n",
       "\n",
       "\n",
       "\n",
       "\n",
       "\n",
       "\n",
       "\n",
       "<tr class=\"repr-element acquisition-a2af5c3d-4442-48f1-b125-9b38f6a218fc \">\n",
       "    <td class=\"mne-repr-section-toggle\"></td>\n",
       "    <td>Sampling frequency</td>\n",
       "    <td>200.00 Hz</td>\n",
       "</tr>\n",
       "\n",
       "\n",
       "\n",
       "    \n",
       "\n",
       "\n",
       "\n",
       "\n",
       "\n",
       "\n",
       "\n",
       "<tr class=\"mne-repr-section-header channels-ced3d481-57cd-4708-a2ee-ed57a780ac8a\"\n",
       "     title=\"Hide section\" \n",
       "    onclick=\"toggleVisibility('channels-ced3d481-57cd-4708-a2ee-ed57a780ac8a')\">\n",
       "    <th class=\"mne-repr-section-toggle\">\n",
       "        <button >\n",
       "            <svg xmlns=\"http://www.w3.org/2000/svg\" viewBox=\"0 0 512 512\"><!--!Font Awesome Free 6.6.0 by @fontawesome - https://fontawesome.com License - https://fontawesome.com/license/free Copyright 2024 Fonticons, Inc.--><path d=\"M233.4 406.6c12.5 12.5 32.8 12.5 45.3 0l192-192c12.5-12.5 12.5-32.8 0-45.3s-32.8-12.5-45.3 0L256 338.7 86.6 169.4c-12.5-12.5-32.8-12.5-45.3 0s-12.5 32.8 0 45.3l192 192z\"/></svg>\n",
       "        </button>\n",
       "    </th>\n",
       "    <th colspan=\"2\">\n",
       "        <strong>Channels</strong>\n",
       "    </th>\n",
       "</tr>\n",
       "\n",
       "\n",
       "    \n",
       "<tr class=\"repr-element channels-ced3d481-57cd-4708-a2ee-ed57a780ac8a \">\n",
       "    <td class=\"mne-repr-section-toggle\"></td>\n",
       "    <td>EEG</td>\n",
       "    <td>\n",
       "        <button class=\"mne-ch-names-btn sd-sphinx-override sd-btn sd-btn-info sd-text-wrap sd-shadow-sm\" onclick=\"alert('Good EEG:\\n\\nFp1, Fp2, F3, F4, C3, C4, P3, P4, O1, O2, F7, F8, T7, T8, P7, P8, Fz, Cz, Pz, Oz, FC1, FC2, CP1, CP2, FC5, FC6, CP5, CP6, TP9, TP10, POz, F1, F2, C1, C2, P1, P2, AF3, AF4, FC3, FC4, CP3, CP4, PO3, PO4, F5, F6, C5, C6, P5, P6, AF7, AF8, FT7, FT8, TP7, TP8, PO7, PO8, FT9, FT10, Fpz, CPz')\" title=\"(Click to open in popup)&#13;&#13;Fp1, Fp2, F3, F4, C3, C4, P3, P4, O1, O2, F7, F8, T7, T8, P7, P8, Fz, Cz, Pz, Oz, FC1, FC2, CP1, CP2, FC5, FC6, CP5, CP6, TP9, TP10, POz, F1, F2, C1, C2, P1, P2, AF3, AF4, FC3, FC4, CP3, CP4, PO3, PO4, F5, F6, C5, C6, P5, P6, AF7, AF8, FT7, FT8, TP7, TP8, PO7, PO8, FT9, FT10, Fpz, CPz\">\n",
       "            63\n",
       "        </button>\n",
       "\n",
       "        \n",
       "    </td>\n",
       "</tr>\n",
       "\n",
       "\n",
       "<tr class=\"repr-element channels-ced3d481-57cd-4708-a2ee-ed57a780ac8a \">\n",
       "    <td class=\"mne-repr-section-toggle\"></td>\n",
       "    <td>Head & sensor digitization</td>\n",
       "    \n",
       "    <td>66 points</td>\n",
       "    \n",
       "</tr>\n",
       "    \n",
       "\n",
       "\n",
       "\n",
       "\n",
       "\n",
       "\n",
       "\n",
       "<tr class=\"mne-repr-section-header filters-76861ec7-9abe-455a-a160-8f43cfda48c1\"\n",
       "     title=\"Hide section\" \n",
       "    onclick=\"toggleVisibility('filters-76861ec7-9abe-455a-a160-8f43cfda48c1')\">\n",
       "    <th class=\"mne-repr-section-toggle\">\n",
       "        <button >\n",
       "            <svg xmlns=\"http://www.w3.org/2000/svg\" viewBox=\"0 0 512 512\"><!--!Font Awesome Free 6.6.0 by @fontawesome - https://fontawesome.com License - https://fontawesome.com/license/free Copyright 2024 Fonticons, Inc.--><path d=\"M233.4 406.6c12.5 12.5 32.8 12.5 45.3 0l192-192c12.5-12.5 12.5-32.8 0-45.3s-32.8-12.5-45.3 0L256 338.7 86.6 169.4c-12.5-12.5-32.8-12.5-45.3 0s-12.5 32.8 0 45.3l192 192z\"/></svg>\n",
       "        </button>\n",
       "    </th>\n",
       "    <th colspan=\"2\">\n",
       "        <strong>Filters</strong>\n",
       "    </th>\n",
       "</tr>\n",
       "\n",
       "\n",
       "<tr class=\"repr-element filters-76861ec7-9abe-455a-a160-8f43cfda48c1 \">\n",
       "    <td class=\"mne-repr-section-toggle\"></td>\n",
       "    <td>Highpass</td>\n",
       "    <td>0.00 Hz</td>\n",
       "</tr>\n",
       "\n",
       "\n",
       "<tr class=\"repr-element filters-76861ec7-9abe-455a-a160-8f43cfda48c1 \">\n",
       "    <td class=\"mne-repr-section-toggle\"></td>\n",
       "    <td>Lowpass</td>\n",
       "    <td>100.00 Hz</td>\n",
       "</tr>\n",
       "\n",
       "\n",
       "</table>"
      ],
      "text/plain": [
       "<Info | 8 non-empty values\n",
       " bads: []\n",
       " ch_names: Fp1, Fp2, F3, F4, C3, C4, P3, P4, O1, O2, F7, F8, T7, T8, P7, ...\n",
       " chs: 63 EEG\n",
       " custom_ref_applied: False\n",
       " dig: 66 items (3 Cardinal, 63 EEG)\n",
       " highpass: 0.0 Hz\n",
       " lowpass: 100.0 Hz\n",
       " meas_date: unspecified\n",
       " nchan: 63\n",
       " projs: []\n",
       " sfreq: 200.0 Hz\n",
       ">"
      ]
     },
     "execution_count": 10,
     "metadata": {},
     "output_type": "execute_result"
    }
   ],
   "source": [
    "# Create the measurement information object. \n",
    "info = mne.create_info(ch_names = montage.ch_names, sfreq = sampling_frequency, ch_types = 'eeg')\n",
    "info.set_montage(montage)"
   ]
  },
  {
   "cell_type": "code",
   "execution_count": 11,
   "metadata": {},
   "outputs": [],
   "source": [
    "# Define a function to create a topographic map image. \n",
    "def create_topomap_image(bandpower_data, info):\n",
    "    \n",
    "    # Create the evoked potential array. \n",
    "    evoked = mne.EvokedArray(bandpower_data[:, np.newaxis], info)\n",
    "\n",
    "    # Generate the topographic map, and save it into a BytesIO buffer. \n",
    "    fig = evoked.plot_topomap(times = [0], scalings = 1, cmap = 'coolwarm', contours = 0, show = False)\n",
    "    buffer = io.BytesIO()\n",
    "    fig.savefig(buffer, format = 'png', bbox_inches = 'tight')\n",
    "    buffer.seek(0) # Reset the pointer to the beginning of the stream. \n",
    "\n",
    "    # Convert the figure to a PIL Image, then close the figure to free memory. \n",
    "    topomap_image = Image.open(buffer)\n",
    "    plt.close(fig)\n",
    "\n",
    "    # Resize the topographic map, and ensure it has RGB channels. \n",
    "    topomap_image = topomap_image.resize((224, 224), Image.Resampling.LANCZOS)\n",
    "    topomap_image = topomap_image.convert('RGB')\n",
    "    \n",
    "    return topomap_image"
   ]
  },
  {
   "cell_type": "code",
   "execution_count": 12,
   "metadata": {},
   "outputs": [
    {
     "data": {
      "image/jpeg": "[encoded data removed]",
      "image/png": "[encoded data removed]",
      "text/plain": [
       "<PIL.Image.Image image mode=RGB size=224x224>"
      ]
     },
     "execution_count": 12,
     "metadata": {},
     "output_type": "execute_result"
    }
   ],
   "source": [
    "# Create and display a topographic map image. \n",
    "topomap_image = create_topomap_image(bandpower_data, info)\n",
    "topomap_image"
   ]
  },
  {
   "cell_type": "code",
   "execution_count": 13,
   "metadata": {},
   "outputs": [],
   "source": [
    "# Define dictionaries to store the brain regions, sequences of fMRI scans, and FLOPs. \n",
    "dict_brain_regions = dict()\n",
    "dict_fmri_scans = dict()\n",
    "dict_flops = dict()"
   ]
  },
  {
   "cell_type": "markdown",
   "metadata": {},
   "source": [
    "## **2. PaliGemma**\n",
    "\n",
    "We use the **PaliGemma2-3B-Mix-224 large multimodal model**, and select its hyperparameters in order to ensure a relative variety of responses. We define a prompt where we provide a topographic map of the beta bandpower, and ask the model to predict the corresponding fMRI activity. We run the large multimodal model on the eegfmriNF condition of all subjects, for a selection of brain regions spanning both a substantial fraction of the brain and a variety of cognitive functions. In the bar plot presenting the results, an indicative baseline is given for visualization purposes, but the real baseline depends both on the selected fMRI scans and the distribution of missing or ambiguous predictions. "
   ]
  },
  {
   "cell_type": "code",
   "execution_count": 14,
   "metadata": {},
   "outputs": [
    {
     "data": {
      "application/vnd.jupyter.widget-view+json": {
       "model_id": "f415c5e1308a40818c9ef5f1860fdf2a",
       "version_major": 2,
       "version_minor": 0
      },
      "text/plain": [
       "Loading checkpoint shards:   0%|          | 0/2 [00:00<?, ?it/s]"
      ]
     },
     "metadata": {},
     "output_type": "display_data"
    }
   ],
   "source": [
    "# Define the LMM to use. \n",
    "model_name = 'google/paligemma2-3b-mix-224'\n",
    "\n",
    "# Load the processor and the model. \n",
    "processor_paligemma = AutoProcessor.from_pretrained(model_name, use_fast = True)\n",
    "model_paligemma = PaliGemmaForConditionalGeneration.from_pretrained(model_name)"
   ]
  },
  {
   "cell_type": "code",
   "execution_count": 15,
   "metadata": {},
   "outputs": [],
   "source": [
    "# Define a function to create a LMM prompt. \n",
    "def prompt_lmm(selected_bandpower, selected_brain_region):\n",
    "\n",
    "    # Create the prompt. \n",
    "    prompt = (\n",
    "        f\"<image>A human subject participated in a neuroscience experiment where EEG data and fMRI data were recorded simultaneously. \"\n",
    "        f\"This EEG topographic map shows the brain activity pattern observed for the band power {selected_bandpower}. \"\n",
    "        f\"The fMRI BOLD signal was measured in the {selected_brain_region} four seconds after that. \"\n",
    "        f\"Given the EEG data, is the fMRI signal in this brain region likely increasing or decreasing? \"\n",
    "        f\"Base your answer on your general knowledge in neuroscience, EEG research, and fMRI research. \"\n",
    "        f\"Please answer with only one word: Increasing or Decreasing. Just give your best prediction, without any explanation.\"\n",
    "    )\n",
    "\n",
    "    return prompt"
   ]
  },
  {
   "cell_type": "code",
   "execution_count": 16,
   "metadata": {},
   "outputs": [],
   "source": [
    "# Define a function to run a LMM. \n",
    "def run_lmm(prompt, image, processor, model):\n",
    "\n",
    "    # Run the LMM. \n",
    "    inputs = processor(images = image, text = prompt, return_tensors = 'pt').to(model.device)\n",
    "    output = model.generate(**inputs, \n",
    "                            max_new_tokens = 20, \n",
    "                            temperature = 1.2, \n",
    "                            top_p = 0.9, \n",
    "                            top_k = 50, \n",
    "                            do_sample = True, \n",
    "                            repetition_penalty = 1)\n",
    "\n",
    "    # Decode the generated text, remove the original prompt, and return the answer. \n",
    "    generated_text = processor.decode(output[0], skip_special_tokens = True)\n",
    "    answer_only = generated_text[len(prompt[7:]):].strip()\n",
    "    \n",
    "    return answer_only"
   ]
  },
  {
   "cell_type": "code",
   "execution_count": 17,
   "metadata": {},
   "outputs": [],
   "source": [
    "# Define a function to run a LMM multiple times. \n",
    "def run_lmm_series(X, Y, fmri_scans, selected_bandpower_index, selected_brain_region, info, processor, model):\n",
    "\n",
    "    # Create the NumPy arrays to store the true values and predictions.     \n",
    "    Y_true = np.zeros(len(fmri_scans))\n",
    "    Y_pred = np.zeros(len(fmri_scans))\n",
    "    answers = []\n",
    "    counter = 0\n",
    "\n",
    "    # Iterate through all selected fMRI scans. \n",
    "    for fmri_scan_index in fmri_scans:\n",
    "\n",
    "        # Create the topographic map image. \n",
    "        topomap_image = create_topomap_image(X[:, fmri_scan_index], info)\n",
    "\n",
    "        # Create the LMM prompt. \n",
    "        selected_bandpower = bandpower_names[selected_bandpower_index]\n",
    "        prompt = prompt_lmm(selected_bandpower, selected_brain_region)\n",
    "        \n",
    "        # Run the LMM and store the result. \n",
    "        answer_only = run_lmm(prompt, topomap_image, processor, model)\n",
    "        answers.append(answer_only) # For debugging purposes. \n",
    "\n",
    "        # Analyze the answer. \n",
    "        increase_detected = 'increas' in answer_only.lower()\n",
    "        decrease_detected = 'decreas' in answer_only.lower()\n",
    "        if increase_detected and not decrease_detected:\n",
    "            Y_pred[counter] = 1\n",
    "        elif decrease_detected and not increase_detected:\n",
    "            Y_pred[counter] = 0\n",
    "        else:\n",
    "            Y_pred[counter] = -1\n",
    "\n",
    "        # Store the true value, which is the fMRI signal two scans later, at the peak of the hemodynamic response. \n",
    "        Y_true[counter] = Y[fmri_scan_index + 2]\n",
    "\n",
    "        # Increment. \n",
    "        counter += 1\n",
    "\n",
    "    return Y_true, Y_pred"
   ]
  },
  {
   "cell_type": "code",
   "execution_count": 18,
   "metadata": {},
   "outputs": [
    {
     "name": "stdout",
     "output_type": "stream",
     "text": [
      "Brain region: Frontal Pole\n",
      "Brain region index: 1\n",
      "EEG bandpower: Beta (16-30 Hz)\n"
     ]
    }
   ],
   "source": [
    "# Select a subject, a condition, and a scan. \n",
    "subject = 'sub-xp101'\n",
    "condition = 'eegfmriNF'\n",
    "selected_scan = 5\n",
    "\n",
    "# Select a fMRI brain region and an EEG bandpower. \n",
    "selected_brain_region = 'Frontal Pole'\n",
    "selected_brain_region_index = list(targets).index(selected_brain_region)\n",
    "selected_bandpower_index = 4\n",
    "selected_bandpower = bandpower_names[selected_bandpower_index]\n",
    "\n",
    "# Display the fMRI brain region and the EEG bandpower. \n",
    "print('Brain region:', selected_brain_region)\n",
    "print('Brain region index:', int(selected_brain_region_index))\n",
    "print('EEG bandpower:', selected_bandpower)"
   ]
  },
  {
   "cell_type": "code",
   "execution_count": 19,
   "metadata": {},
   "outputs": [
    {
     "data": {
      "image/jpeg": "[encoded data removed]",
      "image/png": "[encoded data removed]",
      "text/plain": [
       "<PIL.Image.Image image mode=RGB size=224x224>"
      ]
     },
     "execution_count": 19,
     "metadata": {},
     "output_type": "execute_result"
    }
   ],
   "source": [
    "# Retrieve the bandpower data. \n",
    "bandpower_data = dict_features_bandpowers[subject][condition][:, selected_bandpower_index, selected_scan]\n",
    "\n",
    "# Create and display the topographic map image. \n",
    "topomap_image = create_topomap_image(bandpower_data, info)\n",
    "topomap_image"
   ]
  },
  {
   "cell_type": "code",
   "execution_count": 20,
   "metadata": {},
   "outputs": [
    {
     "data": {
      "text/plain": [
       "'A human subject participated in a neuroscience experiment where EEG data and fMRI data were recorded simultaneously. This EEG topographic map shows the brain activity pattern observed for the band power Beta (16-30 Hz). The fMRI BOLD signal was measured in the Frontal Pole four seconds after that. Given the EEG data, is the fMRI signal in this brain region likely increasing or decreasing? Base your answer on your general knowledge in neuroscience, EEG research, and fMRI research. Please answer with only one word: Increasing or Decreasing. Just give your best prediction, without any explanation.'"
      ]
     },
     "execution_count": 20,
     "metadata": {},
     "output_type": "execute_result"
    }
   ],
   "source": [
    "# Create the LMM prompt. \n",
    "prompt = prompt_lmm(selected_bandpower, selected_brain_region)\n",
    "prompt[7:]"
   ]
  },
  {
   "cell_type": "code",
   "execution_count": 21,
   "metadata": {},
   "outputs": [
    {
     "data": {
      "text/plain": [
       "'Increasing'"
      ]
     },
     "execution_count": 21,
     "metadata": {},
     "output_type": "execute_result"
    }
   ],
   "source": [
    "# Run the LMM once, and display the result. \n",
    "answer_only = run_lmm(prompt, topomap_image, processor_paligemma, model_paligemma)\n",
    "answer_only"
   ]
  },
  {
   "cell_type": "code",
   "execution_count": 22,
   "metadata": {},
   "outputs": [
    {
     "name": "stdout",
     "output_type": "stream",
     "text": [
      "X shape: (63, 199)\n",
      "Y shape: (199,)\n"
     ]
    }
   ],
   "source": [
    "# Retrieve the features for the selected subject, condition, and EEG bandpower. \n",
    "X = dict_features_bandpowers[subject][condition][:, selected_bandpower_index, 1:]\n",
    "\n",
    "# Retrieve the targets for the selected subject, condition, and fMRI brain region. \n",
    "Y = dict_targets_basis_class[subject][condition][:, selected_brain_region_index]\n",
    "\n",
    "# Display the shape of the features and the targets.\n",
    "print('X shape:', X.shape)\n",
    "print('Y shape:', Y.shape)"
   ]
  },
  {
   "cell_type": "code",
   "execution_count": 23,
   "metadata": {},
   "outputs": [
    {
     "data": {
      "text/plain": [
       "0.4444444444444444"
      ]
     },
     "execution_count": 23,
     "metadata": {},
     "output_type": "execute_result"
    }
   ],
   "source": [
    "# Run the LMM multiple times. \n",
    "fmri_scans = range(5, (nb_scans_total - 3), 20)\n",
    "Y_true, Y_pred = run_lmm_series(X, Y, fmri_scans, selected_bandpower_index, selected_brain_region, info, processor_paligemma, model_paligemma)\n",
    "\n",
    "# Compute the average accuracy. \n",
    "accuracy_array = Y_pred[Y_pred != -1] == Y_true[Y_pred != -1]\n",
    "accuracy_sequence = np.sum(accuracy_array) / accuracy_array.shape[0]\n",
    "accuracy_sequence"
   ]
  },
  {
   "cell_type": "code",
   "execution_count": 24,
   "metadata": {},
   "outputs": [
    {
     "name": "stdout",
     "output_type": "stream",
     "text": [
      "Frontal Pole\n",
      "sub-xp101: 3 ambiguous prediction(s) out of 10 - 30.0 %\n",
      "sub-xp103: 1 ambiguous prediction(s) out of 10 - 10.0 %\n",
      "sub-xp104: 0 ambiguous prediction(s) out of 10 - 0.0 %\n",
      "sub-xp105: 0 ambiguous prediction(s) out of 10 - 0.0 %\n",
      "sub-xp106: 0 ambiguous prediction(s) out of 10 - 0.0 %\n",
      "sub-xp107: 1 ambiguous prediction(s) out of 10 - 10.0 %\n",
      "sub-xp108: 1 ambiguous prediction(s) out of 10 - 10.0 %\n",
      "sub-xp109: 3 ambiguous prediction(s) out of 10 - 30.0 %\n",
      "sub-xp110: 0 ambiguous prediction(s) out of 10 - 0.0 %\n",
      "Insular Cortex\n",
      "sub-xp101: 1 ambiguous prediction(s) out of 10 - 10.0 %\n",
      "sub-xp103: 1 ambiguous prediction(s) out of 10 - 10.0 %\n",
      "sub-xp104: 2 ambiguous prediction(s) out of 10 - 20.0 %\n",
      "sub-xp105: 1 ambiguous prediction(s) out of 10 - 10.0 %\n",
      "sub-xp106: 0 ambiguous prediction(s) out of 10 - 0.0 %\n",
      "sub-xp107: 0 ambiguous prediction(s) out of 10 - 0.0 %\n",
      "sub-xp108: 0 ambiguous prediction(s) out of 10 - 0.0 %\n",
      "sub-xp109: 1 ambiguous prediction(s) out of 10 - 10.0 %\n",
      "sub-xp110: 1 ambiguous prediction(s) out of 10 - 10.0 %\n",
      "Inferior Frontal Gyrus, pars triangularis\n",
      "sub-xp101: 1 ambiguous prediction(s) out of 10 - 10.0 %\n",
      "sub-xp103: 0 ambiguous prediction(s) out of 10 - 0.0 %\n",
      "sub-xp104: 2 ambiguous prediction(s) out of 10 - 20.0 %\n",
      "sub-xp105: 1 ambiguous prediction(s) out of 10 - 10.0 %\n",
      "sub-xp106: 0 ambiguous prediction(s) out of 10 - 0.0 %\n",
      "sub-xp107: 0 ambiguous prediction(s) out of 10 - 0.0 %\n",
      "sub-xp108: 1 ambiguous prediction(s) out of 10 - 10.0 %\n",
      "sub-xp109: 0 ambiguous prediction(s) out of 10 - 0.0 %\n",
      "sub-xp110: 0 ambiguous prediction(s) out of 10 - 0.0 %\n",
      "Precentral Gyrus\n",
      "sub-xp101: 0 ambiguous prediction(s) out of 10 - 0.0 %\n",
      "sub-xp103: 0 ambiguous prediction(s) out of 10 - 0.0 %\n",
      "sub-xp104: 1 ambiguous prediction(s) out of 10 - 10.0 %\n",
      "sub-xp105: 1 ambiguous prediction(s) out of 10 - 10.0 %\n",
      "sub-xp106: 2 ambiguous prediction(s) out of 10 - 20.0 %\n",
      "sub-xp107: 1 ambiguous prediction(s) out of 10 - 10.0 %\n",
      "sub-xp108: 0 ambiguous prediction(s) out of 10 - 0.0 %\n",
      "sub-xp109: 1 ambiguous prediction(s) out of 10 - 10.0 %\n",
      "sub-xp110: 1 ambiguous prediction(s) out of 10 - 10.0 %\n",
      "Superior Temporal Gyrus, posterior division\n",
      "sub-xp101: 1 ambiguous prediction(s) out of 10 - 10.0 %\n",
      "sub-xp103: 0 ambiguous prediction(s) out of 10 - 0.0 %\n",
      "sub-xp104: 1 ambiguous prediction(s) out of 10 - 10.0 %\n",
      "sub-xp105: 0 ambiguous prediction(s) out of 10 - 0.0 %\n",
      "sub-xp106: 0 ambiguous prediction(s) out of 10 - 0.0 %\n",
      "sub-xp107: 1 ambiguous prediction(s) out of 10 - 10.0 %\n",
      "sub-xp108: 0 ambiguous prediction(s) out of 10 - 0.0 %\n",
      "sub-xp109: 1 ambiguous prediction(s) out of 10 - 10.0 %\n",
      "sub-xp110: 1 ambiguous prediction(s) out of 10 - 10.0 %\n",
      "Superior Parietal Lobule\n",
      "sub-xp101: 2 ambiguous prediction(s) out of 10 - 20.0 %\n",
      "sub-xp103: 0 ambiguous prediction(s) out of 10 - 0.0 %\n",
      "sub-xp104: 1 ambiguous prediction(s) out of 10 - 10.0 %\n",
      "sub-xp105: 0 ambiguous prediction(s) out of 10 - 0.0 %\n",
      "sub-xp106: 1 ambiguous prediction(s) out of 10 - 10.0 %\n",
      "sub-xp107: 0 ambiguous prediction(s) out of 10 - 0.0 %\n",
      "sub-xp108: 0 ambiguous prediction(s) out of 10 - 0.0 %\n",
      "sub-xp109: 0 ambiguous prediction(s) out of 10 - 0.0 %\n",
      "sub-xp110: 0 ambiguous prediction(s) out of 10 - 0.0 %\n",
      "Angular Gyrus\n",
      "sub-xp101: 1 ambiguous prediction(s) out of 10 - 10.0 %\n",
      "sub-xp103: 1 ambiguous prediction(s) out of 10 - 10.0 %\n",
      "sub-xp104: 0 ambiguous prediction(s) out of 10 - 0.0 %\n",
      "sub-xp105: 1 ambiguous prediction(s) out of 10 - 10.0 %\n",
      "sub-xp106: 2 ambiguous prediction(s) out of 10 - 20.0 %\n",
      "sub-xp107: 0 ambiguous prediction(s) out of 10 - 0.0 %\n",
      "sub-xp108: 2 ambiguous prediction(s) out of 10 - 20.0 %\n",
      "sub-xp109: 2 ambiguous prediction(s) out of 10 - 20.0 %\n",
      "sub-xp110: 1 ambiguous prediction(s) out of 10 - 10.0 %\n",
      "Occipital Pole\n",
      "sub-xp101: 0 ambiguous prediction(s) out of 10 - 0.0 %\n",
      "sub-xp103: 0 ambiguous prediction(s) out of 10 - 0.0 %\n",
      "sub-xp104: 0 ambiguous prediction(s) out of 10 - 0.0 %\n",
      "sub-xp105: 0 ambiguous prediction(s) out of 10 - 0.0 %\n",
      "sub-xp106: 0 ambiguous prediction(s) out of 10 - 0.0 %\n",
      "sub-xp107: 0 ambiguous prediction(s) out of 10 - 0.0 %\n",
      "sub-xp108: 1 ambiguous prediction(s) out of 10 - 10.0 %\n",
      "sub-xp109: 1 ambiguous prediction(s) out of 10 - 10.0 %\n",
      "sub-xp110: 1 ambiguous prediction(s) out of 10 - 10.0 %\n"
     ]
    }
   ],
   "source": [
    "# Select a condition, a bandpower index, and a list of brain regions. \n",
    "condition = 'eegfmriNF'\n",
    "selected_bandpower_index = 4\n",
    "brain_regions = ['Frontal Pole', # High-order cognitive functions, but sometimes noisy EEG signal. \n",
    "                 'Insular Cortex', # Integrative functions. \n",
    "                 'Inferior Frontal Gyrus, pars triangularis', # Language and executive functions. \n",
    "                 'Precentral Gyrus', # Primary motor cortex. \n",
    "                 'Superior Temporal Gyrus, posterior division', # Auditory functions. \n",
    "                 'Superior Parietal Lobule', # Attention functions. \n",
    "                 'Angular Gyrus', # Default-mode network. \n",
    "                 'Occipital Pole'] # Primary visual cortex. \n",
    "\n",
    "# Select a sequence of fMRI scans. \n",
    "fmri_scans = range(5, (nb_scans_total - 1), 20) # Extensive search.\n",
    "#fmri_scans = range(5, (nb_scans_total - 1), 100) # Quick search for debugging.\n",
    "\n",
    "# Store the brain regions and the sequence of fMRI scans in dictionaries. \n",
    "dict_brain_regions['Large Multimodal Model'] = brain_regions\n",
    "dict_fmri_scans['Large Multimodal Model'] = fmri_scans\n",
    "\n",
    "# Define a dictionary to store the predictions and a Pandas DataFrame to store the accuracy. \n",
    "dict_predictions_paligemma = dict()\n",
    "accuracy_summary_paligemma = pd.DataFrame(columns = brain_regions)\n",
    "\n",
    "# Retrieve the selected bandpower. \n",
    "selected_bandpower = bandpower_names[selected_bandpower_index]\n",
    "\n",
    "# Iterate through all brain regions. \n",
    "for selected_brain_region in brain_regions:\n",
    "\n",
    "    # Display the current brain region. \n",
    "    print(selected_brain_region)\n",
    "\n",
    "    # Define a dictionary to store the predictions for this brain region. \n",
    "    dict_predictions_paligemma[selected_brain_region] = dict()\n",
    "\n",
    "    # Iterate through all subjects. \n",
    "    for subject in subjects:\n",
    "\n",
    "        # Retrieve the features for the selected subject, condition, and EEG bandpower. \n",
    "        X = dict_features_bandpowers[subject][condition][:, selected_bandpower_index, 1:]\n",
    "\n",
    "        # Retrieve the targets for the selected subject, condition, and fMRI brain region. \n",
    "        Y = dict_targets_basis_class[subject][condition][:, selected_brain_region_index]\n",
    "\n",
    "        # Run the LMM multiple times. \n",
    "        Y_true, Y_pred = run_lmm_series(X, Y, fmri_scans, selected_bandpower_index, selected_brain_region, info, processor_paligemma, model_paligemma)\n",
    "\n",
    "        # Store the predictions. \n",
    "        dict_predictions_paligemma[selected_brain_region][subject] = Y_pred\n",
    "\n",
    "        # Compute and store the average accuracy. \n",
    "        accuracy_array = Y_pred[Y_pred != -1] == Y_true[Y_pred != -1]\n",
    "        accuracy_sequence = np.sum(accuracy_array) / accuracy_array.shape[0]\n",
    "        accuracy_summary_paligemma.loc[subject, selected_brain_region] = accuracy_sequence\n",
    "\n",
    "        # Display the number of ambiguous predictions. \n",
    "        print(subject + ': ' + str(np.sum(Y_pred == -1)), 'ambiguous prediction(s) out of', len(Y_pred), '-', str(np.sum(Y_pred == -1) / len(Y_pred) * 100), '%')"
   ]
  },
  {
   "cell_type": "code",
   "execution_count": 25,
   "metadata": {},
   "outputs": [
    {
     "name": "stdout",
     "output_type": "stream",
     "text": [
      "Original device of the model: cpu\n",
      "Prompt length: 608\n",
      "Total FLOPs: 1,591,076,270,080\n",
      "FLOPs by operator: Counter({'linear': 1591076192256, 'matmul': 77824})\n",
      "Model moved back to: cpu\n"
     ]
    }
   ],
   "source": [
    "# Set the logging level to suppress warnings. \n",
    "logging.getLogger('fvcore.nn.jit_handles').setLevel(logging.ERROR)\n",
    "logging.getLogger('fvcore.nn.jit_analysis').setLevel(logging.ERROR)\n",
    "\n",
    "# Store current device. \n",
    "device_before = next(model_paligemma.parameters()).device\n",
    "print('Original device of the model:', device_before)\n",
    "\n",
    "# Define a class wrapping the model. \n",
    "# We output only logits (Tensor data type) for compatibility with FlopCountAnalysis. \n",
    "class WrappedModel(torch.nn.Module):\n",
    "    def __init__(self, model):\n",
    "        super().__init__()\n",
    "        self.model = model\n",
    "    def forward(self, input_ids):\n",
    "        output = self.model(input_ids)\n",
    "        return output.logits\n",
    "\n",
    "# Move the model to CPU and prepare dummy input for FLOPs analysis. \n",
    "model_paligemma_cpu = WrappedModel(model_paligemma).to('cpu')\n",
    "dummy_input = (torch.ones((1, len(prompt)), dtype = torch.long),) # batch_size = 1, seq_len = prompt length\n",
    "print('Prompt length:', len(prompt))\n",
    "\n",
    "# Measure the FLOPs. \n",
    "flops = FlopCountAnalysis(model_paligemma_cpu, dummy_input)\n",
    "print(f'Total FLOPs: {flops.total():,}')\n",
    "print('FLOPs by operator:', flops.by_operator())\n",
    "\n",
    "# Move the model back to its original device. \n",
    "model_paligemma.to(device_before)\n",
    "print('Model moved back to:', device_before)"
   ]
  },
  {
   "cell_type": "code",
   "execution_count": 26,
   "metadata": {},
   "outputs": [
    {
     "name": "stdout",
     "output_type": "stream",
     "text": [
      "FLOPs per inference: 1591076270080\n"
     ]
    }
   ],
   "source": [
    "# Store and display the number of FLOPs. \n",
    "dict_flops['Large Multimodal Model'] = flops.total()\n",
    "print('FLOPs per inference:', flops.total())"
   ]
  },
  {
   "cell_type": "code",
   "execution_count": 27,
   "metadata": {},
   "outputs": [
    {
     "data": {
      "text/html": [
       "<div>\n",
       "<style scoped>\n",
       "    .dataframe tbody tr th:only-of-type {\n",
       "        vertical-align: middle;\n",
       "    }\n",
       "\n",
       "    .dataframe tbody tr th {\n",
       "        vertical-align: top;\n",
       "    }\n",
       "\n",
       "    .dataframe thead th {\n",
       "        text-align: right;\n",
       "    }\n",
       "</style>\n",
       "<table border=\"1\" class=\"dataframe\">\n",
       "  <thead>\n",
       "    <tr style=\"text-align: right;\">\n",
       "      <th></th>\n",
       "      <th>Frontal Pole</th>\n",
       "      <th>Insular Cortex</th>\n",
       "      <th>Inferior Frontal Gyrus, pars triangularis</th>\n",
       "      <th>Precentral Gyrus</th>\n",
       "      <th>Superior Temporal Gyrus, posterior division</th>\n",
       "      <th>Superior Parietal Lobule</th>\n",
       "      <th>Angular Gyrus</th>\n",
       "      <th>Occipital Pole</th>\n",
       "    </tr>\n",
       "  </thead>\n",
       "  <tbody>\n",
       "    <tr>\n",
       "      <th>sub-xp101</th>\n",
       "      <td>0.285714</td>\n",
       "      <td>0.111111</td>\n",
       "      <td>0.333333</td>\n",
       "      <td>0.6</td>\n",
       "      <td>0.444444</td>\n",
       "      <td>0.625</td>\n",
       "      <td>0.222222</td>\n",
       "      <td>0.5</td>\n",
       "    </tr>\n",
       "    <tr>\n",
       "      <th>sub-xp103</th>\n",
       "      <td>0.333333</td>\n",
       "      <td>0.333333</td>\n",
       "      <td>0.6</td>\n",
       "      <td>0.5</td>\n",
       "      <td>0.2</td>\n",
       "      <td>0.2</td>\n",
       "      <td>0.333333</td>\n",
       "      <td>0.5</td>\n",
       "    </tr>\n",
       "    <tr>\n",
       "      <th>sub-xp104</th>\n",
       "      <td>0.3</td>\n",
       "      <td>0.5</td>\n",
       "      <td>0.75</td>\n",
       "      <td>0.444444</td>\n",
       "      <td>0.555556</td>\n",
       "      <td>0.333333</td>\n",
       "      <td>0.4</td>\n",
       "      <td>0.4</td>\n",
       "    </tr>\n",
       "    <tr>\n",
       "      <th>sub-xp105</th>\n",
       "      <td>0.5</td>\n",
       "      <td>0.555556</td>\n",
       "      <td>0.666667</td>\n",
       "      <td>0.777778</td>\n",
       "      <td>0.3</td>\n",
       "      <td>0.5</td>\n",
       "      <td>0.444444</td>\n",
       "      <td>0.3</td>\n",
       "    </tr>\n",
       "    <tr>\n",
       "      <th>sub-xp106</th>\n",
       "      <td>0.7</td>\n",
       "      <td>0.4</td>\n",
       "      <td>0.5</td>\n",
       "      <td>0.375</td>\n",
       "      <td>0.6</td>\n",
       "      <td>0.333333</td>\n",
       "      <td>0.5</td>\n",
       "      <td>0.5</td>\n",
       "    </tr>\n",
       "    <tr>\n",
       "      <th>sub-xp107</th>\n",
       "      <td>0.444444</td>\n",
       "      <td>0.3</td>\n",
       "      <td>0.7</td>\n",
       "      <td>0.333333</td>\n",
       "      <td>0.333333</td>\n",
       "      <td>0.3</td>\n",
       "      <td>0.3</td>\n",
       "      <td>0.4</td>\n",
       "    </tr>\n",
       "    <tr>\n",
       "      <th>sub-xp108</th>\n",
       "      <td>0.555556</td>\n",
       "      <td>0.6</td>\n",
       "      <td>0.444444</td>\n",
       "      <td>0.6</td>\n",
       "      <td>0.3</td>\n",
       "      <td>0.6</td>\n",
       "      <td>0.5</td>\n",
       "      <td>0.222222</td>\n",
       "    </tr>\n",
       "    <tr>\n",
       "      <th>sub-xp109</th>\n",
       "      <td>0.571429</td>\n",
       "      <td>0.555556</td>\n",
       "      <td>0.4</td>\n",
       "      <td>0.666667</td>\n",
       "      <td>0.666667</td>\n",
       "      <td>0.5</td>\n",
       "      <td>0.5</td>\n",
       "      <td>0.444444</td>\n",
       "    </tr>\n",
       "    <tr>\n",
       "      <th>sub-xp110</th>\n",
       "      <td>0.7</td>\n",
       "      <td>0.666667</td>\n",
       "      <td>0.5</td>\n",
       "      <td>0.444444</td>\n",
       "      <td>0.666667</td>\n",
       "      <td>0.5</td>\n",
       "      <td>0.777778</td>\n",
       "      <td>0.666667</td>\n",
       "    </tr>\n",
       "  </tbody>\n",
       "</table>\n",
       "</div>"
      ],
      "text/plain": [
       "          Frontal Pole Insular Cortex  \\\n",
       "sub-xp101     0.285714       0.111111   \n",
       "sub-xp103     0.333333       0.333333   \n",
       "sub-xp104          0.3            0.5   \n",
       "sub-xp105          0.5       0.555556   \n",
       "sub-xp106          0.7            0.4   \n",
       "sub-xp107     0.444444            0.3   \n",
       "sub-xp108     0.555556            0.6   \n",
       "sub-xp109     0.571429       0.555556   \n",
       "sub-xp110          0.7       0.666667   \n",
       "\n",
       "          Inferior Frontal Gyrus, pars triangularis Precentral Gyrus  \\\n",
       "sub-xp101                                  0.333333              0.6   \n",
       "sub-xp103                                       0.6              0.5   \n",
       "sub-xp104                                      0.75         0.444444   \n",
       "sub-xp105                                  0.666667         0.777778   \n",
       "sub-xp106                                       0.5            0.375   \n",
       "sub-xp107                                       0.7         0.333333   \n",
       "sub-xp108                                  0.444444              0.6   \n",
       "sub-xp109                                       0.4         0.666667   \n",
       "sub-xp110                                       0.5         0.444444   \n",
       "\n",
       "          Superior Temporal Gyrus, posterior division  \\\n",
       "sub-xp101                                    0.444444   \n",
       "sub-xp103                                         0.2   \n",
       "sub-xp104                                    0.555556   \n",
       "sub-xp105                                         0.3   \n",
       "sub-xp106                                         0.6   \n",
       "sub-xp107                                    0.333333   \n",
       "sub-xp108                                         0.3   \n",
       "sub-xp109                                    0.666667   \n",
       "sub-xp110                                    0.666667   \n",
       "\n",
       "          Superior Parietal Lobule Angular Gyrus Occipital Pole  \n",
       "sub-xp101                    0.625      0.222222            0.5  \n",
       "sub-xp103                      0.2      0.333333            0.5  \n",
       "sub-xp104                 0.333333           0.4            0.4  \n",
       "sub-xp105                      0.5      0.444444            0.3  \n",
       "sub-xp106                 0.333333           0.5            0.5  \n",
       "sub-xp107                      0.3           0.3            0.4  \n",
       "sub-xp108                      0.6           0.5       0.222222  \n",
       "sub-xp109                      0.5           0.5       0.444444  \n",
       "sub-xp110                      0.5      0.777778       0.666667  "
      ]
     },
     "execution_count": 27,
     "metadata": {},
     "output_type": "execute_result"
    }
   ],
   "source": [
    "# Display the accuracies per subject and brain region. \n",
    "accuracy_summary_paligemma"
   ]
  },
  {
   "cell_type": "code",
   "execution_count": 28,
   "metadata": {},
   "outputs": [
    {
     "data": {
      "image/png": "[encoded data removed]",
      "text/plain": [
       "<Figure size 1000x400 with 1 Axes>"
      ]
     },
     "metadata": {},
     "output_type": "display_data"
    }
   ],
   "source": [
    "# Retrieve the average accuracy across subjects, and the standard error of the accuracy across subjects. \n",
    "accuracy_mean = list(accuracy_summary_paligemma.mean().values)\n",
    "accuracy_mean.insert(0, 0.5) # Insert a baseline average of 0.5. \n",
    "accuracy_se = list(accuracy_summary_paligemma.std().values / np.sqrt(len(subjects)))\n",
    "accuracy_se.insert(0, 0) # Insert a baseline standard error of 0. \n",
    "\n",
    "# Append the total average accuracy and its standard error. \n",
    "nb_brain_regions = accuracy_summary_paligemma.shape[1]\n",
    "accuracy_mean.append(np.mean(accuracy_mean[1:]))\n",
    "accuracy_se.append(np.std(accuracy_mean[1:]) / (np.sqrt(len(subjects) * nb_brain_regions)))\n",
    "\n",
    "# Create the labels. \n",
    "labels = brain_regions.copy()\n",
    "labels.insert(0, 'Baseline')\n",
    "labels.append('Total')\n",
    "\n",
    "# Display the average accuracy and its standard error in a bar plot. \n",
    "fig, axes = plt.subplots(nrows = 1, ncols = 1, figsize = (10, 4))\n",
    "axes.bar(range(nb_brain_regions + 2), accuracy_mean, width = 0.6, color = ['green', *['blue'] * nb_brain_regions, 'mediumblue'])\n",
    "axes.errorbar(range(nb_brain_regions + 2), accuracy_mean, yerr = accuracy_se, fmt = 'None', color = 'black')\n",
    "axes.axhline(accuracy_mean[0], 0, 1, color = 'green', linestyle = 'dashed', alpha = 0.5)\n",
    "axes.set_xticks(range(nb_brain_regions + 2), labels = labels)\n",
    "axes.set_xticklabels(labels, rotation = 45, ha = 'right')\n",
    "axes.set_ylabel('Average accuracy across subjects')\n",
    "axes.set_title('PaliGemma2-3B-Mix-224');"
   ]
  },
  {
   "cell_type": "markdown",
   "metadata": {},
   "source": [
    "## **3. Results**"
   ]
  },
  {
   "cell_type": "code",
   "execution_count": 29,
   "metadata": {},
   "outputs": [],
   "source": [
    "# Save the predictions into a Pickle file. \n",
    "with open(results_path + 'classification/dict_predictions_paligemma.p', 'wb') as file:\n",
    "    pickle.dump(dict_predictions_paligemma, file)\n",
    "\n",
    "# Save the summary into a Pickle file. \n",
    "with open(results_path + 'classification/df_summary_paligemma.p', 'wb') as file:\n",
    "    pickle.dump(accuracy_summary_paligemma, file)\n",
    "\n",
    "# Save the brain regions, sequences of fMRI scans, and FLOPs into Pickle files. \n",
    "with open(results_path + 'brain_regions_large_multimodal_model.p', 'wb') as file:\n",
    "    pickle.dump(dict_brain_regions, file)\n",
    "with open(results_path + 'fmri_scans_large_multimodal_model.p', 'wb') as file:\n",
    "    pickle.dump(dict_fmri_scans, file)\n",
    "with open(results_path + 'flops_large_multimodal_model.p', 'wb') as file:\n",
    "    pickle.dump(dict_flops, file)"
   ]
  }
 ],
 "metadata": {
  "kernelspec": {
   "display_name": "neuropolis-x1",
   "language": "python",
   "name": "python3"
  },
  "language_info": {
   "codemirror_mode": {
    "name": "ipython",
    "version": 3
   },
   "file_extension": ".py",
   "mimetype": "text/x-python",
   "name": "python",
   "nbconvert_exporter": "python",
   "pygments_lexer": "ipython3",
   "version": "3.11.11"
  }
 },
 "nbformat": 4,
 "nbformat_minor": 2
}
