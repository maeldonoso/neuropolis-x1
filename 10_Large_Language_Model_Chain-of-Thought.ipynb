{
 "cells": [
  {
   "cell_type": "markdown",
   "metadata": {},
   "source": [
    "# **Neuropolis-X1**\n",
    "### **Building an artificial intelligence system for human brain activity prediction (EEG, fMRI) with machine learning, deep learning, and large language models**\n",
    "\n",
    "#### Maël Donoso, Ouroboros Neurotechnologies (https://ouroboros-neurotechnologies.com/)\n",
    "First release: *18th March 2025*"
   ]
  },
  {
   "cell_type": "markdown",
   "metadata": {},
   "source": [
    "This first extension (X1) of Neuropolis includes fourteen Notebooks:\n",
    "\n",
    "*01: fMRI Preprocessing*\n",
    "\n",
    "*02: EEG Preprocessing*\n",
    "\n",
    "*03: Classification Models*\n",
    "\n",
    "*04: Regression Models*\n",
    "\n",
    "*05: Neural Networks*\n",
    "\n",
    "*06: Convolutional Neural Networks*\n",
    "\n",
    "*07: Recurrent Neural Networks*\n",
    "\n",
    "*08: Transformers*\n",
    "\n",
    "*09: Large Language Models*\n",
    "\n",
    "***10: Large Language Model Chain-of-Thought***\n",
    "\n",
    "*11: Large Language Model Fine-Tuning*\n",
    "\n",
    "*12: Large Multimodal Model*\n",
    "\n",
    "*13: Statistical Tests*\n",
    "\n",
    "*14: Tables and Figures*"
   ]
  },
  {
   "cell_type": "markdown",
   "metadata": {},
   "source": [
    "### Notebook 10\n",
    "\n",
    "# **Large Language Model Chain-of-Thought**"
   ]
  },
  {
   "cell_type": "markdown",
   "metadata": {},
   "source": [
    "## **1. Region-Channel Mapping**\n",
    "\n",
    "We retrieve the **region-channel mapping**, associating each brain region to the EEG channel whose signal is most likely to provide relevant information regarding its fMRI activity. "
   ]
  },
  {
   "cell_type": "code",
   "execution_count": 1,
   "metadata": {},
   "outputs": [],
   "source": [
    "import numpy as np\n",
    "import pandas as pd\n",
    "import matplotlib.pyplot as plt\n",
    "%matplotlib inline\n",
    "import pickle\n",
    "import mne\n",
    "import torch\n",
    "from transformers import AutoModelForCausalLM, AutoTokenizer\n",
    "from fvcore.nn import FlopCountAnalysis\n",
    "import logging"
   ]
  },
  {
   "cell_type": "code",
   "execution_count": 2,
   "metadata": {},
   "outputs": [],
   "source": [
    "# Define the raw data path. \n",
    "raw_data_path = '../../Neuropolis/ds002336-download/'\n",
    "\n",
    "# Define the preprocessed data path. \n",
    "preprocessed_data_path = '../neuropolis-x1_preprocessed_data/'\n",
    "\n",
    "# Define the results path. \n",
    "results_path = '../neuropolis-x1_results/'"
   ]
  },
  {
   "cell_type": "code",
   "execution_count": 3,
   "metadata": {},
   "outputs": [],
   "source": [
    "# Load the features and the targets for the classification task. \n",
    "with open(preprocessed_data_path + 'dict_targets.p', 'rb') as file:\n",
    "    dict_targets = pickle.load(file)\n",
    "with open(preprocessed_data_path + 'classification/dict_features_classification_basis.p', 'rb') as file:\n",
    "    dict_features_basis_class = pickle.load(file)\n",
    "with open(preprocessed_data_path + 'classification/dict_targets_classification_basis.p', 'rb') as file:\n",
    "    dict_targets_basis_class = pickle.load(file)\n",
    "\n",
    "# Load the region-channel mapping. \n",
    "with open(results_path + 'region_channel_mapping.p', 'rb') as file:\n",
    "    region_channel_mapping = pickle.load(file)"
   ]
  },
  {
   "cell_type": "code",
   "execution_count": 4,
   "metadata": {},
   "outputs": [
    {
     "data": {
      "text/plain": [
       "200"
      ]
     },
     "execution_count": 4,
     "metadata": {},
     "output_type": "execute_result"
    }
   ],
   "source": [
    "# Define the list of subjects, removing sub-xp102 who has a missing condition. \n",
    "subjects = ['sub-xp1' + str(x).zfill(2) for x in range(1, 11)]\n",
    "subjects.remove('sub-xp102')\n",
    "subject = subjects[0]\n",
    "\n",
    "# Retrieve and display the total number of scans. \n",
    "nb_scans_total = dict_targets[subject]['eegfmriNF']['Frontal Pole'].shape[0]\n",
    "nb_scans_total"
   ]
  },
  {
   "cell_type": "code",
   "execution_count": 5,
   "metadata": {},
   "outputs": [
    {
     "name": "stdout",
     "output_type": "stream",
     "text": [
      "['Background', 'Frontal Pole', 'Insular Cortex', 'Superior Frontal Gyrus', 'Middle Frontal Gyrus', 'Inferior Frontal Gyrus, pars triangularis', 'Inferior Frontal Gyrus, pars opercularis', 'Precentral Gyrus', 'Temporal Pole', 'Superior Temporal Gyrus, anterior division', 'Superior Temporal Gyrus, posterior division', 'Middle Temporal Gyrus, anterior division', 'Middle Temporal Gyrus, posterior division', 'Middle Temporal Gyrus, temporooccipital part', 'Inferior Temporal Gyrus, anterior division', 'Inferior Temporal Gyrus, posterior division', 'Inferior Temporal Gyrus, temporooccipital part', 'Postcentral Gyrus', 'Superior Parietal Lobule', 'Supramarginal Gyrus, anterior division', 'Supramarginal Gyrus, posterior division', 'Angular Gyrus', 'Lateral Occipital Cortex, superior division', 'Lateral Occipital Cortex, inferior division', 'Intracalcarine Cortex', 'Frontal Medial Cortex', 'Juxtapositional Lobule Cortex (formerly Supplementary Motor Cortex)', 'Subcallosal Cortex', 'Paracingulate Gyrus', 'Cingulate Gyrus, anterior division', 'Cingulate Gyrus, posterior division', 'Precuneous Cortex', 'Cuneal Cortex', 'Frontal Orbital Cortex', 'Parahippocampal Gyrus, anterior division', 'Parahippocampal Gyrus, posterior division', 'Lingual Gyrus', 'Temporal Fusiform Cortex, anterior division', 'Temporal Fusiform Cortex, posterior division', 'Temporal Occipital Fusiform Cortex', 'Occipital Fusiform Gyrus', 'Frontal Opercular Cortex', 'Central Opercular Cortex', 'Parietal Opercular Cortex', 'Planum Polare', \"Heschl's Gyrus (includes H1 and H2)\", 'Planum Temporale', 'Supracalcarine Cortex', 'Occipital Pole']\n",
      "49 brain regions\n"
     ]
    }
   ],
   "source": [
    "# Retrieve the list of all targets. \n",
    "targets = list(dict_targets[subject]['eegfmriNF'].keys())\n",
    "\n",
    "# Display the brain region names and the number of brain regions. \n",
    "print(targets)\n",
    "print(len(targets), 'brain regions')"
   ]
  },
  {
   "cell_type": "code",
   "execution_count": 6,
   "metadata": {},
   "outputs": [
    {
     "name": "stdout",
     "output_type": "stream",
     "text": [
      "['Fp1', 'Fp2', 'F3', 'F4', 'C3', 'C4', 'P3', 'P4', 'O1', 'O2', 'F7', 'F8', 'T7', 'T8', 'P7', 'P8', 'Fz', 'Cz', 'Pz', 'Oz', 'FC1', 'FC2', 'CP1', 'CP2', 'FC5', 'FC6', 'CP5', 'CP6', 'TP9', 'TP10', 'POz', 'F1', 'F2', 'C1', 'C2', 'P1', 'P2', 'AF3', 'AF4', 'FC3', 'FC4', 'CP3', 'CP4', 'PO3', 'PO4', 'F5', 'F6', 'C5', 'C6', 'P5', 'P6', 'AF7', 'AF8', 'FT7', 'FT8', 'TP7', 'TP8', 'PO7', 'PO8', 'FT9', 'FT10', 'Fpz', 'CPz']\n",
      "63 channels\n"
     ]
    }
   ],
   "source": [
    "# Define the bandpower names. \n",
    "bandpower_names = ['Delta (1-4 Hz)', 'Theta (4-8 Hz)', 'Alpha (8-12 Hz)', 'Sigma (12-16 Hz)', 'Beta (16-30 Hz)', 'Gamma (30-40 Hz)']\n",
    "\n",
    "# Define the path of the header file (.vhdr) for this subject, for the eegfmriNF condition. \n",
    "vhdr_path = raw_data_path + 'derivatives/' + subject + '/eeg_pp/' + subject + '_task-eegfmriNF_eeg_pp.vhdr'\n",
    "\n",
    "# Load the EEG data using the MNE library, keeping error messages but suppressing warnings. \n",
    "channels_data = mne.io.read_raw_brainvision(vhdr_path, misc = ['ECG'], preload = True, verbose = 'ERROR')\n",
    "\n",
    "# Remove the ECG channel from the channel names. \n",
    "channel_names = channels_data.ch_names\n",
    "channel_names.remove('ECG')\n",
    "\n",
    "# Display the channel names and the number of channels. \n",
    "print(channel_names)\n",
    "print(len(channel_names), 'channels')"
   ]
  },
  {
   "cell_type": "code",
   "execution_count": 7,
   "metadata": {},
   "outputs": [],
   "source": [
    "# Define dictionaries to store the brain regions, sequences of fMRI scans, and FLOPs for each model. \n",
    "dict_brain_regions = dict()\n",
    "dict_fmri_scans = dict()\n",
    "dict_flops = dict()"
   ]
  },
  {
   "cell_type": "code",
   "execution_count": 8,
   "metadata": {},
   "outputs": [
    {
     "data": {
      "text/plain": [
       "{'Frontal Pole': 'Fpz',\n",
       " 'Insular Cortex': 'T7',\n",
       " 'Superior Frontal Gyrus': 'Fz',\n",
       " 'Middle Frontal Gyrus': 'F3',\n",
       " 'Inferior Frontal Gyrus, pars triangularis': 'F7',\n",
       " 'Inferior Frontal Gyrus, pars opercularis': 'F7',\n",
       " 'Precentral Gyrus': 'C3',\n",
       " 'Temporal Pole': 'FT9',\n",
       " 'Superior Temporal Gyrus, anterior division': 'FT7',\n",
       " 'Superior Temporal Gyrus, posterior division': 'T7',\n",
       " 'Middle Temporal Gyrus, anterior division': 'T7',\n",
       " 'Middle Temporal Gyrus, posterior division': 'T7',\n",
       " 'Middle Temporal Gyrus, temporooccipital part': 'P7',\n",
       " 'Inferior Temporal Gyrus, anterior division': 'T7',\n",
       " 'Inferior Temporal Gyrus, posterior division': 'P7',\n",
       " 'Inferior Temporal Gyrus, temporooccipital part': 'PO7',\n",
       " 'Postcentral Gyrus': 'C3',\n",
       " 'Superior Parietal Lobule': 'Pz',\n",
       " 'Supramarginal Gyrus, anterior division': 'CP3',\n",
       " 'Supramarginal Gyrus, posterior division': 'P3',\n",
       " 'Angular Gyrus': 'P3',\n",
       " 'Lateral Occipital Cortex, superior division': 'PO3',\n",
       " 'Lateral Occipital Cortex, inferior division': 'O1',\n",
       " 'Intracalcarine Cortex': 'Oz',\n",
       " 'Frontal Medial Cortex': 'Fz',\n",
       " 'Juxtapositional Lobule Cortex (formerly Supplementary Motor Cortex)': 'Cz',\n",
       " 'Subcallosal Cortex': 'Fpz',\n",
       " 'Paracingulate Gyrus': 'Fz',\n",
       " 'Cingulate Gyrus, anterior division': 'Fz',\n",
       " 'Cingulate Gyrus, posterior division': 'Pz',\n",
       " 'Precuneous Cortex': 'Pz',\n",
       " 'Cuneal Cortex': 'Oz',\n",
       " 'Frontal Orbital Cortex': 'Fp1',\n",
       " 'Parahippocampal Gyrus, anterior division': 'FT9',\n",
       " 'Parahippocampal Gyrus, posterior division': 'TP9',\n",
       " 'Lingual Gyrus': 'Oz',\n",
       " 'Temporal Fusiform Cortex, anterior division': 'FT9',\n",
       " 'Temporal Fusiform Cortex, posterior division': 'TP9',\n",
       " 'Temporal Occipital Fusiform Cortex': 'PO7',\n",
       " 'Occipital Fusiform Gyrus': 'PO7',\n",
       " 'Frontal Opercular Cortex': 'FC5',\n",
       " 'Central Opercular Cortex': 'C3',\n",
       " 'Parietal Opercular Cortex': 'CP3',\n",
       " 'Planum Polare': 'FT7',\n",
       " \"Heschl's Gyrus (includes H1 and H2)\": 'T7',\n",
       " 'Planum Temporale': 'TP7',\n",
       " 'Supracalcarine Cortex': 'Oz',\n",
       " 'Occipital Pole': 'Oz'}"
      ]
     },
     "execution_count": 8,
     "metadata": {},
     "output_type": "execute_result"
    }
   ],
   "source": [
    "# Display the region-channel mapping. \n",
    "region_channel_mapping"
   ]
  },
  {
   "cell_type": "markdown",
   "metadata": {},
   "source": [
    "## **2. Gemma Chain-of-Thought**\n",
    "\n",
    "We use the **Gemma-2-2B-IT large language model** with a Chain-of-Thought approach, and select its hyperparameters in order to ensure a relative variety of responses. We define two prompts, one to predict cognitive functions based on EEG data, and the other to predict fMRI data based on cognitive functions. We run the large language model on the eegfmriNF condition of all subjects, for a selection of brain regions spanning both a reasonable fraction of the brain and a variety of cognitive functions. In the bar plot presenting the results, an indicative baseline is given for visualization purposes, but the real baseline depends both on the selected fMRI scans and the distribution of missing or ambiguous predictions. "
   ]
  },
  {
   "cell_type": "code",
   "execution_count": 9,
   "metadata": {},
   "outputs": [
    {
     "data": {
      "application/vnd.jupyter.widget-view+json": {
       "model_id": "f19310a470624deebaa94057e2272e85",
       "version_major": 2,
       "version_minor": 0
      },
      "text/plain": [
       "Loading checkpoint shards:   0%|          | 0/2 [00:00<?, ?it/s]"
      ]
     },
     "metadata": {},
     "output_type": "display_data"
    }
   ],
   "source": [
    "# Define the LLM to use. \n",
    "model_name = 'google/gemma-2-2b-it'\n",
    "\n",
    "# Load the tokenizer and the model. \n",
    "tokenizer_gemma = AutoTokenizer.from_pretrained(model_name)\n",
    "model_gemma = AutoModelForCausalLM.from_pretrained(model_name, torch_dtype = torch.float16, device_map = 'auto')"
   ]
  },
  {
   "cell_type": "code",
   "execution_count": 10,
   "metadata": {},
   "outputs": [],
   "source": [
    "# Define a function to create the first LLM prompt, from EEG to cognitive functions. \n",
    "def prompt_llm_eeg_to_cognition(X, fmri_scan_index, sequence_length, selected_bandpowers, selected_eeg_channel):\n",
    "\n",
    "    # Retrieve the sequence of features. \n",
    "    X_sequence = X[(fmri_scan_index - sequence_length):fmri_scan_index, :]\n",
    "\n",
    "    # Create the prompt. \n",
    "    bandpowers_results = ', '.join(\n",
    "        f\"{bandpower_names[bandpower_index]}: {X_sequence[:, bandpower_index]}\" for bandpower_index in selected_bandpowers\n",
    "    )\n",
    "    prompt = (\n",
    "        f\"A human subject participated in a neuroscience experiment where EEG data and fMRI data were recorded simultaneously. \"\n",
    "        f\"The EEG band powers were measured every two seconds at electrode {selected_eeg_channel}, \"\n",
    "        f\"with the following results: {bandpowers_results}. \"\n",
    "        f\"Given the EEG data, which cognitive functions is the subject likely engaging in? \"\n",
    "        f\"Base your answer on your general knowledge in neuroscience and EEG research. \"\n",
    "        f\"Please answer with only a list of cognitive functions. Just give your best prediction, without any explanation.\"\n",
    "    )\n",
    "\n",
    "    return prompt"
   ]
  },
  {
   "cell_type": "code",
   "execution_count": 11,
   "metadata": {},
   "outputs": [],
   "source": [
    "# Define a function to create the second LLM prompt, from cognitive functions to fMRI. \n",
    "def prompt_llm_cognition_to_fmri(cognitive_functions, selected_brain_region):\n",
    "\n",
    "    # Create the prompt. \n",
    "    prompt = (\n",
    "        f\"A human subject participated in a neuroscience experiment where EEG data and fMRI data were recorded simultaneously. \"\n",
    "        f\"This subject experienced the following cognitive functions: {cognitive_functions}. \"\n",
    "        f\"The fMRI BOLD signal was measured in the {selected_brain_region}. \"\n",
    "        f\"Given the cognitive functions, is the fMRI signal in this brain region likely increasing or decreasing? \"\n",
    "        f\"Base your answer on your general knowledge in neuroscience and fMRI research. \"\n",
    "        f\"Please answer with only one word: Increasing or Decreasing. Just give your best prediction, without any explanation.\"\n",
    "    )\n",
    "\n",
    "    return prompt"
   ]
  },
  {
   "cell_type": "code",
   "execution_count": 12,
   "metadata": {},
   "outputs": [],
   "source": [
    "# Define a function to run a LLM. \n",
    "def run_llm(prompt, tokenizer, model):\n",
    "\n",
    "    # Run the LLM. \n",
    "    inputs = tokenizer(prompt, return_tensors = 'pt').to(model.device)\n",
    "    output = model.generate(**inputs, \n",
    "                            max_new_tokens = 20, \n",
    "                            temperature = 1.2, \n",
    "                            top_p = 0.9, \n",
    "                            top_k = 50, \n",
    "                            do_sample = True, \n",
    "                            repetition_penalty = 1)\n",
    "\n",
    "    # Decode the generated text, remove the original prompt, and return the answer. \n",
    "    generated_text = tokenizer.decode(output[0], skip_special_tokens = True)\n",
    "    answer_only = generated_text[len(prompt):].strip()\n",
    "    \n",
    "    return answer_only"
   ]
  },
  {
   "cell_type": "code",
   "execution_count": 13,
   "metadata": {},
   "outputs": [],
   "source": [
    "# Define a function to run a LLM multiple times with a Chain-of-Thought approach. \n",
    "def run_llm_series(X, Y, fmri_scans, sequence_length, selected_bandpowers, selected_eeg_channel, selected_brain_region, tokenizer, model):\n",
    "\n",
    "    # Create the NumPy arrays to store the true values and predictions.     \n",
    "    Y_true = np.zeros(len(fmri_scans))\n",
    "    Y_pred = np.zeros(len(fmri_scans))\n",
    "    answers_cognitive_functions = []\n",
    "    answers_fmri_predictions = []\n",
    "    counter = 0\n",
    "\n",
    "    # Iterate through all selected fMRI scans. \n",
    "    for fmri_scan_index in fmri_scans:\n",
    "\n",
    "        # Create the first LLM prompt. \n",
    "        prompt_eeg_to_cognition = prompt_llm_eeg_to_cognition(X, \n",
    "                                                              fmri_scan_index = fmri_scan_index, \n",
    "                                                              sequence_length = sequence_length, \n",
    "                                                              selected_bandpowers = selected_bandpowers, \n",
    "                                                              selected_eeg_channel = selected_eeg_channel)\n",
    "        \n",
    "        # Run the LLM a first time, and store the result. \n",
    "        cognitive_functions = run_llm(prompt_eeg_to_cognition, tokenizer, model)\n",
    "        answers_cognitive_functions.append(cognitive_functions) # For debugging purposes. \n",
    "\n",
    "        # Create the second LLM prompt. \n",
    "        prompt_cognition_to_fmri = prompt_llm_cognition_to_fmri(cognitive_functions, \n",
    "                                                                selected_brain_region = selected_brain_region)\n",
    "        \n",
    "        # Run the LLM a second time, and store the result. \n",
    "        fmri_prediction = run_llm(prompt_cognition_to_fmri, tokenizer, model)\n",
    "        answers_fmri_predictions.append(fmri_prediction) # For debugging purposes. \n",
    "\n",
    "        # Analyze the answer. \n",
    "        increase_detected = 'increas' in fmri_prediction.lower()\n",
    "        decrease_detected = 'decreas' in fmri_prediction.lower()\n",
    "        if increase_detected and not decrease_detected:\n",
    "            Y_pred[counter] = 1\n",
    "        elif decrease_detected and not increase_detected:\n",
    "            Y_pred[counter] = 0\n",
    "        else:\n",
    "            Y_pred[counter] = -1\n",
    "\n",
    "        # Store the true value.\n",
    "        Y_true[counter] = Y[fmri_scan_index]\n",
    "\n",
    "        # Increment. \n",
    "        counter += 1\n",
    "\n",
    "    return Y_true, Y_pred"
   ]
  },
  {
   "cell_type": "code",
   "execution_count": 14,
   "metadata": {},
   "outputs": [
    {
     "name": "stdout",
     "output_type": "stream",
     "text": [
      "Brain region: Frontal Pole\n",
      "Brain region index: 1\n",
      "EEG channel: Fpz\n",
      "EEG channel index: 61\n"
     ]
    }
   ],
   "source": [
    "# Select a subject and a condition. \n",
    "subject = 'sub-xp101'\n",
    "condition = 'eegfmriNF'\n",
    "\n",
    "# Select a fMRI brain region and retrieve its corresponding EEG channel. \n",
    "selected_brain_region = 'Frontal Pole'\n",
    "selected_brain_region_index = list(targets).index(selected_brain_region)\n",
    "selected_eeg_channel = region_channel_mapping[selected_brain_region]\n",
    "selected_eeg_channel_index = channel_names.index(selected_eeg_channel)\n",
    "\n",
    "# Display the fMRI brain region and its corresponding EEG channel. \n",
    "print('Brain region:', selected_brain_region)\n",
    "print('Brain region index:', int(selected_brain_region_index))\n",
    "print('EEG channel:', selected_eeg_channel)\n",
    "print('EEG channel index:', int(selected_eeg_channel_index))"
   ]
  },
  {
   "cell_type": "code",
   "execution_count": 15,
   "metadata": {},
   "outputs": [],
   "source": [
    "# Retrieve the features for the selected subject, condition, and EEG channel. \n",
    "X = dict_features_basis_class[subject][condition][:, (selected_eeg_channel_index * len(bandpower_names)):(selected_eeg_channel_index * len(bandpower_names)) + len(bandpower_names)]\n",
    "\n",
    "# Retrieve the targets for the selected subject, condition, and fMRI brain region. \n",
    "Y = dict_targets_basis_class[subject][condition][:, selected_brain_region_index]\n",
    "\n",
    "# Select the sequence length and the bandpowers. \n",
    "sequence_length = 5\n",
    "selected_bandpowers = [0, 1, 2, 4]"
   ]
  },
  {
   "cell_type": "code",
   "execution_count": 16,
   "metadata": {},
   "outputs": [
    {
     "data": {
      "text/plain": [
       "'A human subject participated in a neuroscience experiment where EEG data and fMRI data were recorded simultaneously. The EEG band powers were measured every two seconds at electrode Fpz, with the following results: Delta (1-4 Hz): [-0.22278232  0.64400346  1.11835758 -1.24585523 -0.13343407], Theta (4-8 Hz): [ 0.3256324  -0.68492586 -0.96076972  0.99095653 -0.37529182], Alpha (8-12 Hz): [-0.40537466 -0.04844749 -0.69866725  0.40412502  1.11390381], Beta (16-30 Hz): [ 0.55265258 -0.03498027 -0.91193884  1.92475433  1.92719948]. Given the EEG data, which cognitive functions is the subject likely engaging in? Base your answer on your general knowledge in neuroscience and EEG research. Please answer with only a list of cognitive functions. Just give your best prediction, without any explanation.'"
      ]
     },
     "execution_count": 16,
     "metadata": {},
     "output_type": "execute_result"
    }
   ],
   "source": [
    "# Create the first LLM prompt. \n",
    "prompt_eeg_to_cognition = prompt_llm_eeg_to_cognition(X, \n",
    "                                                      fmri_scan_index = 5, \n",
    "                                                      sequence_length = sequence_length, \n",
    "                                                      selected_bandpowers = selected_bandpowers, \n",
    "                                                      selected_eeg_channel = selected_eeg_channel)\n",
    "prompt_eeg_to_cognition"
   ]
  },
  {
   "cell_type": "code",
   "execution_count": 17,
   "metadata": {},
   "outputs": [
    {
     "data": {
      "text/plain": [
       "'* Meditation\\n* Emotional regulation\\n* Focused attention\\n* Sleep onset \\n* Working memory'"
      ]
     },
     "execution_count": 17,
     "metadata": {},
     "output_type": "execute_result"
    }
   ],
   "source": [
    "# Run the LLM, and display the result. \n",
    "cognitive_functions = run_llm(prompt_eeg_to_cognition, tokenizer_gemma, model_gemma)\n",
    "cognitive_functions"
   ]
  },
  {
   "cell_type": "code",
   "execution_count": 18,
   "metadata": {},
   "outputs": [
    {
     "data": {
      "text/plain": [
       "'A human subject participated in a neuroscience experiment where EEG data and fMRI data were recorded simultaneously. This subject experienced the following cognitive functions: * Meditation\\n* Emotional regulation\\n* Focused attention\\n* Sleep onset \\n* Working memory. The fMRI BOLD signal was measured in the Frontal Pole. Given the cognitive functions, is the fMRI signal in this brain region likely increasing or decreasing? Base your answer on your general knowledge in neuroscience and fMRI research. Please answer with only one word: Increasing or Decreasing. Just give your best prediction, without any explanation.'"
      ]
     },
     "execution_count": 18,
     "metadata": {},
     "output_type": "execute_result"
    }
   ],
   "source": [
    "# Create the second LLM prompt. \n",
    "prompt_cognition_to_fmri = prompt_llm_cognition_to_fmri(cognitive_functions, \n",
    "                                                        selected_brain_region = selected_brain_region)\n",
    "prompt_cognition_to_fmri"
   ]
  },
  {
   "cell_type": "code",
   "execution_count": 19,
   "metadata": {},
   "outputs": [
    {
     "data": {
      "text/plain": [
       "'**Increasing**'"
      ]
     },
     "execution_count": 19,
     "metadata": {},
     "output_type": "execute_result"
    }
   ],
   "source": [
    "# Run the LLM, and display the result. \n",
    "fmri_prediction = run_llm(prompt_cognition_to_fmri, tokenizer_gemma, model_gemma)\n",
    "fmri_prediction"
   ]
  },
  {
   "cell_type": "code",
   "execution_count": 20,
   "metadata": {},
   "outputs": [
    {
     "data": {
      "text/plain": [
       "0.47368421052631576"
      ]
     },
     "execution_count": 20,
     "metadata": {},
     "output_type": "execute_result"
    }
   ],
   "source": [
    "# Run the LLM multiple times. \n",
    "fmri_scans = range(5, (nb_scans_total - 1), 10)\n",
    "Y_true, Y_pred = run_llm_series(X, Y, fmri_scans, sequence_length, selected_bandpowers, selected_eeg_channel, selected_brain_region, tokenizer_gemma, model_gemma)\n",
    "\n",
    "# Compute the average accuracy. \n",
    "accuracy_array = Y_pred[Y_pred != -1] == Y_true[Y_pred != -1]\n",
    "accuracy_sequence = np.sum(accuracy_array) / accuracy_array.shape[0]\n",
    "accuracy_sequence"
   ]
  },
  {
   "cell_type": "code",
   "execution_count": 21,
   "metadata": {},
   "outputs": [
    {
     "name": "stdout",
     "output_type": "stream",
     "text": [
      "Frontal Pole\n",
      "sub-xp101: 2 ambiguous prediction(s) out of 20 - 10.0 %\n",
      "sub-xp103: 3 ambiguous prediction(s) out of 20 - 15.0 %\n",
      "sub-xp104: 1 ambiguous prediction(s) out of 20 - 5.0 %\n",
      "sub-xp105: 1 ambiguous prediction(s) out of 20 - 5.0 %\n",
      "sub-xp106: 0 ambiguous prediction(s) out of 20 - 0.0 %\n",
      "sub-xp107: 2 ambiguous prediction(s) out of 20 - 10.0 %\n",
      "sub-xp108: 0 ambiguous prediction(s) out of 20 - 0.0 %\n",
      "sub-xp109: 1 ambiguous prediction(s) out of 20 - 5.0 %\n",
      "sub-xp110: 0 ambiguous prediction(s) out of 20 - 0.0 %\n",
      "Precentral Gyrus\n",
      "sub-xp101: 1 ambiguous prediction(s) out of 20 - 5.0 %\n",
      "sub-xp103: 0 ambiguous prediction(s) out of 20 - 0.0 %\n",
      "sub-xp104: 1 ambiguous prediction(s) out of 20 - 5.0 %\n",
      "sub-xp105: 1 ambiguous prediction(s) out of 20 - 5.0 %\n",
      "sub-xp106: 1 ambiguous prediction(s) out of 20 - 5.0 %\n",
      "sub-xp107: 1 ambiguous prediction(s) out of 20 - 5.0 %\n",
      "sub-xp108: 0 ambiguous prediction(s) out of 20 - 0.0 %\n",
      "sub-xp109: 0 ambiguous prediction(s) out of 20 - 0.0 %\n",
      "sub-xp110: 1 ambiguous prediction(s) out of 20 - 5.0 %\n",
      "Superior Temporal Gyrus, posterior division\n",
      "sub-xp101: 0 ambiguous prediction(s) out of 20 - 0.0 %\n",
      "sub-xp103: 2 ambiguous prediction(s) out of 20 - 10.0 %\n",
      "sub-xp104: 2 ambiguous prediction(s) out of 20 - 10.0 %\n",
      "sub-xp105: 2 ambiguous prediction(s) out of 20 - 10.0 %\n",
      "sub-xp106: 0 ambiguous prediction(s) out of 20 - 0.0 %\n",
      "sub-xp107: 0 ambiguous prediction(s) out of 20 - 0.0 %\n",
      "sub-xp108: 3 ambiguous prediction(s) out of 20 - 15.0 %\n",
      "sub-xp109: 0 ambiguous prediction(s) out of 20 - 0.0 %\n",
      "sub-xp110: 2 ambiguous prediction(s) out of 20 - 10.0 %\n",
      "Superior Parietal Lobule\n",
      "sub-xp101: 0 ambiguous prediction(s) out of 20 - 0.0 %\n",
      "sub-xp103: 1 ambiguous prediction(s) out of 20 - 5.0 %\n",
      "sub-xp104: 1 ambiguous prediction(s) out of 20 - 5.0 %\n",
      "sub-xp105: 2 ambiguous prediction(s) out of 20 - 10.0 %\n",
      "sub-xp106: 0 ambiguous prediction(s) out of 20 - 0.0 %\n",
      "sub-xp107: 1 ambiguous prediction(s) out of 20 - 5.0 %\n",
      "sub-xp108: 1 ambiguous prediction(s) out of 20 - 5.0 %\n",
      "sub-xp109: 1 ambiguous prediction(s) out of 20 - 5.0 %\n",
      "sub-xp110: 1 ambiguous prediction(s) out of 20 - 5.0 %\n",
      "Occipital Pole\n",
      "sub-xp101: 0 ambiguous prediction(s) out of 20 - 0.0 %\n",
      "sub-xp103: 1 ambiguous prediction(s) out of 20 - 5.0 %\n",
      "sub-xp104: 2 ambiguous prediction(s) out of 20 - 10.0 %\n",
      "sub-xp105: 1 ambiguous prediction(s) out of 20 - 5.0 %\n",
      "sub-xp106: 1 ambiguous prediction(s) out of 20 - 5.0 %\n",
      "sub-xp107: 0 ambiguous prediction(s) out of 20 - 0.0 %\n",
      "sub-xp108: 2 ambiguous prediction(s) out of 20 - 10.0 %\n",
      "sub-xp109: 0 ambiguous prediction(s) out of 20 - 0.0 %\n",
      "sub-xp110: 0 ambiguous prediction(s) out of 20 - 0.0 %\n"
     ]
    }
   ],
   "source": [
    "# Select a condition and a list of brain regions. \n",
    "condition = 'eegfmriNF'\n",
    "brain_regions = ['Frontal Pole', # High-order cognitive functions, but sometimes noisy EEG signal. \n",
    "                 'Precentral Gyrus', # Primary motor cortex. \n",
    "                 'Superior Temporal Gyrus, posterior division', # Auditory functions. \n",
    "                 'Superior Parietal Lobule', # Attention functions. \n",
    "                 'Occipital Pole'] # Primary visual cortex. \n",
    "\n",
    "# Select a sequence of fMRI scans. \n",
    "fmri_scans = range(5, (nb_scans_total - 1), 10) # Extensive search.\n",
    "#fmri_scans = range(5, (nb_scans_total - 1), 100) # Quick search for debugging.\n",
    "\n",
    "# Store the brain regions and the sequence of fMRI scans in dictionaries. \n",
    "dict_brain_regions['Large Language Model Chain-of-Thought'] = brain_regions\n",
    "dict_fmri_scans['Large Language Model Chain-of-Thought'] = fmri_scans\n",
    "\n",
    "# Define a dictionary to store the predictions and a Pandas DataFrame to store the accuracy. \n",
    "dict_predictions_gemma_CoT = dict()\n",
    "accuracy_summary_gemma_CoT = pd.DataFrame(columns = brain_regions)\n",
    "\n",
    "# Iterate through all brain regions. \n",
    "for selected_brain_region in brain_regions:\n",
    "\n",
    "    # Display the current brain region. \n",
    "    print(selected_brain_region)\n",
    "\n",
    "    # Retrieve the EEG channel corresponding to the brain region. \n",
    "    selected_brain_region_index = list(targets).index(selected_brain_region)\n",
    "    selected_eeg_channel = region_channel_mapping[selected_brain_region]\n",
    "    selected_eeg_channel_index = channel_names.index(selected_eeg_channel)\n",
    "\n",
    "    # Define a dictionary to store the predictions for this brain region. \n",
    "    dict_predictions_gemma_CoT[selected_brain_region] = dict()\n",
    "\n",
    "    # Iterate through all subjects. \n",
    "    for subject in subjects:\n",
    "        \n",
    "        # Retrieve the features for the selected subject, condition, and EEG channel. \n",
    "        X = dict_features_basis_class[subject][condition][:, (selected_eeg_channel_index * len(bandpower_names)):(selected_eeg_channel_index * len(bandpower_names)) + len(bandpower_names)]\n",
    "\n",
    "        # Retrieve the targets for the selected subject, condition, and fMRI brain region. \n",
    "        Y = dict_targets_basis_class[subject][condition][:, selected_brain_region_index]\n",
    "\n",
    "        # Run the LLM multiple times. \n",
    "        Y_true, Y_pred = run_llm_series(X, Y, fmri_scans, sequence_length, selected_bandpowers, selected_eeg_channel, selected_brain_region, tokenizer_gemma, model_gemma)\n",
    "\n",
    "        # Store the predictions. \n",
    "        dict_predictions_gemma_CoT[selected_brain_region][subject] = Y_pred\n",
    "        \n",
    "        # Compute and store the average accuracy. \n",
    "        accuracy_array = Y_pred[Y_pred != -1] == Y_true[Y_pred != -1]\n",
    "        accuracy_sequence = np.sum(accuracy_array) / accuracy_array.shape[0]\n",
    "        accuracy_summary_gemma_CoT.loc[subject, selected_brain_region] = accuracy_sequence\n",
    "\n",
    "        # Display the number of ambiguous predictions. \n",
    "        print(subject + ': ' + str(np.sum(Y_pred == -1)), 'ambiguous prediction(s) out of', len(Y_pred), '-', str(np.sum(Y_pred == -1) / len(Y_pred) * 100), '%')"
   ]
  },
  {
   "cell_type": "code",
   "execution_count": 22,
   "metadata": {},
   "outputs": [
    {
     "name": "stdout",
     "output_type": "stream",
     "text": [
      "Original device of the model: mps:0\n",
      "==================\n",
      "STEP 1: EEG to Cognitive Functions\n",
      "Prompt length: 802\n",
      "Total FLOPs: 2,096,508,276,992\n",
      "FLOPs by operator: Counter({'linear': 2096508174336, 'matmul': 102656})\n",
      "==================\n",
      "STEP 2: Cognitive Functions to fMRI\n",
      "Prompt length: 619\n",
      "Total FLOPs: 1,618,127,959,424\n",
      "FLOPs by operator: Counter({'linear': 1618127880192, 'matmul': 79232})\n",
      "Model moved back to: mps:0\n"
     ]
    }
   ],
   "source": [
    "# Set the logging level to suppress warnings. \n",
    "logging.getLogger('fvcore.nn.jit_handles').setLevel(logging.ERROR)\n",
    "logging.getLogger('fvcore.nn.jit_analysis').setLevel(logging.ERROR)\n",
    "\n",
    "# Store current device. \n",
    "device_before = next(model_gemma.parameters()).device\n",
    "print('Original device of the model:', device_before)\n",
    "\n",
    "# Define a class wrapping the model. \n",
    "# We output only logits (Tensor data type) for compatibility with FlopCountAnalysis. \n",
    "class WrappedModel(torch.nn.Module):\n",
    "    def __init__(self, model):\n",
    "        super().__init__()\n",
    "        self.model = model\n",
    "    def forward(self, input_ids):\n",
    "        output = self.model(input_ids)\n",
    "        return output.logits\n",
    "\n",
    "# Move the model to CPU. \n",
    "model_gemma_cpu = WrappedModel(model_gemma).to('cpu')\n",
    "\n",
    "# Prepare dummy input for FLOPs analysis. \n",
    "print('==================')\n",
    "print('STEP 1: EEG to Cognitive Functions')\n",
    "dummy_input = (torch.ones((1, len(prompt_eeg_to_cognition)), dtype = torch.long),) # batch_size = 1, seq_len = prompt length\n",
    "print('Prompt length:', len(prompt_eeg_to_cognition))\n",
    "\n",
    "# Measure the FLOPs. \n",
    "flops_eeg_to_cognition = FlopCountAnalysis(model_gemma_cpu, dummy_input)\n",
    "print(f'Total FLOPs: {flops_eeg_to_cognition.total():,}')\n",
    "print('FLOPs by operator:', flops_eeg_to_cognition.by_operator())\n",
    "\n",
    "# Prepare dummy input for FLOPs analysis. \n",
    "print('==================')\n",
    "print('STEP 2: Cognitive Functions to fMRI')\n",
    "dummy_input = (torch.ones((1, len(prompt_cognition_to_fmri)), dtype = torch.long),) # batch_size = 1, seq_len = prompt length\n",
    "print('Prompt length:', len(prompt_cognition_to_fmri))\n",
    "\n",
    "# Measure the FLOPs. \n",
    "flops_cognition_to_fmri = FlopCountAnalysis(model_gemma_cpu, dummy_input)\n",
    "print(f'Total FLOPs: {flops_cognition_to_fmri.total():,}')\n",
    "print('FLOPs by operator:', flops_cognition_to_fmri.by_operator())\n",
    "\n",
    "# Move the model back to its original device. \n",
    "model_gemma.to(device_before)\n",
    "print('Model moved back to:', device_before)"
   ]
  },
  {
   "cell_type": "code",
   "execution_count": 23,
   "metadata": {},
   "outputs": [
    {
     "name": "stdout",
     "output_type": "stream",
     "text": [
      "FLOPs per inference, EEG to cognitive functions: 2096508276992\n",
      "FLOPs per inference, cognitive functions to fMRI: 1618127959424\n"
     ]
    }
   ],
   "source": [
    "# Store and display the number of FLOPs. \n",
    "dict_flops['Large Language Model Chain-of-Thought: EEG to Cognitive Functions'] = flops_eeg_to_cognition.total()\n",
    "dict_flops['Large Language Model Chain-of-Thought: Cognitive Functions to fMRI'] = flops_cognition_to_fmri.total()\n",
    "print('FLOPs per inference, EEG to cognitive functions:', flops_eeg_to_cognition.total())\n",
    "print('FLOPs per inference, cognitive functions to fMRI:', flops_cognition_to_fmri.total())"
   ]
  },
  {
   "cell_type": "code",
   "execution_count": 24,
   "metadata": {},
   "outputs": [
    {
     "data": {
      "text/html": [
       "<div>\n",
       "<style scoped>\n",
       "    .dataframe tbody tr th:only-of-type {\n",
       "        vertical-align: middle;\n",
       "    }\n",
       "\n",
       "    .dataframe tbody tr th {\n",
       "        vertical-align: top;\n",
       "    }\n",
       "\n",
       "    .dataframe thead th {\n",
       "        text-align: right;\n",
       "    }\n",
       "</style>\n",
       "<table border=\"1\" class=\"dataframe\">\n",
       "  <thead>\n",
       "    <tr style=\"text-align: right;\">\n",
       "      <th></th>\n",
       "      <th>Frontal Pole</th>\n",
       "      <th>Precentral Gyrus</th>\n",
       "      <th>Superior Temporal Gyrus, posterior division</th>\n",
       "      <th>Superior Parietal Lobule</th>\n",
       "      <th>Occipital Pole</th>\n",
       "    </tr>\n",
       "  </thead>\n",
       "  <tbody>\n",
       "    <tr>\n",
       "      <th>sub-xp101</th>\n",
       "      <td>0.5</td>\n",
       "      <td>0.684211</td>\n",
       "      <td>0.4</td>\n",
       "      <td>0.6</td>\n",
       "      <td>0.4</td>\n",
       "    </tr>\n",
       "    <tr>\n",
       "      <th>sub-xp103</th>\n",
       "      <td>0.470588</td>\n",
       "      <td>0.55</td>\n",
       "      <td>0.666667</td>\n",
       "      <td>0.473684</td>\n",
       "      <td>0.578947</td>\n",
       "    </tr>\n",
       "    <tr>\n",
       "      <th>sub-xp104</th>\n",
       "      <td>0.368421</td>\n",
       "      <td>0.631579</td>\n",
       "      <td>0.333333</td>\n",
       "      <td>0.842105</td>\n",
       "      <td>0.555556</td>\n",
       "    </tr>\n",
       "    <tr>\n",
       "      <th>sub-xp105</th>\n",
       "      <td>0.263158</td>\n",
       "      <td>0.684211</td>\n",
       "      <td>0.611111</td>\n",
       "      <td>0.388889</td>\n",
       "      <td>0.631579</td>\n",
       "    </tr>\n",
       "    <tr>\n",
       "      <th>sub-xp106</th>\n",
       "      <td>0.4</td>\n",
       "      <td>0.578947</td>\n",
       "      <td>0.4</td>\n",
       "      <td>0.55</td>\n",
       "      <td>0.526316</td>\n",
       "    </tr>\n",
       "    <tr>\n",
       "      <th>sub-xp107</th>\n",
       "      <td>0.722222</td>\n",
       "      <td>0.473684</td>\n",
       "      <td>0.7</td>\n",
       "      <td>0.368421</td>\n",
       "      <td>0.5</td>\n",
       "    </tr>\n",
       "    <tr>\n",
       "      <th>sub-xp108</th>\n",
       "      <td>0.55</td>\n",
       "      <td>0.6</td>\n",
       "      <td>0.529412</td>\n",
       "      <td>0.631579</td>\n",
       "      <td>0.722222</td>\n",
       "    </tr>\n",
       "    <tr>\n",
       "      <th>sub-xp109</th>\n",
       "      <td>0.631579</td>\n",
       "      <td>0.6</td>\n",
       "      <td>0.5</td>\n",
       "      <td>0.526316</td>\n",
       "      <td>0.55</td>\n",
       "    </tr>\n",
       "    <tr>\n",
       "      <th>sub-xp110</th>\n",
       "      <td>0.55</td>\n",
       "      <td>0.578947</td>\n",
       "      <td>0.611111</td>\n",
       "      <td>0.473684</td>\n",
       "      <td>0.6</td>\n",
       "    </tr>\n",
       "  </tbody>\n",
       "</table>\n",
       "</div>"
      ],
      "text/plain": [
       "          Frontal Pole Precentral Gyrus  \\\n",
       "sub-xp101          0.5         0.684211   \n",
       "sub-xp103     0.470588             0.55   \n",
       "sub-xp104     0.368421         0.631579   \n",
       "sub-xp105     0.263158         0.684211   \n",
       "sub-xp106          0.4         0.578947   \n",
       "sub-xp107     0.722222         0.473684   \n",
       "sub-xp108         0.55              0.6   \n",
       "sub-xp109     0.631579              0.6   \n",
       "sub-xp110         0.55         0.578947   \n",
       "\n",
       "          Superior Temporal Gyrus, posterior division  \\\n",
       "sub-xp101                                         0.4   \n",
       "sub-xp103                                    0.666667   \n",
       "sub-xp104                                    0.333333   \n",
       "sub-xp105                                    0.611111   \n",
       "sub-xp106                                         0.4   \n",
       "sub-xp107                                         0.7   \n",
       "sub-xp108                                    0.529412   \n",
       "sub-xp109                                         0.5   \n",
       "sub-xp110                                    0.611111   \n",
       "\n",
       "          Superior Parietal Lobule Occipital Pole  \n",
       "sub-xp101                      0.6            0.4  \n",
       "sub-xp103                 0.473684       0.578947  \n",
       "sub-xp104                 0.842105       0.555556  \n",
       "sub-xp105                 0.388889       0.631579  \n",
       "sub-xp106                     0.55       0.526316  \n",
       "sub-xp107                 0.368421            0.5  \n",
       "sub-xp108                 0.631579       0.722222  \n",
       "sub-xp109                 0.526316           0.55  \n",
       "sub-xp110                 0.473684            0.6  "
      ]
     },
     "execution_count": 24,
     "metadata": {},
     "output_type": "execute_result"
    }
   ],
   "source": [
    "# Display the accuracies per subject and brain region. \n",
    "accuracy_summary_gemma_CoT"
   ]
  },
  {
   "cell_type": "code",
   "execution_count": 25,
   "metadata": {},
   "outputs": [
    {
     "data": {
      "image/png": "[encoded data removed]",
      "text/plain": [
       "<Figure size 1000x400 with 1 Axes>"
      ]
     },
     "metadata": {},
     "output_type": "display_data"
    }
   ],
   "source": [
    "# Retrieve the average accuracy across subjects, and the standard error of the accuracy across subjects. \n",
    "accuracy_mean = list(accuracy_summary_gemma_CoT.mean().values)\n",
    "accuracy_mean.insert(0, 0.5) # Insert a baseline average of 0.5. \n",
    "accuracy_se = list(accuracy_summary_gemma_CoT.std().values / np.sqrt(len(subjects)))\n",
    "accuracy_se.insert(0, 0) # Insert a baseline standard error of 0. \n",
    "\n",
    "# Append the total average accuracy and its standard error. \n",
    "nb_brain_regions = accuracy_summary_gemma_CoT.shape[1]\n",
    "accuracy_mean.append(np.mean(accuracy_mean[1:]))\n",
    "accuracy_se.append(np.std(accuracy_mean[1:]) / (np.sqrt(len(subjects) * nb_brain_regions)))\n",
    "\n",
    "# Create the labels. \n",
    "labels = brain_regions.copy()\n",
    "labels.insert(0, 'Baseline')\n",
    "labels.append('Total')\n",
    "\n",
    "# Display the average accuracy and its standard error in a bar plot. \n",
    "fig, axes = plt.subplots(nrows = 1, ncols = 1, figsize = (10, 4))\n",
    "axes.bar(range(nb_brain_regions + 2), accuracy_mean, width = 0.6, color = ['green', *['blue'] * nb_brain_regions, 'mediumblue'])\n",
    "axes.errorbar(range(nb_brain_regions + 2), accuracy_mean, yerr = accuracy_se, fmt = 'None', color = 'black')\n",
    "axes.axhline(accuracy_mean[0], 0, 1, color = 'green', linestyle = 'dashed', alpha = 0.5)\n",
    "axes.set_xticks(range(nb_brain_regions + 2), labels = labels)\n",
    "axes.set_xticklabels(labels, rotation = 45, ha = 'right')\n",
    "axes.set_ylabel('Average accuracy across subjects')\n",
    "axes.set_title('Gemma-2-2B-IT with Chain-of-Thought');"
   ]
  },
  {
   "cell_type": "markdown",
   "metadata": {},
   "source": [
    "## **3. Results**"
   ]
  },
  {
   "cell_type": "code",
   "execution_count": 26,
   "metadata": {},
   "outputs": [],
   "source": [
    "# Save the predictions into a Pickle file. \n",
    "with open(results_path + 'classification/dict_predictions_gemma_CoT.p', 'wb') as file:\n",
    "    pickle.dump(dict_predictions_gemma_CoT, file)\n",
    "\n",
    "# Save the summary into a Pickle file. \n",
    "with open(results_path + 'classification/df_summary_gemma_CoT.p', 'wb') as file:\n",
    "    pickle.dump(accuracy_summary_gemma_CoT, file)\n",
    "\n",
    "# Save the brain regions, sequences of fMRI scans, and FLOPs into Pickle files. \n",
    "with open(results_path + 'brain_regions_large_language_model_CoT.p', 'wb') as file:\n",
    "    pickle.dump(dict_brain_regions, file)\n",
    "with open(results_path + 'fmri_scans_large_language_model_CoT.p', 'wb') as file:\n",
    "    pickle.dump(dict_fmri_scans, file)\n",
    "with open(results_path + 'flops_large_language_model_CoT.p', 'wb') as file:\n",
    "    pickle.dump(dict_flops, file)"
   ]
  }
 ],
 "metadata": {
  "kernelspec": {
   "display_name": "neuropolis-x1",
   "language": "python",
   "name": "python3"
  },
  "language_info": {
   "codemirror_mode": {
    "name": "ipython",
    "version": 3
   },
   "file_extension": ".py",
   "mimetype": "text/x-python",
   "name": "python",
   "nbconvert_exporter": "python",
   "pygments_lexer": "ipython3",
   "version": "3.11.11"
  }
 },
 "nbformat": 4,
 "nbformat_minor": 2
}
